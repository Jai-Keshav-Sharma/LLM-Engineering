{
 "cells": [
  {
   "cell_type": "markdown",
   "id": "520a7ba3",
   "metadata": {},
   "source": [
    "## **Comparing an Open-Source and a Frontier Model for Coding Task !!**"
   ]
  },
  {
   "cell_type": "code",
   "execution_count": 1,
   "id": "155c5f26",
   "metadata": {},
   "outputs": [],
   "source": [
    "import os\n",
    "import requests\n",
    "from dotenv import load_dotenv\n",
    "from openai import OpenAI\n",
    "import sys\n",
    "import io\n",
    "import subprocess\n",
    "import gradio as gr\n",
    "from IPython.display import Markdown, display, update_display\n",
    "\n",
    "\n",
    "\n",
    "from huggingface_hub import login, InferenceClient\n",
    "from transformers import AutoTokenizer  "
   ]
  },
  {
   "cell_type": "code",
   "execution_count": 2,
   "id": "7d2e3edb",
   "metadata": {},
   "outputs": [
    {
     "name": "stderr",
     "output_type": "stream",
     "text": [
      "Note: Environment variable`HF_TOKEN` is set and is the current active token independently from the token you've just configured.\n"
     ]
    }
   ],
   "source": [
    "hf_token = os.getenv(\"HF_TOKEN\")\n",
    "login(hf_token, add_to_git_credential=True)"
   ]
  },
  {
   "cell_type": "code",
   "execution_count": 3,
   "id": "432d627c",
   "metadata": {},
   "outputs": [
    {
     "data": {
      "text/plain": [
       "True"
      ]
     },
     "execution_count": 3,
     "metadata": {},
     "output_type": "execute_result"
    }
   ],
   "source": [
    "load_dotenv(override=True)"
   ]
  },
  {
   "cell_type": "markdown",
   "id": "84650b03",
   "metadata": {},
   "source": [
    "#### **System and User messages !!**"
   ]
  },
  {
   "cell_type": "code",
   "execution_count": 4,
   "id": "c199e2e2",
   "metadata": {},
   "outputs": [],
   "source": [
    "system_message = \"You are an assistant that reimplements Python code in high performance C++ code for an Windows 11 x64 PC.\"\n",
    "system_message += \"Respond only with C++ code; use comments sparingly and do not provide any explanation other than occasional comments.\"\n",
    "system_message += \"The C++ response needs to produce an identical output in the fastest possible time.\"\n",
    "system_message += \"Keep implementations of random number generators identical so that results match exactly.\"\n",
    "\n",
    "\n",
    "def user_promt_for(python):\n",
    "    user_prompt = \"Rewrite this Python code in C++ with the fastest possible implementation that produces identical output in the least time.\"\n",
    "    user_prompt += \"Respond only with C++ code; do not explain your work other thanb a few comments.\"\n",
    "    user_prompt += \"Pay attention to the number types to ensure no int overflows. Remember to #include all necessary C++ packages such as <iomanip>.\\n\\n\"\n",
    "    user_prompt += python\n",
    "    return user_prompt\n",
    "\n",
    "\n",
    "def messages_for(python):\n",
    "    return [\n",
    "        {'role': 'system', 'content': system_message}, \n",
    "        {'role': 'user', 'content': user_promt_for(python)}\n",
    "    ]"
   ]
  },
  {
   "cell_type": "code",
   "execution_count": 5,
   "id": "d1d18e21",
   "metadata": {},
   "outputs": [],
   "source": [
    "# write to a file called optimized.cpp\n",
    "\n",
    "def write_output(cpp):\n",
    "    code = cpp.replace(\"```cpp\", \"\").replace(\"```\", \"\")\n",
    "    with open(\"optimized.cpp\", \"w\") as f:\n",
    "        f.write(code)"
   ]
  },
  {
   "cell_type": "code",
   "execution_count": null,
   "id": "23921154",
   "metadata": {},
   "outputs": [],
   "source": [
    "# Simple Python code\n",
    "\n",
    "pi = \"\"\"\n",
    "import time\n",
    "\n",
    "def calculate(iterations, param1, param2):\n",
    "    result = 1.0\n",
    "    for i in range(1, iterations+1):\n",
    "        j = i * param1 - param2\n",
    "        result -= (1/j)\n",
    "        j = i * param1 + param2\n",
    "        result += (1/j)\n",
    "    return result\n",
    "\n",
    "start_time = time.time()\n",
    "result = calculate(100_000_000, 4, 1) * 4\n",
    "end_time = time.time()\n",
    "\n",
    "print(f\"Result: {result:.12f}\")\n",
    "print(f\"Execution Time: {(end_time - start_time):.6f} seconds\")\n",
    "\"\"\""
   ]
  },
  {
   "cell_type": "code",
   "execution_count": null,
   "id": "0b0c40be",
   "metadata": {},
   "outputs": [],
   "source": [
    "# Hard Python code\n",
    "\n",
    "python_hard = \"\"\"# Be careful to support large number sizes\n",
    "\n",
    "def lcg(seed, a=1664525, c=1013904223, m=2**32):\n",
    "    value = seed\n",
    "    while True:\n",
    "        value = (a * value + c) % m\n",
    "        yield value\n",
    "        \n",
    "def max_subarray_sum(n, seed, min_val, max_val):\n",
    "    lcg_gen = lcg(seed)\n",
    "    random_numbers = [next(lcg_gen) % (max_val - min_val + 1) + min_val for _ in range(n)]\n",
    "    max_sum = float('-inf')\n",
    "    for i in range(n):\n",
    "        current_sum = 0\n",
    "        for j in range(i, n):\n",
    "            current_sum += random_numbers[j]\n",
    "            if current_sum > max_sum:\n",
    "                max_sum = current_sum\n",
    "    return max_sum\n",
    "\n",
    "def total_max_subarray_sum(n, initial_seed, min_val, max_val):\n",
    "    total_sum = 0\n",
    "    lcg_gen = lcg(initial_seed)\n",
    "    for _ in range(20):\n",
    "        seed = next(lcg_gen)\n",
    "        total_sum += max_subarray_sum(n, seed, min_val, max_val)\n",
    "    return total_sum\n",
    "\n",
    "# Parameters\n",
    "n = 10000         # Number of random numbers\n",
    "initial_seed = 42 # Initial seed for the LCG\n",
    "min_val = -10     # Minimum value of random numbers\n",
    "max_val = 10      # Maximum value of random numbers\n",
    "\n",
    "# Timing the function\n",
    "import time\n",
    "start_time = time.time()\n",
    "result = total_max_subarray_sum(n, initial_seed, min_val, max_val)\n",
    "end_time = time.time()\n",
    "\n",
    "print(\"Total Maximum Subarray Sum (20 runs):\", result)\n",
    "print(\"Execution Time: {:.6f} seconds\".format(end_time - start_time))\n",
    "\"\"\""
   ]
  },
  {
   "cell_type": "code",
   "execution_count": 8,
   "id": "0563225c",
   "metadata": {},
   "outputs": [],
   "source": [
    "CODE_QWEN = \"Qwen/Qwen2.5-Coder-32B-Instruct\"\n",
    "GPT_MODEL = \"gpt-4.1-mini\"\n"
   ]
  },
  {
   "cell_type": "markdown",
   "id": "ed49147f",
   "metadata": {},
   "source": [
    "---"
   ]
  },
  {
   "cell_type": "markdown",
   "id": "eb958b90",
   "metadata": {},
   "source": [
    "> In this case, we are using `chat_completions_api`, so we dont need to convert messages into templates using the tokenizer.\n",
    "\n",
    "> We can directly pass the `messages`(system and user) to the model.\n",
    "\n",
    "> Tokenization, for now, is just for reference in case u work with a `text_generation_api`"
   ]
  },
  {
   "cell_type": "code",
   "execution_count": 9,
   "id": "0207f19c",
   "metadata": {},
   "outputs": [],
   "source": [
    "tokenizer = AutoTokenizer.from_pretrained(CODE_QWEN)\n",
    "messages = messages_for(pi) \n",
    "text = tokenizer.apply_chat_template(messages, tokenize=False, add_generation_prompt=True)"
   ]
  },
  {
   "cell_type": "markdown",
   "id": "ca0e0fc4",
   "metadata": {},
   "source": [
    "---"
   ]
  },
  {
   "cell_type": "code",
   "execution_count": null,
   "id": "2e5e8528",
   "metadata": {},
   "outputs": [
    {
     "name": "stdout",
     "output_type": "stream",
     "text": [
      "```cpp\n",
      "#include <iostream>\n",
      "#include <iomanip>\n",
      "#include <chrono>\n",
      "\n",
      "double calculate(int iterations, int param1, int param2) {\n",
      "    double result = 1.0;\n",
      "    for (int i = 1; i <= iterations; ++i) {\n",
      "        long long j = static_cast<long long>(i) * param1 - param2;\n",
      "        result -= 1.0 / j;\n",
      "        j = static_cast<long long>(i) * param1 + param2;\n",
      "        result += 1.0 / j;\n",
      "    }\n",
      "    return result;\n",
      "}\n",
      "\n",
      "int main() {\n",
      "    auto start_time = std::chrono::high_resolution_clock::now();\n",
      "    double result = calculate(100000000, 4, 1) * 4;\n",
      "    auto end_time = std::chrono::high_resolution_clock::now();\n",
      "\n",
      "    std::cout << std::fixed << std::setprecision(12);\n",
      "    std::cout << \"Result: \" << result << std::endl;\n",
      "\n",
      "    std::chrono::duration<double> duration = end_time - start_time;\n",
      "    std::cout << \"Execution Time: \" << duration.count() << \" seconds\" << std::endl;\n",
      "\n",
      "    return 0;\n",
      "}\n",
      "```"
     ]
    }
   ],
   "source": [
    "\n",
    "# Testing out the Open-Source Model\n",
    "\n",
    "client = InferenceClient(\n",
    "    provider=\"nebius\",\n",
    "    api_key=os.environ[\"HF_TOKEN\"],\n",
    ")\n",
    "\n",
    "stream = client.chat.completions.create(\n",
    "    model=CODE_QWEN,\n",
    "    messages=messages, \n",
    "    stream=True,\n",
    "    max_tokens=3000\n",
    ")\n",
    "\n",
    "full_response = \"\"\n",
    "for chunk in stream:\n",
    "    if chunk.choices[0].delta.content:\n",
    "        token = chunk.choices[0].delta.content\n",
    "        print(token, end=\"\", flush=True)\n",
    "        full_response += token"
   ]
  },
  {
   "cell_type": "code",
   "execution_count": null,
   "id": "f29cb43f",
   "metadata": {},
   "outputs": [],
   "source": [
    "# Code conversion using 'Qwen2.5-Coder-32B-Instruct'\n",
    "\n",
    "def stream_code_qwen(python):\n",
    "    messages = messages_for(python)\n",
    "    client = InferenceClient(provider=\"nebius\", api_key=os.getenv(\"HF_TOKEN\"))\n",
    "    stream = client.chat.completions.create(\n",
    "        model=CODE_QWEN, \n",
    "        messages=messages,\n",
    "        stream=True,\n",
    "        max_tokens=3000\n",
    "    )\n",
    "    full_response = \"\"\n",
    "    for chunk in stream:\n",
    "        fragment = chunk.choices[0].delta.content or \"\"\n",
    "        # full_response += fragment\n",
    "        # print(fragment, end=\"\", flush=True)\n",
    "        yield fragment\n",
    "\n",
    "    # return full_response"
   ]
  },
  {
   "cell_type": "code",
   "execution_count": null,
   "id": "f68efabc",
   "metadata": {},
   "outputs": [],
   "source": [
    "# Code conversion using 'gpt-4.1-mini'\n",
    "\n",
    "def stream_gpt(python):\n",
    "    messages = messages_for(python)\n",
    "    openai = OpenAI()\n",
    "    stream = openai.chat.completions.create(model=GPT_MODEL, messages=messages, stream=True, max_tokens=3000)\n",
    "\n",
    "    # reply=\"\"\n",
    "    for chunk in stream:\n",
    "        fragment = chunk.choices[0].delta.content or \"\"\n",
    "        # reply += fragment\n",
    "        # print(fragment, end=\"\", flush=True)\n",
    "        yield fragment\n",
    "        \n",
    "    # return reply"
   ]
  },
  {
   "cell_type": "code",
   "execution_count": null,
   "id": "35cebe68",
   "metadata": {},
   "outputs": [],
   "source": [
    "# To convert the code using any of the two models\n",
    "\n",
    "def optimize(python, model):\n",
    "    response = \"\"\n",
    "    if model == \"GPT\":\n",
    "        for chunk in stream_gpt(python):\n",
    "            response += chunk\n",
    "            yield response\n",
    "    elif model == \"CodeQwen\":\n",
    "        for chunk in stream_code_qwen(python):\n",
    "            response += chunk\n",
    "            yield response\n",
    "    else:\n",
    "        raise ValueError(\"Unknown Model\")"
   ]
  },
  {
   "cell_type": "code",
   "execution_count": 17,
   "id": "5fa624d0",
   "metadata": {},
   "outputs": [],
   "source": [
    "# To execute Python code\n",
    "\n",
    "def execute_python(code):\n",
    "    try:\n",
    "        output = io.StringIO()\n",
    "        sys.stdout = output\n",
    "        exec(code)\n",
    "    finally:\n",
    "        sys.stdout = sys.__stdout__\n",
    "    return output.getvalue()\n",
    "\n",
    "\n",
    "# To execute C++ code\n",
    "\n",
    "def execute_cpp(code):\n",
    "    write_output(code)\n",
    "    try:\n",
    "        compile_cmd = [\n",
    "            \"g++\", \"-Ofast\", \"-std=c++17\", \"-march=native\",\n",
    "            \"-o\", \"optimized.exe\", \"optimized.cpp\"\n",
    "        ]\n",
    "        compile_result = subprocess.run(compile_cmd, check=True, text=True, capture_output=True)\n",
    "        \n",
    "        run_cmd = [\"optimized.exe\"]\n",
    "        run_result = subprocess.run(run_cmd, check=True, text=True, capture_output=True)\n",
    "        \n",
    "        return run_result.stdout\n",
    "    except subprocess.CalledProcessError as e:\n",
    "        return f\"An error occurred:\\n{e.stderr}\""
   ]
  },
  {
   "cell_type": "markdown",
   "id": "78a5b3d1",
   "metadata": {},
   "source": [
    "#### **UI time!!**"
   ]
  },
  {
   "cell_type": "code",
   "execution_count": 18,
   "id": "2e8b3f54",
   "metadata": {},
   "outputs": [],
   "source": [
    "css = \"\"\"\n",
    ".python {background-color: #306998;}\n",
    ".cpp {background-color: #050;}\n",
    "\"\"\""
   ]
  },
  {
   "cell_type": "code",
   "execution_count": null,
   "id": "bafa82df",
   "metadata": {},
   "outputs": [],
   "source": [
    "with gr.Blocks(css=css) as ui:\n",
    "    gr.Markdown(\"## Convert Code from Python to C++\")\n",
    "    with gr.Row():\n",
    "        python = gr.Textbox(label=\"Python Code\", value=pi, lines=10)\n",
    "        cpp = gr.Textbox(label=\"C++ Code\", lines=10)\n",
    "    with gr.Row():\n",
    "        model = gr.Dropdown([\"GPT\", \"CodeQwen\"], label=\"Select Model\", value=\"GPT\")\n",
    "    with gr.Row():\n",
    "        convert = gr.Button(\"Convert Code\")\n",
    "    with gr.Row():\n",
    "        python_run = gr.Button(\"Run Python\")\n",
    "        cpp_run = gr.Button(\"Run C++\")\n",
    "    with gr.Row():\n",
    "        python_out = gr.TextArea(label=\"Python Result: \", elem_classes=[\"python\"])\n",
    "        cpp_out = gr.TextArea(label=\"C++ Result: \", elem_classes=[\"cpp\"])\n",
    "\n",
    "    convert.click(optimize, inputs=[python, model], outputs=[cpp])\n",
    "    python_run.click(execute_python, inputs=[python], outputs=[python_out])\n",
    "    cpp_run.click(execute_cpp, inputs=[cpp], outputs=[cpp_out])\n",
    "\n",
    "ui.launch(inbrowser=True)"
   ]
  },
  {
   "cell_type": "markdown",
   "id": "2076a4bb",
   "metadata": {},
   "source": [
    "> The Open-Source model, `Qwen2.5-Coder-32B-Instruct`, which is for now on top of the leaderboard, coudn't convert the `python_hard` code into a working C++ Code. \n",
    "---\n",
    "> However, the frontier model, `gpt-4.1-mini` did it successfully."
   ]
  }
 ],
 "metadata": {
  "kernelspec": {
   "display_name": "LLM_Engineering",
   "language": "python",
   "name": "python3"
  },
  "language_info": {
   "codemirror_mode": {
    "name": "ipython",
    "version": 3
   },
   "file_extension": ".py",
   "mimetype": "text/x-python",
   "name": "python",
   "nbconvert_exporter": "python",
   "pygments_lexer": "ipython3",
   "version": "3.13.3"
  }
 },
 "nbformat": 4,
 "nbformat_minor": 5
}
