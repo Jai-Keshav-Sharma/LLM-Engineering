{
 "cells": [
  {
   "cell_type": "markdown",
   "id": "79aad9a2",
   "metadata": {},
   "source": [
    "## **Using Frontier Models to Optimise a Python Code by converting it into C++ Code !!**"
   ]
  },
  {
   "cell_type": "code",
   "execution_count": 1,
   "id": "10831b2d",
   "metadata": {},
   "outputs": [],
   "source": [
    "import os\n",
    "import io\n",
    "import sys\n",
    "from dotenv import load_dotenv\n",
    "from openai import OpenAI\n",
    "from IPython.display import Markdown, display, update_display\n",
    "import gradio as gr \n",
    "import subprocess\n",
    "from ollama import Client"
   ]
  },
  {
   "cell_type": "code",
   "execution_count": 2,
   "id": "48152296",
   "metadata": {},
   "outputs": [],
   "source": [
    "load_dotenv(override=True)\n",
    "\n",
    "openai = OpenAI()\n",
    "OPENAI_MODEL = 'gpt-4.1-mini'\n",
    "\n",
    "client = Client()\n",
    "OLLAMA_MODEL='llama3.1:8b'"
   ]
  },
  {
   "cell_type": "markdown",
   "id": "6d968d38",
   "metadata": {},
   "source": [
    "#### Building System and User Messages"
   ]
  },
  {
   "cell_type": "code",
   "execution_count": 3,
   "id": "379c00d8",
   "metadata": {},
   "outputs": [],
   "source": [
    "system_message = \"You are an assistant that reimplements Python code in high performance C++ code for an Windows 11 x64 PC.\"\n",
    "system_message += \"Respond only with C++ code; use comments sparingly and do not provide any explanation other than occasional comments.\"\n",
    "system_message += \"The C++ response needs to produce an identical output in the fastest possible time.\""
   ]
  },
  {
   "cell_type": "code",
   "execution_count": 4,
   "id": "d1d5a71f",
   "metadata": {},
   "outputs": [],
   "source": [
    "def user_promt_for(python):\n",
    "    user_prompt = \"Rewrite this Python code in C++ with the fastest possible implementation that produces identical output in the least time.\"\n",
    "    user_prompt += \"Respond only with C++ code; do not explain your work other thanb a few comments.\"\n",
    "    user_prompt += \"Pay attention to the number types to ensure no int overflows. Remember to #include all necessary C++ packages such as <iomanip>.\\n\\n\"\n",
    "    user_prompt += python\n",
    "    return user_prompt"
   ]
  },
  {
   "cell_type": "code",
   "execution_count": 5,
   "id": "5eaf1ee4",
   "metadata": {},
   "outputs": [],
   "source": [
    "def messages_for(python):\n",
    "    return [\n",
    "        {'role': 'system', 'content': system_message}, \n",
    "        {'role': 'user', 'content': user_promt_for(python)}\n",
    "    ]"
   ]
  },
  {
   "cell_type": "code",
   "execution_count": 6,
   "id": "7787fb1c",
   "metadata": {},
   "outputs": [],
   "source": [
    "# write to a file called optimized.cpp\n",
    "\n",
    "def write_output(cpp):\n",
    "    code = cpp.replace(\"```cpp\", \"\").replace(\"```\", \"\")\n",
    "    with open(\"optimized.cpp\", \"w\") as f:\n",
    "        f.write(code)"
   ]
  },
  {
   "cell_type": "code",
   "execution_count": 7,
   "id": "3309c9d7",
   "metadata": {},
   "outputs": [],
   "source": [
    "def optimize_gpt(python):\n",
    "    stream = openai.chat.completions.create(model=OPENAI_MODEL, messages=messages_for(python), stream=True)\n",
    "    reply = \"\"\n",
    "\n",
    "    for chunk in stream:\n",
    "        fragment = chunk.choices[0].delta.content or \"\"\n",
    "        reply += fragment\n",
    "        print(fragment, end=\"\", flush=True)\n",
    "    write_output(reply)"
   ]
  },
  {
   "cell_type": "code",
   "execution_count": 8,
   "id": "1f5e4a2b",
   "metadata": {},
   "outputs": [],
   "source": [
    "pi = \"\"\"\n",
    "import time\n",
    "\n",
    "def calculate(iterations, param1, param2):\n",
    "    result = 1.0\n",
    "    for i in range(1, iterations+1):\n",
    "        j = i * param1 - param2\n",
    "        result -= (1/j)\n",
    "        j = i * param1 + param2\n",
    "        result += (1/j)\n",
    "    return result\n",
    "\n",
    "start_time = time.time()\n",
    "result = calculate(100_000_000, 4, 1) * 4\n",
    "end_time = time.time()\n",
    "\n",
    "print(f\"Result: {result:.12f}\")\n",
    "print(f\"Execution Time: {(end_time - start_time):.6f} seconds\")\n",
    "\"\"\""
   ]
  },
  {
   "cell_type": "code",
   "execution_count": 10,
   "id": "075d9ba5",
   "metadata": {},
   "outputs": [
    {
     "name": "stdout",
     "output_type": "stream",
     "text": [
      "Result: 3.141592658589\n",
      "Execution Time: 10.436005 seconds\n"
     ]
    }
   ],
   "source": [
    "exec(pi)"
   ]
  },
  {
   "cell_type": "code",
   "execution_count": 48,
   "id": "bdc003e4",
   "metadata": {},
   "outputs": [
    {
     "name": "stdout",
     "output_type": "stream",
     "text": [
      "```cpp\n",
      "#include <iostream>\n",
      "#include <iomanip>\n",
      "#include <chrono>\n",
      "\n",
      "double calculate(int64_t iterations, int64_t param1, int64_t param2) {\n",
      "    double result = 1.0;\n",
      "    for (int64_t i = 1; i <= iterations; ++i) {\n",
      "        double j = static_cast<double>(i * param1 - param2);\n",
      "        result -= 1.0 / j;\n",
      "        j = static_cast<double>(i * param1 + param2);\n",
      "        result += 1.0 / j;\n",
      "    }\n",
      "    return result;\n",
      "}\n",
      "\n",
      "int main() {\n",
      "    const int64_t iterations = 100000000;\n",
      "    const int64_t param1 = 4;\n",
      "    const int64_t param2 = 1;\n",
      "\n",
      "    auto start = std::chrono::high_resolution_clock::now();\n",
      "    \n",
      "    double result = calculate(iterations, param1, param2) * 4.0;\n",
      "    \n",
      "    auto end = std::chrono::high_resolution_clock::now();\n",
      "    std::chrono::duration<double> diff = end - start;\n",
      "\n",
      "    std::cout << std::fixed << std::setprecision(12);\n",
      "    std::cout << \"Result: \" << result << \"\\n\";\n",
      "    std::cout << \"Execution Time: \" << diff.count() << \" seconds\\n\";\n",
      "\n",
      "    return 0;\n",
      "}\n",
      "```"
     ]
    }
   ],
   "source": [
    "optimize_gpt(pi)"
   ]
  },
  {
   "cell_type": "markdown",
   "id": "317ae2c8",
   "metadata": {},
   "source": [
    "#### **See the difference !!**"
   ]
  },
  {
   "cell_type": "code",
   "execution_count": null,
   "id": "4e626184",
   "metadata": {},
   "outputs": [
    {
     "name": "stdout",
     "output_type": "stream",
     "text": [
      "Result: 3.141592658589\n",
      "Execution Time: 10.516519 seconds\n"
     ]
    }
   ],
   "source": [
    "# running the python code\n",
    "\n",
    "exec(pi)"
   ]
  },
  {
   "cell_type": "code",
   "execution_count": 49,
   "id": "4c40b9cd",
   "metadata": {},
   "outputs": [
    {
     "name": "stdout",
     "output_type": "stream",
     "text": [
      "Result: 3.141592658589\n",
      "Execution Time: 0.202601600000 seconds\n"
     ]
    }
   ],
   "source": [
    "# running the optimized c++ code !!\n",
    "\n",
    "!g++ -O3 -std=c++17 -march=native -o optimized optimized.cpp\n",
    "!optimized.exe\n"
   ]
  },
  {
   "cell_type": "code",
   "execution_count": 50,
   "id": "84502bd3",
   "metadata": {},
   "outputs": [],
   "source": [
    "python_hard = \"\"\"# Be careful to support large number sizes\n",
    "\n",
    "def lcg(seed, a=1664525, c=1013904223, m=2**32):\n",
    "    value = seed\n",
    "    while True:\n",
    "        value = (a * value + c) % m\n",
    "        yield value\n",
    "        \n",
    "def max_subarray_sum(n, seed, min_val, max_val):\n",
    "    lcg_gen = lcg(seed)\n",
    "    random_numbers = [next(lcg_gen) % (max_val - min_val + 1) + min_val for _ in range(n)]\n",
    "    max_sum = float('-inf')\n",
    "    for i in range(n):\n",
    "        current_sum = 0\n",
    "        for j in range(i, n):\n",
    "            current_sum += random_numbers[j]\n",
    "            if current_sum > max_sum:\n",
    "                max_sum = current_sum\n",
    "    return max_sum\n",
    "\n",
    "def total_max_subarray_sum(n, initial_seed, min_val, max_val):\n",
    "    total_sum = 0\n",
    "    lcg_gen = lcg(initial_seed)\n",
    "    for _ in range(20):\n",
    "        seed = next(lcg_gen)\n",
    "        total_sum += max_subarray_sum(n, seed, min_val, max_val)\n",
    "    return total_sum\n",
    "\n",
    "# Parameters\n",
    "n = 10000         # Number of random numbers\n",
    "initial_seed = 42 # Initial seed for the LCG\n",
    "min_val = -10     # Minimum value of random numbers\n",
    "max_val = 10      # Maximum value of random numbers\n",
    "\n",
    "# Timing the function\n",
    "import time\n",
    "start_time = time.time()\n",
    "result = total_max_subarray_sum(n, initial_seed, min_val, max_val)\n",
    "end_time = time.time()\n",
    "\n",
    "print(\"Total Maximum Subarray Sum (20 runs):\", result)\n",
    "print(\"Execution Time: {:.6f} seconds\".format(end_time - start_time))\n",
    "\"\"\""
   ]
  },
  {
   "cell_type": "code",
   "execution_count": 51,
   "id": "4ac502df",
   "metadata": {},
   "outputs": [
    {
     "name": "stdout",
     "output_type": "stream",
     "text": [
      "Total Maximum Subarray Sum (20 runs): 10980\n",
      "Execution Time: 38.317430 seconds\n"
     ]
    }
   ],
   "source": [
    "exec(python_hard)"
   ]
  },
  {
   "cell_type": "code",
   "execution_count": 58,
   "id": "2aa03a16",
   "metadata": {},
   "outputs": [
    {
     "name": "stdout",
     "output_type": "stream",
     "text": [
      "```cpp\n",
      "#include <iostream>\n",
      "#include <vector>\n",
      "#include <cstdint>\n",
      "#include <iomanip>\n",
      "#include <chrono>\n",
      "#include <algorithm>\n",
      "\n",
      "class LCG {\n",
      "    uint64_t value;\n",
      "    static constexpr uint64_t a = 1664525;\n",
      "    static constexpr uint64_t c = 1013904223;\n",
      "    static constexpr uint64_t m = (1ULL << 32);\n",
      "public:\n",
      "    explicit LCG(uint64_t seed) : value(seed) {}\n",
      "    uint32_t next() {\n",
      "        value = (a * value + c) % m;\n",
      "        return static_cast<uint32_t>(value);\n",
      "    }\n",
      "};\n",
      "\n",
      "int64_t max_subarray_sum(int n, uint32_t seed, int min_val, int max_val) {\n",
      "    LCG lcg(seed);\n",
      "    std::vector<int> random_numbers(n);\n",
      "    int range = max_val - min_val + 1;\n",
      "    for (int i = 0; i < n; ++i) {\n",
      "        random_numbers[i] = static_cast<int>(lcg.next() % range) + min_val;\n",
      "    }\n",
      "    // Kadane's algorithm for O(n)\n",
      "    int64_t max_sum = static_cast<int64_t>(random_numbers[0]);\n",
      "    int64_t current_sum = 0;\n",
      "    for (int i = 0; i < n; ++i) {\n",
      "        current_sum += random_numbers[i];\n",
      "        if (current_sum > max_sum)\n",
      "            max_sum = current_sum;\n",
      "        if (current_sum < 0)\n",
      "            current_sum = 0;\n",
      "    }\n",
      "    return max_sum;\n",
      "}\n",
      "\n",
      "int64_t total_max_subarray_sum(int n, uint32_t initial_seed, int min_val, int max_val) {\n",
      "    LCG lcg(initial_seed);\n",
      "    int64_t total_sum = 0;\n",
      "    for (int i = 0; i < 20; ++i) {\n",
      "        uint32_t seed = lcg.next();\n",
      "        total_sum += max_subarray_sum(n, seed, min_val, max_val);\n",
      "    }\n",
      "    return total_sum;\n",
      "}\n",
      "\n",
      "int main() {\n",
      "    constexpr int n = 10000;\n",
      "    constexpr uint32_t initial_seed = 42;\n",
      "    constexpr int min_val = -10;\n",
      "    constexpr int max_val = 10;\n",
      "\n",
      "    auto start = std::chrono::high_resolution_clock::now();\n",
      "    int64_t result = total_max_subarray_sum(n, initial_seed, min_val, max_val);\n",
      "    auto end = std::chrono::high_resolution_clock::now();\n",
      "\n",
      "    std::chrono::duration<double> elapsed = end - start;\n",
      "\n",
      "    std::cout << \"Total Maximum Subarray Sum (20 runs): \" << result << \"\\n\"\n",
      "              << \"Execution Time: \" << std::fixed << std::setprecision(6) << elapsed.count() << \" seconds\\n\";\n",
      "\n",
      "    return 0;\n",
      "}\n",
      "```"
     ]
    }
   ],
   "source": [
    "optimize_gpt(python_hard)"
   ]
  },
  {
   "cell_type": "code",
   "execution_count": 59,
   "id": "3e167dec",
   "metadata": {},
   "outputs": [
    {
     "name": "stdout",
     "output_type": "stream",
     "text": [
      "Total Maximum Subarray Sum (20 runs): 10980\n",
      "Execution Time: 0.000433 seconds\n"
     ]
    }
   ],
   "source": [
    "# running the optimized c++ code !!\n",
    "\n",
    "!g++ -O3 -std=c++17 -march=native -o optimized optimized.cpp\n",
    "!optimized.exe"
   ]
  },
  {
   "cell_type": "markdown",
   "id": "986799b5",
   "metadata": {},
   "source": [
    "#### **Time For Some UI !!**"
   ]
  },
  {
   "cell_type": "code",
   "execution_count": 60,
   "id": "b548b71e",
   "metadata": {},
   "outputs": [],
   "source": [
    "def stream_gpt(python):\n",
    "    stream = openai.chat.completions.create(model=OPENAI_MODEL, messages=messages_for(python), stream=True)\n",
    "    reply = \"\"\n",
    "\n",
    "    for chunk in stream:\n",
    "        fragment = chunk.choices[0].delta.content or \"\"\n",
    "        reply += fragment\n",
    "        yield reply.replace('```cpp\\n', '').replace('```','')"
   ]
  },
  {
   "cell_type": "code",
   "execution_count": null,
   "id": "3c9d8838",
   "metadata": {},
   "outputs": [],
   "source": [
    "with gr.Blocks() as ui:\n",
    "    with gr.Row():\n",
    "        python = gr.Textbox(label=\"Python Code\", lines=10)\n",
    "        cpp = gr.Textbox(label=\"C++ Code\", lines=10)\n",
    "    with gr.Row():\n",
    "        model=gr.Dropdown([\"GPT\"], label=\"Select Model\", value=\"GPT\")\n",
    "        convert = gr.Button(\"Convert Code\")\n",
    "    \n",
    "    convert.click(stream_gpt, inputs=[python], outputs=[cpp])\n",
    "ui.launch(inbrowser=True)"
   ]
  },
  {
   "cell_type": "code",
   "execution_count": 74,
   "id": "0ca0fb94",
   "metadata": {},
   "outputs": [],
   "source": [
    "def execute_python(code):\n",
    "    try:\n",
    "        output = io.StringIO()\n",
    "        sys.stdout = output\n",
    "        exec(code)\n",
    "    finally:\n",
    "        sys.stdout = sys.__stdout__\n",
    "    return output.getvalue()\n"
   ]
  },
  {
   "cell_type": "code",
   "execution_count": 75,
   "id": "f4a69ffd",
   "metadata": {},
   "outputs": [],
   "source": [
    "def execute_cpp(code):\n",
    "    write_output(code)\n",
    "    try:\n",
    "        compile_cmd = [\n",
    "            \"g++\", \"-Ofast\", \"-std=c++17\", \"-march=native\",\n",
    "            \"-o\", \"optimized.exe\", \"optimized.cpp\"\n",
    "        ]\n",
    "        compile_result = subprocess.run(compile_cmd, check=True, text=True, capture_output=True)\n",
    "        \n",
    "        run_cmd = [\"optimized.exe\"]\n",
    "        run_result = subprocess.run(run_cmd, check=True, text=True, capture_output=True)\n",
    "        \n",
    "        return run_result.stdout\n",
    "    except subprocess.CalledProcessError as e:\n",
    "        return f\"An error occurred:\\n{e.stderr}\"\n",
    "\n"
   ]
  },
  {
   "cell_type": "code",
   "execution_count": 76,
   "id": "c2f6d5ac",
   "metadata": {},
   "outputs": [],
   "source": [
    "css = \"\"\"\n",
    ".python {background-color: #306998;}\n",
    ".cpp {background-color: #050;}\n",
    "\"\"\""
   ]
  },
  {
   "cell_type": "code",
   "execution_count": 79,
   "id": "8c0ce99a",
   "metadata": {},
   "outputs": [
    {
     "name": "stdout",
     "output_type": "stream",
     "text": [
      "* Running on local URL:  http://127.0.0.1:7862\n",
      "* To create a public link, set `share=True` in `launch()`.\n"
     ]
    },
    {
     "data": {
      "text/html": [
       "<div><iframe src=\"http://127.0.0.1:7862/\" width=\"100%\" height=\"500\" allow=\"autoplay; camera; microphone; clipboard-read; clipboard-write;\" frameborder=\"0\" allowfullscreen></iframe></div>"
      ],
      "text/plain": [
       "<IPython.core.display.HTML object>"
      ]
     },
     "metadata": {},
     "output_type": "display_data"
    },
    {
     "data": {
      "text/plain": []
     },
     "execution_count": 79,
     "metadata": {},
     "output_type": "execute_result"
    }
   ],
   "source": [
    "with gr.Blocks(css=css) as ui:\n",
    "    gr.Markdown(\"## Convert code from Python to C++\")\n",
    "    with gr.Row():\n",
    "        python = gr.Textbox(label=\"Python code:\", value=python_hard, lines=10)\n",
    "        cpp = gr.Textbox(label=\"C++ code:\", lines=10)\n",
    "    with gr.Row():\n",
    "        model = gr.Dropdown([\"GPT\"], label=\"Select model\", value=\"GPT\")\n",
    "    with gr.Row():\n",
    "        convert = gr.Button(\"Convert code\")\n",
    "    with gr.Row():\n",
    "        python_run = gr.Button(\"Run Python\")\n",
    "        cpp_run = gr.Button(\"Run C++\")\n",
    "    with gr.Row():\n",
    "        python_out = gr.TextArea(label=\"Python result:\", elem_classes=[\"python\"])\n",
    "        cpp_out = gr.TextArea(label=\"C++ result:\", elem_classes=[\"cpp\"])\n",
    "\n",
    "    convert.click(stream_gpt, inputs=[python], outputs=[cpp])\n",
    "    python_run.click(execute_python, inputs=[python], outputs=[python_out])\n",
    "    cpp_run.click(execute_cpp, inputs=[cpp], outputs=[cpp_out])\n",
    "\n",
    "ui.launch(inbrowser=True)"
   ]
  }
 ],
 "metadata": {
  "kernelspec": {
   "display_name": "LLM_Engineering",
   "language": "python",
   "name": "python3"
  },
  "language_info": {
   "codemirror_mode": {
    "name": "ipython",
    "version": 3
   },
   "file_extension": ".py",
   "mimetype": "text/x-python",
   "name": "python",
   "nbconvert_exporter": "python",
   "pygments_lexer": "ipython3",
   "version": "3.13.3"
  }
 },
 "nbformat": 4,
 "nbformat_minor": 5
}
