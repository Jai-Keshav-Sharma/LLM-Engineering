{
 "cells": [
  {
   "cell_type": "code",
   "execution_count": 1,
   "id": "53669f07",
   "metadata": {},
   "outputs": [],
   "source": [
    "import os\n",
    "import requests\n",
    "from dotenv import load_dotenv\n",
    "from bs4 import BeautifulSoup\n",
    "from IPython.display import Markdown, display\n",
    "from openai import OpenAI"
   ]
  },
  {
   "cell_type": "code",
   "execution_count": 2,
   "id": "7f8fc25e",
   "metadata": {},
   "outputs": [
    {
     "name": "stderr",
     "output_type": "stream",
     "text": [
      "python-dotenv could not parse statement starting at line 11\n"
     ]
    },
    {
     "data": {
      "text/plain": [
       "True"
      ]
     },
     "execution_count": 2,
     "metadata": {},
     "output_type": "execute_result"
    }
   ],
   "source": [
    "load_dotenv(override=True)"
   ]
  },
  {
   "cell_type": "code",
   "execution_count": 34,
   "id": "38f37ab3",
   "metadata": {},
   "outputs": [],
   "source": [
    "openai = OpenAI()"
   ]
  },
  {
   "cell_type": "code",
   "execution_count": 25,
   "id": "1140dd54",
   "metadata": {},
   "outputs": [],
   "source": [
    "class Website:\n",
    "    \"\"\"\n",
    "    A utility class to represent a Website that we have scraped.\n",
    "    \"\"\"\n",
    "\n",
    "    url: str\n",
    "    title: str\n",
    "    text: str\n",
    "\n",
    "    def __init__(self, url):\n",
    "        \"\"\"\n",
    "        Create this Website object from the given url using the BeautifulSoup library.\n",
    "        \"\"\"\n",
    "\n",
    "        self.url = url\n",
    "        response = requests.get(url)\n",
    "        soup = BeautifulSoup(response.content, 'html.parser')\n",
    "        self.title = soup.title.string if soup.title else \"No title found\"\n",
    "        for irrelevant in soup.body([\"script\", \"style\", \"img\", \"input\"]):\n",
    "            irrelevant.decompose()\n",
    "        self.text = soup.body.get_text(separator=\"\\n\", strip=True)"
   ]
  },
  {
   "cell_type": "code",
   "execution_count": 26,
   "id": "2f6d790a",
   "metadata": {},
   "outputs": [
    {
     "name": "stdout",
     "output_type": "stream",
     "text": [
      "Home - Edward Donner\n",
      "Home\n",
      "Connect Four\n",
      "Outsmart\n",
      "An arena that pits LLMs against each other in a battle of diplomacy and deviousness\n",
      "About\n",
      "Posts\n",
      "Well, hi there.\n",
      "I’m Ed. I like writing code and experimenting with LLMs, and hopefully you’re here because you do too. I also enjoy DJing (but I’m badly out of practice), amateur electronic music production (\n",
      "very\n",
      "amateur) and losing myself in\n",
      "Hacker News\n",
      ", nodding my head sagely to things I only half understand.\n",
      "I’m the co-founder and CTO of\n",
      "Nebula.io\n",
      ". We’re applying AI to a field where it can make a massive, positive impact: helping people discover their potential and pursue their reason for being. Recruiters use our product today to source, understand, engage and manage talent. I’m previously the founder and CEO of AI startup untapt,\n",
      "acquired in 2021\n",
      ".\n",
      "We work with groundbreaking, proprietary LLMs verticalized for talent, we’ve\n",
      "patented\n",
      "our matching model, and our award-winning platform has happy customers and tons of press coverage.\n",
      "Connect\n",
      "with me for more!\n",
      "May 28, 2025\n",
      "Connecting my courses – become an LLM expert and leader\n",
      "May 18, 2025\n",
      "2025 AI Executive Briefing\n",
      "April 21, 2025\n",
      "The Complete Agentic AI Engineering Course\n",
      "January 23, 2025\n",
      "LLM Workshop – Hands-on with Agents – resources\n",
      "Navigation\n",
      "Home\n",
      "Connect Four\n",
      "Outsmart\n",
      "An arena that pits LLMs against each other in a battle of diplomacy and deviousness\n",
      "About\n",
      "Posts\n",
      "Get in touch\n",
      "ed [at] edwarddonner [dot] com\n",
      "www.edwarddonner.com\n",
      "Follow me\n",
      "LinkedIn\n",
      "Twitter\n",
      "Facebook\n",
      "Subscribe to newsletter\n",
      "Type your email…\n",
      "Subscribe\n"
     ]
    }
   ],
   "source": [
    "# Let's try this out\n",
    "\n",
    "ed = Website(\"https://edwarddonner.com\")\n",
    "print(ed.title)\n",
    "print(ed.text)"
   ]
  },
  {
   "cell_type": "markdown",
   "id": "f2f42cb8",
   "metadata": {},
   "source": [
    "### Types of Prompts\n",
    "\n",
    "Models like GPT4o have been trained to receive instructions in a particular way:  \n",
    "+ `System Prompt`: tells LLms what task they are performing and what tone they should use.  \n",
    "+ `User Prompt`: the conversation starter that they should reply to."
   ]
  },
  {
   "cell_type": "code",
   "execution_count": 27,
   "id": "9b21f39e",
   "metadata": {},
   "outputs": [],
   "source": [
    "system_prompt = \"You are an assistant that analyses the contents of a website \\\n",
    "    and provides a short sumamry, ignoring text that might be navigation related.\\\n",
    "    Respond in Markdown.\""
   ]
  },
  {
   "cell_type": "code",
   "execution_count": 28,
   "id": "3826c700",
   "metadata": {},
   "outputs": [],
   "source": [
    "def user_prompt_for(website):\n",
    "    user_prompt = f\"You are looking at a website titled {website.title}\"\n",
    "    user_prompt += \"\\nThe contents of this website is as follows: \\\n",
    "        please provide a short summary of this website in markdown. \\\n",
    "        If it includes news or announcements, then summarise these too. \\n\\n\"\n",
    "    \n",
    "    user_prompt += website.text\n",
    "    return user_prompt"
   ]
  },
  {
   "cell_type": "code",
   "execution_count": 29,
   "id": "47991175",
   "metadata": {},
   "outputs": [
    {
     "name": "stdout",
     "output_type": "stream",
     "text": [
      "You are looking at a website titled Home - Edward Donner\n",
      "The contents of this website is as follows:         please provide a short summary of this website in markdown.         If it includes news or announcements, then summarise these too. \n",
      "\n",
      "Home\n",
      "Connect Four\n",
      "Outsmart\n",
      "An arena that pits LLMs against each other in a battle of diplomacy and deviousness\n",
      "About\n",
      "Posts\n",
      "Well, hi there.\n",
      "I’m Ed. I like writing code and experimenting with LLMs, and hopefully you’re here because you do too. I also enjoy DJing (but I’m badly out of practice), amateur electronic music production (\n",
      "very\n",
      "amateur) and losing myself in\n",
      "Hacker News\n",
      ", nodding my head sagely to things I only half understand.\n",
      "I’m the co-founder and CTO of\n",
      "Nebula.io\n",
      ". We’re applying AI to a field where it can make a massive, positive impact: helping people discover their potential and pursue their reason for being. Recruiters use our product today to source, understand, engage and manage talent. I’m previously the founder and CEO of AI startup untapt,\n",
      "acquired in 2021\n",
      ".\n",
      "We work with groundbreaking, proprietary LLMs verticalized for talent, we’ve\n",
      "patented\n",
      "our matching model, and our award-winning platform has happy customers and tons of press coverage.\n",
      "Connect\n",
      "with me for more!\n",
      "May 28, 2025\n",
      "Connecting my courses – become an LLM expert and leader\n",
      "May 18, 2025\n",
      "2025 AI Executive Briefing\n",
      "April 21, 2025\n",
      "The Complete Agentic AI Engineering Course\n",
      "January 23, 2025\n",
      "LLM Workshop – Hands-on with Agents – resources\n",
      "Navigation\n",
      "Home\n",
      "Connect Four\n",
      "Outsmart\n",
      "An arena that pits LLMs against each other in a battle of diplomacy and deviousness\n",
      "About\n",
      "Posts\n",
      "Get in touch\n",
      "ed [at] edwarddonner [dot] com\n",
      "www.edwarddonner.com\n",
      "Follow me\n",
      "LinkedIn\n",
      "Twitter\n",
      "Facebook\n",
      "Subscribe to newsletter\n",
      "Type your email…\n",
      "Subscribe\n"
     ]
    }
   ],
   "source": [
    "print(user_prompt_for(ed))"
   ]
  },
  {
   "cell_type": "markdown",
   "id": "2037accd",
   "metadata": {},
   "source": [
    "### Messages\n",
    "\n",
    "The API from OpenAI expects to receive messages in a particular structure. Many of the other APIs share this structure:\n",
    "\n",
    "[  \n",
    "    {\"role\": \"system\", \"content\": \"system message goes here\"}  \n",
    "    {\"role\": \"user\", \"content\": \"user message goes here\"}    \n",
    "]"
   ]
  },
  {
   "cell_type": "code",
   "execution_count": 30,
   "id": "3c747e84",
   "metadata": {},
   "outputs": [],
   "source": [
    "def messages_for(website):\n",
    "    return [\n",
    "        {'role': 'system', 'content': system_prompt}, \n",
    "        {'role': 'user', 'content': user_prompt_for(website)}\n",
    "    ]"
   ]
  },
  {
   "cell_type": "code",
   "execution_count": 31,
   "id": "9de39cea",
   "metadata": {},
   "outputs": [
    {
     "data": {
      "text/plain": [
       "[{'role': 'system',\n",
       "  'content': 'You are an assistant that analyses the contents of a website     and provides a short sumamry, ignoring text that might be navigation related.    Respond in Markdown.'},\n",
       " {'role': 'user',\n",
       "  'content': 'You are looking at a website titled Home - Edward Donner\\nThe contents of this website is as follows:         please provide a short summary of this website in markdown.         If it includes news or announcements, then summarise these too. \\n\\nHome\\nConnect Four\\nOutsmart\\nAn arena that pits LLMs against each other in a battle of diplomacy and deviousness\\nAbout\\nPosts\\nWell, hi there.\\nI’m Ed. I like writing code and experimenting with LLMs, and hopefully you’re here because you do too. I also enjoy DJing (but I’m badly out of practice), amateur electronic music production (\\nvery\\namateur) and losing myself in\\nHacker News\\n, nodding my head sagely to things I only half understand.\\nI’m the co-founder and CTO of\\nNebula.io\\n. We’re applying AI to a field where it can make a massive, positive impact: helping people discover their potential and pursue their reason for being. Recruiters use our product today to source, understand, engage and manage talent. I’m previously the founder and CEO of AI startup untapt,\\nacquired in 2021\\n.\\nWe work with groundbreaking, proprietary LLMs verticalized for talent, we’ve\\npatented\\nour matching model, and our award-winning platform has happy customers and tons of press coverage.\\nConnect\\nwith me for more!\\nMay 28, 2025\\nConnecting my courses – become an LLM expert and leader\\nMay 18, 2025\\n2025 AI Executive Briefing\\nApril 21, 2025\\nThe Complete Agentic AI Engineering Course\\nJanuary 23, 2025\\nLLM Workshop – Hands-on with Agents – resources\\nNavigation\\nHome\\nConnect Four\\nOutsmart\\nAn arena that pits LLMs against each other in a battle of diplomacy and deviousness\\nAbout\\nPosts\\nGet in touch\\ned [at] edwarddonner [dot] com\\nwww.edwarddonner.com\\nFollow me\\nLinkedIn\\nTwitter\\nFacebook\\nSubscribe to newsletter\\nType your email…\\nSubscribe'}]"
      ]
     },
     "execution_count": 31,
     "metadata": {},
     "output_type": "execute_result"
    }
   ],
   "source": [
    "messages_for(ed)"
   ]
  },
  {
   "cell_type": "code",
   "execution_count": 32,
   "id": "89ee090f",
   "metadata": {},
   "outputs": [],
   "source": [
    "# Summarising the scraped content\n",
    "\n",
    "def summarize(url):\n",
    "    website = Website(url)\n",
    "    response = openai.chat.completions.create(\n",
    "        model='gpt-4.1-nano',\n",
    "        messages=messages_for(website)\n",
    "    )\n",
    "\n",
    "    return response.choices[0].message.content"
   ]
  },
  {
   "cell_type": "code",
   "execution_count": 35,
   "id": "5e7bdb37",
   "metadata": {},
   "outputs": [
    {
     "data": {
      "text/plain": [
       "'# Summary of Edward Donner\\'s Website\\n\\nThis website serves as a personal and professional portfolio for Ed Donner, highlighting his background, projects, and interests. Ed is passionate about coding and experimenting with Large Language Models (LLMs). He is the co-founder and CTO of Nebula.io, a company utilizing AI to enhance talent discovery and management, with proprietary, verticalized LLMs and patented matching models. \\n\\nThe site features sections like \"Connect Four,\" which is an AI contest where LLMs compete in diplomacy and strategy. It also provides links to his various courses and events related to AI and LLMs, including upcoming workshops and executive briefings.\\n\\n### Notable Updates and Announcements:\\n- **May 28, 2025:** Announces a course on becoming an LLM expert.\\n- **May 18, 2025:** Announces the 2025 AI Executive Briefing.\\n- **April 21, 2025:** Promotes a comprehensive AI engineering course.\\n- **January 23, 2025:** Shares resources for a hands-on LLM workshop focusing on agents.\\n\\n### Personal Interests:\\nEd enjoys DJing, amateur electronic music production, and engaging with Hacker News.\\n\\n### Contact and Social Links:\\n- Email: ed (at) edwarddonner (dot) com\\n- Website: www.edwarddonner.com\\n- Social Media: LinkedIn, Twitter, Facebook\\n- Newsletter subscription available.'"
      ]
     },
     "execution_count": 35,
     "metadata": {},
     "output_type": "execute_result"
    }
   ],
   "source": [
    "summarize(\"https://edwarddonner.com\")"
   ]
  },
  {
   "cell_type": "code",
   "execution_count": 36,
   "id": "d1537b13",
   "metadata": {},
   "outputs": [],
   "source": [
    "def display_summary(url):\n",
    "    summary = summarize(url)\n",
    "    display(Markdown(summary))"
   ]
  },
  {
   "cell_type": "code",
   "execution_count": 37,
   "id": "6865d47f",
   "metadata": {},
   "outputs": [
    {
     "data": {
      "text/markdown": [
       "# Summary of Edward Donner's Website\n",
       "\n",
       "The website belongs to Edward Donner, a developer and AI enthusiast with a focus on large language models (LLMs). He is the co-founder and CTO of Nebula.io, a company leveraging AI to enhance talent discovery and management. Edward has a background as the founder and CEO of AI startup untapt, which was acquired in 2021. \n",
       "\n",
       "The site features sections on projects like **Connect Four** (an arena for LLMs competing in diplomacy and deviousness) and **Outsmart**. It also showcases his writings, courses, and workshops on AI and LLM expertise, indicating active engagement in education and community outreach.\n",
       "\n",
       "### Recent Announcements and Courses\n",
       "- **May 28, 2025:** Announced \"Connecting my courses – become an LLM expert and leader\"\n",
       "- **May 18, 2025:** \"2025 AI Executive Briefing\"\n",
       "- **April 21, 2025:** \"The Complete Agentic AI Engineering Course\"\n",
       "- **January 23, 2025:** LLM Workshop resources on agents\n",
       "\n",
       "### Additional Information\n",
       "Edward enjoys coding, experimenting with LLMs, DJing, electronic music production, and engaging with Hacker News discussions. The site provides contact details, social media links, and a newsletter subscription option for visitors interested in AI and related topics."
      ],
      "text/plain": [
       "<IPython.core.display.Markdown object>"
      ]
     },
     "metadata": {},
     "output_type": "display_data"
    }
   ],
   "source": [
    "display_summary(\"https://edwarddonner.com\")"
   ]
  },
  {
   "cell_type": "code",
   "execution_count": 39,
   "id": "996565bd",
   "metadata": {},
   "outputs": [
    {
     "data": {
      "text/markdown": [
       "# Summary of the Website \"Jai-Keshav-Sharma · GitHub\"\n",
       "\n",
       "This GitHub profile belongs to Jai Keshav Sharma, a sophomore student at UTD and Chhatisgarh Swami Vivekananda Technical University Bhilai. The profile highlights his focus on developing machine learning models for social good and his interest in AI, coding, and software development. \n",
       "\n",
       "## Key Highlights:\n",
       "- Active repositories include projects in data science, AI-powered music composition, and C programming.\n",
       "- Currently learning advanced topics like machine learning, data structures, algorithms, object-oriented programming, and databases.\n",
       "- Interested in collaborating on hackathons and impactful AI projects.\n",
       "- Engages in coding challenges on platforms like LeetCode and gaming strategies.\n",
       "- Maintains social media presence on Instagram and LinkedIn.\n",
       "\n",
       "## Repositories:\n",
       "- Notable repositories include:\n",
       "  - **R-for-Data-Science**\n",
       "  - **AI-powered-Music-Composer**\n",
       "  - **AI-Agent-with-MCP_Servers**\n",
       "  - Several C and C++ projects focusing on problem-solving and coding challenges.\n",
       "\n",
       "The profile emphasizes his enthusiasm for AI and coding, his ongoing education, and collaborative aspirations in tech and AI development. There are no recent news or announcements on this profile."
      ],
      "text/plain": [
       "<IPython.core.display.Markdown object>"
      ]
     },
     "metadata": {},
     "output_type": "display_data"
    }
   ],
   "source": [
    "# Let's try on some other website\n",
    "\n",
    "display_summary(\"https://github.com/Jai-Keshav-Sharma\")"
   ]
  },
  {
   "cell_type": "markdown",
   "id": "094b367a",
   "metadata": {},
   "source": [
    "You may notice that if you try display_summary(\"https://openai.com\") - it doesn't work! That's because OpenAI has a fancy website that uses Javascript. There are many ways around this that some of you might be familiar with. For example, Selenium is a hugely popular framework that runs a browser behind the scenes, renders the page, and allows you to query it. If you have experience with Selenium, Playwright or similar, then feel free to improve the Website class to use them. In the community-contributions folder, you'll find an example Selenium solution from a student (thank you!)"
   ]
  }
 ],
 "metadata": {
  "kernelspec": {
   "display_name": "Python 3",
   "language": "python",
   "name": "python3"
  },
  "language_info": {
   "codemirror_mode": {
    "name": "ipython",
    "version": 3
   },
   "file_extension": ".py",
   "mimetype": "text/x-python",
   "name": "python",
   "nbconvert_exporter": "python",
   "pygments_lexer": "ipython3",
   "version": "3.13.3"
  }
 },
 "nbformat": 4,
 "nbformat_minor": 5
}
