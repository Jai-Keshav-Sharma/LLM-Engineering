{
 "cells": [
  {
   "cell_type": "code",
   "execution_count": 1,
   "id": "269b4f57",
   "metadata": {},
   "outputs": [],
   "source": [
    "import requests \n",
    "from bs4 import BeautifulSoup\n",
    "from IPython.display import Markdown, display"
   ]
  },
  {
   "cell_type": "code",
   "execution_count": 2,
   "id": "665f1cc4",
   "metadata": {},
   "outputs": [],
   "source": [
    "OLLAMA_API = \"http://localhost:11434/api/chat\"\n",
    "HEADERS = {'Content-Type': 'application/json'}\n",
    "MODEL = 'llama3.1:8b'"
   ]
  },
  {
   "cell_type": "code",
   "execution_count": 3,
   "id": "1a212c3e",
   "metadata": {},
   "outputs": [],
   "source": [
    "messages = [\n",
    "    {'role': 'user', 'content': 'Describe some of the business applications of Generative AI.'}\n",
    "]"
   ]
  },
  {
   "cell_type": "code",
   "execution_count": 4,
   "id": "1b07d63e",
   "metadata": {},
   "outputs": [],
   "source": [
    "payload = {\n",
    "    'model': MODEL,\n",
    "    \"messages\": messages,\n",
    "    'stream': False \n",
    "}"
   ]
  },
  {
   "cell_type": "code",
   "execution_count": 5,
   "id": "76deca4a",
   "metadata": {},
   "outputs": [
    {
     "name": "stdout",
     "output_type": "stream",
     "text": [
      "Generative AI has numerous business applications across various industries, including:\n",
      "\n",
      "1. **Content Generation**: Generate high-quality content such as articles, blog posts, social media posts, and product descriptions at scale, reducing the need for human writers and increasing productivity.\n",
      "2. **Image and Video Creation**: Produce images and videos for marketing materials, advertising campaigns, or product visualizations, eliminating the need for expensive photography equipment and talent.\n",
      "3. **Data Augmentation**: Expand existing datasets by generating synthetic data that mimics real-world patterns, helping improve model accuracy, reduce overfitting, and increase the effectiveness of machine learning models.\n",
      "4. **Chatbots and Virtual Assistants**: Develop conversational interfaces that can generate human-like responses to user queries, providing 24/7 customer support and enhancing the overall customer experience.\n",
      "5. **Product Recommendations**: Generate personalized product recommendations based on a user's browsing history, purchase behavior, and other relevant factors, improving sales and customer satisfaction.\n",
      "6. **Speech Recognition and Generation**: Develop systems that can generate synthetic speech or transcribe audio files into text, enabling applications like voice assistants, podcast summaries, and subtitling services.\n",
      "7. **Marketing Strategy and Campaign Development**: Generate marketing strategies, campaign ideas, and creative assets, such as ad copy and images, to help businesses optimize their marketing efforts.\n",
      "8. **Customer Service Chatbots**: Automate customer service interactions by generating responses to frequently asked questions, freeing up human support agents to focus on more complex issues.\n",
      "9. **Predictive Maintenance**: Generate predictive models that forecast equipment failures or maintenance needs based on sensor data, helping organizations reduce downtime and improve overall efficiency.\n",
      "10. **Creative Writing and Storytelling**: Assist writers in generating story ideas, outlines, and even entire scripts for films, TV shows, or video games, enabling the development of new intellectual properties.\n",
      "\n",
      "In terms of industries, some examples of business applications of Generative AI include:\n",
      "\n",
      "* **Retail**: Personalized product recommendations, automated chatbots for customer support, and visual merchandising solutions.\n",
      "* **Media and Entertainment**: Scriptwriting assistance, storyboarding tools, and content generation for social media platforms.\n",
      "* **Finance**: Financial reporting, predictive modeling for risk assessment, and automated trading strategies.\n",
      "* **Healthcare**: Medical imaging analysis, patient engagement platforms, and clinical decision support systems.\n",
      "\n",
      "These are just a few examples of the many business applications of Generative AI. As this technology continues to evolve, we can expect even more innovative solutions across various industries.\n"
     ]
    }
   ],
   "source": [
    "response = requests.post(OLLAMA_API, json=payload, headers=HEADERS)\n",
    "print(response.json()['message']['content'])"
   ]
  },
  {
   "cell_type": "code",
   "execution_count": 7,
   "id": "55df0516",
   "metadata": {},
   "outputs": [
    {
     "name": "stdout",
     "output_type": "stream",
     "text": [
      "Generative AI has numerous business applications across various industries, and here are some examples:\n",
      "\n",
      "1. **Content Generation**:\n",
      "\t* Automated content creation: Blogs, articles, product descriptions, social media posts.\n",
      "\t* Image and video generation: Product images, marketing materials, educational resources.\n",
      "\t* Music and audio generation: Soundtracks, jingles, voice-overs.\n",
      "2. **Customer Service and Support**:\n",
      "\t* Chatbots: Automate customer inquiries, provide basic support, and escalate complex issues to human agents.\n",
      "\t* Virtual assistants: Generate personalized responses to customer queries, 24/7.\n",
      "3. **Marketing and Advertising**:\n",
      "\t* Personalized product recommendations: Use generative AI to create tailored suggestions based on user behavior and preferences.\n",
      "\t* Ad generation: Create targeted ads, including images, videos, and text-based ads.\n",
      "4. **Product Design and Development**:\n",
      "\t* Generative design: Automate the process of creating 3D models, product designs, and prototypes.\n",
      "\t* Textile and material design: Generate patterns, textures, and materials for clothing, furniture, and other products.\n",
      "5. **Data Analytics and Visualization**:\n",
      "\t* Data generation: Create synthetic data to augment existing datasets, improve model performance, or test hypotheses.\n",
      "\t* Visualizations: Generate interactive charts, graphs, and maps to help analysts explore and communicate insights.\n",
      "6. **Software Development**:\n",
      "\t* Code completion and suggestion tools: Use generative AI to provide code snippets and complete partially written code.\n",
      "\t* Automated testing and debugging: Generate test cases, identify bugs, and suggest fixes.\n",
      "7. **Business Process Automation**:\n",
      "\t* Document generation: Automate the creation of documents such as contracts, invoices, and reports.\n",
      "\t* Forms processing: Use generative AI to fill out forms, extract data, and automate workflows.\n",
      "8. **Education and Training**:\n",
      "\t* Personalized learning paths: Generate customized educational plans based on individual learners' needs and abilities.\n",
      "\t* Virtual training simulations: Create immersive, interactive experiences for professionals to develop new skills.\n",
      "9. **Healthcare and Medical Imaging**:\n",
      "\t* Image analysis: Use generative AI to analyze medical images, detect anomalies, and suggest diagnoses.\n",
      "\t* Personalized medicine: Generate tailored treatment plans based on individual patient data and genetic profiles.\n",
      "10. **Cybersecurity**:\n",
      "\t* Threat detection and response: Use generative AI to identify potential threats, generate alerts, and respond to incidents.\n",
      "\n",
      "These examples illustrate the vast potential of Generative AI in various industries and applications. As this technology continues to evolve, we can expect even more innovative uses in business and beyond.\n"
     ]
    }
   ],
   "source": [
    "import ollama\n",
    "\n",
    "response = ollama.chat(model=MODEL, messages=messages)\n",
    "print(response['message']['content'])"
   ]
  }
 ],
 "metadata": {
  "kernelspec": {
   "display_name": "Python 3",
   "language": "python",
   "name": "python3"
  },
  "language_info": {
   "codemirror_mode": {
    "name": "ipython",
    "version": 3
   },
   "file_extension": ".py",
   "mimetype": "text/x-python",
   "name": "python",
   "nbconvert_exporter": "python",
   "pygments_lexer": "ipython3",
   "version": "3.13.3"
  }
 },
 "nbformat": 4,
 "nbformat_minor": 5
}
