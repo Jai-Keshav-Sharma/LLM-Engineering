{
 "cells": [
  {
   "cell_type": "markdown",
   "id": "8f69328f",
   "metadata": {},
   "source": [
    "## The Product Pricer  \n",
    "A model that can estimate how much something costs, from its description."
   ]
  },
  {
   "cell_type": "markdown",
   "id": "b6f09dd9",
   "metadata": {},
   "source": [
    "### Data Curation Part 1.   \n",
    "Today we'll begin our scrubbing and curating our dataset by focussing on a subest of the data: ***Home Appliances***"
   ]
  },
  {
   "cell_type": "markdown",
   "id": "002df504",
   "metadata": {},
   "source": [
    "The dataset is here:\n",
    "https://huggingface.co/datasets/McAuley-Lab/Amazon-Reviews-2023  \n",
    "\n",
    "\n",
    "And the folder with all the product datasets is here:\n",
    "https://huggingface.co/datasets/McAuley-Lab/Amazon-Reviews-2023/tree/main/raw/meta_categories"
   ]
  },
  {
   "cell_type": "code",
   "execution_count": 4,
   "id": "6b42d869",
   "metadata": {},
   "outputs": [
    {
     "data": {
      "application/vnd.jupyter.widget-view+json": {
       "model_id": "300869f9cc4047c09edb93bc75c88af7",
       "version_major": 2,
       "version_minor": 0
      },
      "text/plain": [
       "tokenizer_config.json:   0%|          | 0.00/50.5k [00:00<?, ?B/s]"
      ]
     },
     "metadata": {},
     "output_type": "display_data"
    },
    {
     "data": {
      "application/vnd.jupyter.widget-view+json": {
       "model_id": "08879276b27b4416b818a6eaa49bbba9",
       "version_major": 2,
       "version_minor": 0
      },
      "text/plain": [
       "tokenizer.json:   0%|          | 0.00/9.09M [00:00<?, ?B/s]"
      ]
     },
     "metadata": {},
     "output_type": "display_data"
    },
    {
     "data": {
      "application/vnd.jupyter.widget-view+json": {
       "model_id": "2736f18866944d9389ff37fe32f3a3d7",
       "version_major": 2,
       "version_minor": 0
      },
      "text/plain": [
       "special_tokens_map.json:   0%|          | 0.00/73.0 [00:00<?, ?B/s]"
      ]
     },
     "metadata": {},
     "output_type": "display_data"
    }
   ],
   "source": [
    "import os\n",
    "from dotenv import load_dotenv\n",
    "from huggingface_hub import login\n",
    "from datasets import load_dataset, Dataset, DatasetDict\n",
    "from items import Item\n",
    "import matplotlib.pyplot as plt"
   ]
  },
  {
   "cell_type": "code",
   "execution_count": 5,
   "id": "f12c6483",
   "metadata": {},
   "outputs": [
    {
     "data": {
      "text/plain": [
       "True"
      ]
     },
     "execution_count": 5,
     "metadata": {},
     "output_type": "execute_result"
    }
   ],
   "source": [
    "load_dotenv(override=True)"
   ]
  },
  {
   "cell_type": "code",
   "execution_count": 6,
   "id": "95f7bd43",
   "metadata": {},
   "outputs": [
    {
     "name": "stderr",
     "output_type": "stream",
     "text": [
      "Note: Environment variable`HF_TOKEN` is set and is the current active token independently from the token you've just configured.\n"
     ]
    }
   ],
   "source": [
    "# Login into hugging_face\n",
    "\n",
    "hf_token = os.getenv(\"HF_TOKEN\")\n",
    "login(hf_token, add_to_git_credential=True)"
   ]
  },
  {
   "cell_type": "code",
   "execution_count": 7,
   "id": "cf13089f",
   "metadata": {},
   "outputs": [],
   "source": [
    "%matplotlib inline"
   ]
  },
  {
   "cell_type": "code",
   "execution_count": 8,
   "id": "bf44186d",
   "metadata": {},
   "outputs": [],
   "source": [
    "dataset = load_dataset(\"McAuley-Lab/Amazon-Reviews-2023\", \"raw_meta_Appliances\", split=\"full\", trust_remote_code=True)"
   ]
  },
  {
   "cell_type": "code",
   "execution_count": 9,
   "id": "4634a5af",
   "metadata": {},
   "outputs": [
    {
     "name": "stdout",
     "output_type": "stream",
     "text": [
      "Number of appliances:  94,327\n"
     ]
    }
   ],
   "source": [
    "print(f\"Number of appliances: {len(dataset): ,}\")"
   ]
  },
  {
   "cell_type": "code",
   "execution_count": 10,
   "id": "16159ab0",
   "metadata": {},
   "outputs": [
    {
     "data": {
      "text/plain": [
       "{'main_category': 'Industrial & Scientific',\n",
       " 'title': 'ROVSUN Ice Maker Machine Countertop, Make 44lbs Ice in 24 Hours, Compact & Portable Ice Maker with Ice Basket for Home, Office, Kitchen, Bar (Silver)',\n",
       " 'average_rating': 3.7,\n",
       " 'rating_number': 61,\n",
       " 'features': ['【Quick Ice Making】This countertop ice machine creates crystal & bullet shaped ice cubes; 44lbs of ice ready in 24 hours, 12 cubes made per cycle within 10 mins; you can perfectly use it for drinks, wine, smoothies, food',\n",
       "  '【Portable Design】The weight of this ice maker is only 23.3lbs, and the small size (10.63 x14.37 x 12.87)\" makes it portable. It\\'s compact feature is perfect for home, office, apartments, dormitories, RVs and more, it can be placed on countertop or tabletop, plug it anywhere you like',\n",
       "  '【Simple Operation】Adding the water tank with purified water; Power on machine and press \"on/off\" button to start ice making process; After 8-12 minutes, ice cube will fall off into the ice basket automatically; Take it out and make you cool',\n",
       "  '【Full Monitoring】 Designed with compressor cooling system, operates at low noise and will not disturb your normal life; See-through window on top allows you to easily view the progress and check ice level',\n",
       "  \"【1 Year Warranty】We do cover 1 year warranty on this ice maker, any questions about it, please don't hesitate to contact us at any time for getting a satisfied service. Worry free purchase, so get this ice machine home today\"],\n",
       " 'description': [],\n",
       " 'price': 'None',\n",
       " 'images': {'hi_res': ['https://m.media-amazon.com/images/I/61zNIJh6ZCL._SL1500_.jpg',\n",
       "   'https://m.media-amazon.com/images/I/71i3VazBG1L._SL1500_.jpg',\n",
       "   'https://m.media-amazon.com/images/I/71INhlaKSGL._SL1500_.jpg',\n",
       "   'https://m.media-amazon.com/images/I/71IjZxwpPgL._SL1500_.jpg',\n",
       "   'https://m.media-amazon.com/images/I/8154EOa6mML._SL1500_.jpg',\n",
       "   'https://m.media-amazon.com/images/I/71P3bDmPIXL._SL1500_.jpg',\n",
       "   'https://m.media-amazon.com/images/I/71ST326RerL._SL1500_.jpg',\n",
       "   'https://m.media-amazon.com/images/I/81I6c2yZStL._SL1500_.jpg',\n",
       "   'https://m.media-amazon.com/images/I/71Dap4gcywL._SL1500_.jpg'],\n",
       "  'large': ['https://m.media-amazon.com/images/I/31idkuA3KlL.jpg',\n",
       "   'https://m.media-amazon.com/images/I/41-MiODg9xL.jpg',\n",
       "   'https://m.media-amazon.com/images/I/41wDXfH8m8L.jpg',\n",
       "   'https://m.media-amazon.com/images/I/41U-3N4Al4L.jpg',\n",
       "   'https://m.media-amazon.com/images/I/51ZMIaw5j+L.jpg',\n",
       "   'https://m.media-amazon.com/images/I/41rxwKw1FqL.jpg',\n",
       "   'https://m.media-amazon.com/images/I/5146wcOEdfL.jpg',\n",
       "   'https://m.media-amazon.com/images/I/61-9E6JF51L.jpg',\n",
       "   'https://m.media-amazon.com/images/I/51+Ddh3KfhL.jpg'],\n",
       "  'thumb': ['https://m.media-amazon.com/images/I/31idkuA3KlL._SX38_SY50_CR,0,0,38,50_.jpg',\n",
       "   'https://m.media-amazon.com/images/I/41-MiODg9xL._SX38_SY50_CR,0,0,38,50_.jpg',\n",
       "   'https://m.media-amazon.com/images/I/41wDXfH8m8L._SX38_SY50_CR,0,0,38,50_.jpg',\n",
       "   'https://m.media-amazon.com/images/I/41U-3N4Al4L._SX38_SY50_CR,0,0,38,50_.jpg',\n",
       "   'https://m.media-amazon.com/images/I/51ZMIaw5j+L._SX38_SY50_CR,0,0,38,50_.jpg',\n",
       "   'https://m.media-amazon.com/images/I/41rxwKw1FqL._SX38_SY50_CR,0,0,38,50_.jpg',\n",
       "   'https://m.media-amazon.com/images/I/5146wcOEdfL._SX38_SY50_CR,0,0,38,50_.jpg',\n",
       "   'https://m.media-amazon.com/images/I/61-9E6JF51L._SX38_SY50_CR,0,0,38,50_.jpg',\n",
       "   'https://m.media-amazon.com/images/I/51+Ddh3KfhL._SX38_SY50_CR,0,0,38,50_.jpg'],\n",
       "  'variant': ['MAIN',\n",
       "   'PT01',\n",
       "   'PT02',\n",
       "   'PT03',\n",
       "   'PT04',\n",
       "   'PT05',\n",
       "   'PT06',\n",
       "   'PT07',\n",
       "   'PT08']},\n",
       " 'videos': {'title': ['Our Point of View on the Euhomy Ice Maker Machine',\n",
       "   'Frigidaire Ice Maker, Stainless (5 Stars) ',\n",
       "   'Review & Demonstration - Silonn Ice Maker - NOT BAD!',\n",
       "   ' Never Run Out of Ice',\n",
       "   'Live DEMO - How Fast Can You Really Make Ice With EUHOMY?',\n",
       "   'Portable Ice Maker Countertop 26Lbs/24H',\n",
       "   'Countertop ice machine 2 size bullet style ice ',\n",
       "   'HONEST Review of Frigidare Ice Maker',\n",
       "   'VIVOHOME Countertop Automatic Ice Cube Maker Machine',\n",
       "   'How To Clean Your Ice Maker '],\n",
       "  'url': ['https://www.amazon.com/vdp/04e6baae04404579891e175567cb7b9d?ref=dp_vse_rvc_0',\n",
       "   'https://www.amazon.com/vdp/0d6ee873c04545e297872f21f38ecd09?ref=dp_vse_rvc_1',\n",
       "   'https://www.amazon.com/vdp/0576ed1078764f53996bef3725ff767d?ref=dp_vse_rvc_2',\n",
       "   'https://www.amazon.com/vdp/0f8034b1507d4db8b05eb89321599eb0?ref=dp_vse_rvc_3',\n",
       "   'https://www.amazon.com/vdp/02caa2103d524af08793cecf3ec72fb0?ref=dp_vse_rvc_4',\n",
       "   'https://www.amazon.com/vdp/0bbb3e5c7b114ed9acde5bc1cc0d6e56?ref=dp_vse_rvc_5',\n",
       "   'https://www.amazon.com/vdp/036aa78c1fce4d66975a8d9df13cf692?ref=dp_vse_rvc_6',\n",
       "   'https://www.amazon.com/vdp/0eee9377eebf416f92f40c79a1201b0a?ref=dp_vse_rvc_7',\n",
       "   'https://www.amazon.com/vdp/08e510fdb18448fea830d0a358fddc3f?ref=dp_vse_rvc_8',\n",
       "   'https://www.amazon.com/vdp/0f989ad8e1aa4b999beac8a87542f2f6?ref=dp_vse_rvc_9'],\n",
       "  'user_id': ['/shop/influencer-20a38664',\n",
       "   '/shop/dr.nailnipperfanpage',\n",
       "   '/shop/influencer-5d9ad12c',\n",
       "   '/shop/mdomer8',\n",
       "   '/shop/influencer-767279e2',\n",
       "   '',\n",
       "   '/shop/wolfzoidgaming',\n",
       "   '/shop/sensationmecrazy',\n",
       "   '',\n",
       "   '/shop/videozeus']},\n",
       " 'store': 'ROVSUN',\n",
       " 'categories': ['Appliances',\n",
       "  'Refrigerators, Freezers & Ice Makers',\n",
       "  'Ice Makers'],\n",
       " 'details': '{\"Brand\": \"ROVSUN\", \"Model Name\": \"ICM-2005\", \"Capacity\": \"44 Pounds\", \"Wattage\": \"120 watts\", \"Voltage\": \"120 Volts\", \"Package Dimensions\": \"18 x 16 x 13.5 inches; 26.5 Pounds\", \"Date First Available\": \"March 17, 2021\", \"Manufacturer\": \"ROVSUN\"}',\n",
       " 'parent_asin': 'B08Z743RRD',\n",
       " 'bought_together': None,\n",
       " 'subtitle': None,\n",
       " 'author': None}"
      ]
     },
     "execution_count": 10,
     "metadata": {},
     "output_type": "execute_result"
    }
   ],
   "source": [
    "# Investigate a particular datapoint\n",
    "\n",
    "datapoint = dataset[0]\n",
    "datapoint"
   ]
  },
  {
   "cell_type": "code",
   "execution_count": 11,
   "id": "5cf3dedd",
   "metadata": {},
   "outputs": [
    {
     "name": "stdout",
     "output_type": "stream",
     "text": [
      "ROVSUN Ice Maker Machine Countertop, Make 44lbs Ice in 24 Hours, Compact & Portable Ice Maker with Ice Basket for Home, Office, Kitchen, Bar (Silver)\n",
      "[]\n",
      "['【Quick Ice Making】This countertop ice machine creates crystal & bullet shaped ice cubes; 44lbs of ice ready in 24 hours, 12 cubes made per cycle within 10 mins; you can perfectly use it for drinks, wine, smoothies, food', '【Portable Design】The weight of this ice maker is only 23.3lbs, and the small size (10.63 x14.37 x 12.87)\" makes it portable. It\\'s compact feature is perfect for home, office, apartments, dormitories, RVs and more, it can be placed on countertop or tabletop, plug it anywhere you like', '【Simple Operation】Adding the water tank with purified water; Power on machine and press \"on/off\" button to start ice making process; After 8-12 minutes, ice cube will fall off into the ice basket automatically; Take it out and make you cool', '【Full Monitoring】 Designed with compressor cooling system, operates at low noise and will not disturb your normal life; See-through window on top allows you to easily view the progress and check ice level', \"【1 Year Warranty】We do cover 1 year warranty on this ice maker, any questions about it, please don't hesitate to contact us at any time for getting a satisfied service. Worry free purchase, so get this ice machine home today\"]\n",
      "{\"Brand\": \"ROVSUN\", \"Model Name\": \"ICM-2005\", \"Capacity\": \"44 Pounds\", \"Wattage\": \"120 watts\", \"Voltage\": \"120 Volts\", \"Package Dimensions\": \"18 x 16 x 13.5 inches; 26.5 Pounds\", \"Date First Available\": \"March 17, 2021\", \"Manufacturer\": \"ROVSUN\"}\n",
      "None\n"
     ]
    }
   ],
   "source": [
    "print(datapoint['title'])\n",
    "print(datapoint['description'])\n",
    "print(datapoint['features'])\n",
    "print(datapoint['details'])\n",
    "print(datapoint['price'])\n",
    "\n",
    "# 'details' is a not a dictionary, its a string that contains json\n",
    "# not all the products have 'price'\n",
    "# 'description' is a list"
   ]
  },
  {
   "cell_type": "code",
   "execution_count": 12,
   "id": "5d217985",
   "metadata": {},
   "outputs": [
    {
     "name": "stdout",
     "output_type": "stream",
     "text": [
      "There are 46,726 with prices which is 49.5%\n"
     ]
    }
   ],
   "source": [
    "# How many have prices ?\n",
    "\n",
    "prices = 0\n",
    "for datapoint in dataset:\n",
    "    try:\n",
    "        price = float(datapoint['price'])\n",
    "        if price > 0:\n",
    "            prices = prices + 1\n",
    "    except ValueError as e:\n",
    "        pass\n",
    "\n",
    "print(f\"There are {prices:,} with prices which is {prices/len(dataset)*100:,.1f}%\")"
   ]
  },
  {
   "cell_type": "code",
   "execution_count": 13,
   "id": "ee78edbf",
   "metadata": {},
   "outputs": [],
   "source": [
    "# For those with prices, gather the price and the length\n",
    "\n",
    "prices = []\n",
    "lengths = []\n",
    "\n",
    "for datapoint in dataset:\n",
    "    try:\n",
    "        price = float(datapoint['price'])\n",
    "        if price > 0:\n",
    "            prices.append(price)\n",
    "            contents = datapoint['title'] + str(datapoint['description']) + str(datapoint['features']) + str(datapoint['details'])\n",
    "            lengths.append(len(contents))\n",
    "    except ValueError as e:\n",
    "        pass\n"
   ]
  },
  {
   "cell_type": "code",
   "execution_count": 18,
   "id": "53718f88",
   "metadata": {},
   "outputs": [
    {
     "data": {
      "image/png": "[encoded data removed]",
      "text/plain": [
       "<Figure size 1500x600 with 1 Axes>"
      ]
     },
     "metadata": {},
     "output_type": "display_data"
    }
   ],
   "source": [
    "# Plot the distrubution of the lengths\n",
    "\n",
    "plt.figure(figsize=(15, 6))\n",
    "plt.title(f\"Lengths: Avg {sum(lengths)/len(lengths):,.0f} and highest {max(lengths):,}\\n\")\n",
    "plt.xlabel(\"Length(chars)\")\n",
    "plt.ylabel(\"Count\")\n",
    "plt.hist(lengths, rwidth=0.7, color=\"lightblue\", bins=range(0, 6000, 100))\n",
    "plt.show()"
   ]
  },
  {
   "cell_type": "code",
   "execution_count": 19,
   "id": "89875610",
   "metadata": {},
   "outputs": [
    {
     "data": {
      "image/png": "[encoded data removed]",
      "text/plain": [
       "<Figure size 1500x600 with 1 Axes>"
      ]
     },
     "metadata": {},
     "output_type": "display_data"
    }
   ],
   "source": [
    "# Plot the distrubution of the prices\n",
    "\n",
    "plt.figure(figsize=(15, 6))\n",
    "plt.title(f\"Lengths: Avg {sum(prices)/len(prices):,.0f} and highest {max(prices):,}\\n\")\n",
    "plt.xlabel(\"Price ($)\")\n",
    "plt.ylabel(\"Count\")\n",
    "plt.hist(prices, rwidth=0.7, color=\"orange\", bins=range(0, 1000, 10))\n",
    "plt.show()"
   ]
  },
  {
   "cell_type": "code",
   "execution_count": 59,
   "id": "cf6be69b",
   "metadata": {},
   "outputs": [
    {
     "name": "stdout",
     "output_type": "stream",
     "text": [
      "TurboChef BULLET Rapid Cook Electric Microwave Convection Oven\n"
     ]
    }
   ],
   "source": [
    "# What is this $21,000 item ?\n",
    "\n",
    "for datapoint in dataset:\n",
    "    try:\n",
    "        price = float(datapoint['price'])\n",
    "        if price > 21000:\n",
    "            print(datapoint['title'])\n",
    "    except ValueError as e:\n",
    "        pass    \n",
    "    "
   ]
  },
  {
   "cell_type": "markdown",
   "id": "718fe566",
   "metadata": {},
   "source": [
    "### Now its time to curate our Dataset  \n",
    "We select items that cost between 1 and 999 USD.  \n",
    "We will create Item instances, which truncate the text to fit within 180 tokens using the right Tokenizer.  \n",
    "And will create prompt to be used during Training.\n",
    "Items will be rejected if they don't have sufficient characters."
   ]
  },
  {
   "cell_type": "markdown",
   "id": "a87c7da3",
   "metadata": {},
   "source": [
    "```But why 180 tokens??\n",
    "why are we truncating to 180 tokens? How did we determine that number?\n",
    "\n",
    "The answer: this is an example of a \"hyper-parameter\". In other words, it's basically trial and error! We want a sufficiently large number of tokens so that we have enough useful information to gauge the price. But we also want to keep the number low so that we can train efficiently. You'll see this in action in Week 7.\n",
    "\n",
    "I started with a number that seemed reasonable, and experimented with a few variations before settling on 180. If you have time, you should do the same! You might find that you can beat my results by finding a better balance. This kind of trial-and-error might sound a bit unsatisfactory, but it's a crucial part of the data science R&D process.\n",
    "\n",
    "There's another interesting reason why we might favor a lower number of tokens in the training data. When we eventually get to use our model at inference time, we'll want to provide new products and have it estimate a price. And we'll be using short descriptions of products - like 1-2 sentences. For best performance, we should size our training data to be similar to the inputs we will provide at inference time.\n",
    "```"
   ]
  },
  {
   "cell_type": "code",
   "execution_count": 20,
   "id": "28bd54b4",
   "metadata": {},
   "outputs": [
    {
     "name": "stdout",
     "output_type": "stream",
     "text": [
      "There are 46,726 items\n"
     ]
    }
   ],
   "source": [
    "# Create an Item object for each with a price\n",
    "\n",
    "items = []\n",
    "for datapoint in dataset:\n",
    "    try:\n",
    "        price = float(datapoint['price'])\n",
    "        if price > 0:\n",
    "            item = Item(datapoint, price)\n",
    "            items.append(item) \n",
    "    except ValueError as e:\n",
    "        pass\n",
    "\n",
    "print(f\"There are {len(items):,} items\")"
   ]
  },
  {
   "cell_type": "code",
   "execution_count": 25,
   "id": "b7542f7f",
   "metadata": {},
   "outputs": [
    {
     "data": {
      "text/plain": [
       "<349241T Dryer Drum Roller Kit Whirlpool Kenmore Amana AP3098345 PS347627 Support Part Replacement 110.62832101 110.71402310 WED4815EW0 WED4815EW1 WED49STBW1 WED7000DW0 MEDC465HW0 RED4516FW0 RED4640YQ1 = $7.95>"
      ]
     },
     "execution_count": 25,
     "metadata": {},
     "output_type": "execute_result"
    }
   ],
   "source": [
    "# Look at the first item\n",
    "\n",
    "items[12]"
   ]
  },
  {
   "cell_type": "code",
   "execution_count": 28,
   "id": "9589c747",
   "metadata": {},
   "outputs": [
    {
     "name": "stdout",
     "output_type": "stream",
     "text": [
      "How much does this cost to the nearest dollar?\n",
      "\n",
      "Dryer Drum Roller Kit Whirlpool Kenmore Amana Support Part Replacement\n",
      "💡 Drum Roller - An equivalent for parts 3436, 8170, 8205, Roller Kit is compatible with Whirlpool, Maytag, KitchenAid, Jenn-Air, Amana, Magic Chef, Admiral, Norge, Roper appliances. The Part is designed to support the drum and help it rotate smoothly during operation. Kit fits hundred of models and can be easily install. 🔧 DIY eTips Included - Not sure how to replace the Dryer Drum Roller Helpful information can be found on the page below. Scroll down to get more repair tips. Acquire valuable skills during the DIY repair project. Whirlpool Drum Roller will help if your appliance does not tumble, is noisy\n",
      "\n",
      "Price is $8.00\n"
     ]
    }
   ],
   "source": [
    "# Investigate the prompt that will be used during training - the model learns to complete this\n",
    "\n",
    "print(items[12].prompt)"
   ]
  },
  {
   "cell_type": "code",
   "execution_count": null,
   "id": "0c138c92",
   "metadata": {},
   "outputs": [
    {
     "name": "stdout",
     "output_type": "stream",
     "text": [
      "177\n"
     ]
    }
   ],
   "source": [
    "# Total tokens in the prompt\n",
    "\n",
    "# NOTE: The items which have the cleaned contents (details + description + features) length < 300 characters, prompts for them is not formed. (see items.py)\n",
    "\n",
    "print(items[12].token_count)"
   ]
  },
  {
   "cell_type": "code",
   "execution_count": 29,
   "id": "a3cd723d",
   "metadata": {},
   "outputs": [
    {
     "name": "stdout",
     "output_type": "stream",
     "text": [
      "How much does this cost to the nearest dollar?\n",
      "\n",
      "Dryer Drum Roller Kit Whirlpool Kenmore Amana Support Part Replacement\n",
      "💡 Drum Roller - An equivalent for parts 3436, 8170, 8205, Roller Kit is compatible with Whirlpool, Maytag, KitchenAid, Jenn-Air, Amana, Magic Chef, Admiral, Norge, Roper appliances. The Part is designed to support the drum and help it rotate smoothly during operation. Kit fits hundred of models and can be easily install. 🔧 DIY eTips Included - Not sure how to replace the Dryer Drum Roller Helpful information can be found on the page below. Scroll down to get more repair tips. Acquire valuable skills during the DIY repair project. Whirlpool Drum Roller will help if your appliance does not tumble, is noisy\n",
      "\n",
      "Price is $\n"
     ]
    }
   ],
   "source": [
    "# Investigae the prompt that will be used during testing - the model has to complete this\n",
    "\n",
    "print(items[12].test_prompt())"
   ]
  },
  {
   "cell_type": "code",
   "execution_count": 31,
   "id": "0abac2d7",
   "metadata": {},
   "outputs": [
    {
     "data": {
      "image/png": "[encoded data removed]",
      "text/plain": [
       "<Figure size 1500x600 with 1 Axes>"
      ]
     },
     "metadata": {},
     "output_type": "display_data"
    }
   ],
   "source": [
    "# Plot the distribution of token counts\n",
    "\n",
    "tokens = [item.token_count for item in items]\n",
    "plt.figure(figsize=(15, 6))\n",
    "plt.title(f\"Token counts: Avg {sum(tokens)/len(tokens):,.1f} and highest {max(tokens):,}\\n\")\n",
    "plt.xlabel('Length (tokens)')\n",
    "plt.ylabel('Count')\n",
    "plt.hist(tokens, rwidth=0.7, color=\"green\", bins=range(0, 300, 10))\n",
    "plt.show()"
   ]
  },
  {
   "cell_type": "code",
   "execution_count": 32,
   "id": "74899254",
   "metadata": {},
   "outputs": [
    {
     "data": {
      "image/png": "[encoded data removed]",
      "text/plain": [
       "<Figure size 1500x600 with 1 Axes>"
      ]
     },
     "metadata": {},
     "output_type": "display_data"
    }
   ],
   "source": [
    "\n",
    "# Plot the distribution of prices\n",
    "\n",
    "prices = [item.price for item in items]\n",
    "plt.figure(figsize=(15, 6))\n",
    "plt.title(f\"Prices: Avg {sum(prices)/len(prices):,.1f} and highest {max(prices):,}\\n\")\n",
    "plt.xlabel('Price ($)')\n",
    "plt.ylabel('Count')\n",
    "plt.hist(prices, rwidth=0.7, color=\"purple\", bins=range(0, 300, 10))\n",
    "plt.show()"
   ]
  }
 ],
 "metadata": {
  "kernelspec": {
   "display_name": "LLM_Engineering",
   "language": "python",
   "name": "python3"
  },
  "language_info": {
   "codemirror_mode": {
    "name": "ipython",
    "version": 3
   },
   "file_extension": ".py",
   "mimetype": "text/x-python",
   "name": "python",
   "nbconvert_exporter": "python",
   "pygments_lexer": "ipython3",
   "version": "3.13.3"
  }
 },
 "nbformat": 4,
 "nbformat_minor": 5
}
