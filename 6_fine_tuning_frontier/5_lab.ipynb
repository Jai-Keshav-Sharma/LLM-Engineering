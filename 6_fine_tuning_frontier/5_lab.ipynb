{
 "cells": [
  {
   "cell_type": "markdown",
   "id": "bc193f73",
   "metadata": {},
   "source": [
    "## **Fine-Tuning GPT-4o-Mini (Product Pricer)**"
   ]
  },
  {
   "cell_type": "markdown",
   "id": "4c55b723",
   "metadata": {},
   "source": [
    "#### ***Key objectives of fine-tuning frontier models:*** \n",
    "* Setting `style or tone` in a way that can't be achieved with prompting. \n",
    "* Improving the reliability of `producing a type of output`. \n",
    "* Correcting failures to `follow complex prompts`. \n",
    "* Handling edge cases. \n",
    "* Performing a `new skill` or task that's hard to `articulate in a prompt`. "
   ]
  },
  {
   "cell_type": "markdown",
   "id": "364519e3",
   "metadata": {},
   "source": [
    "### **When used some frontier models for prediction wothout any training, I got these Mean Absolute Prediction Errors :**\n",
    "\n",
    "On the Appliances only test dataset: (250 items only)\n",
    "* GPT-4o-Mini - $20\n",
    "* GPT-4o - $17\n",
    "\n",
    "\n",
    "On the whole test dataset: (250 items only)  \n",
    "* GPT-4o-Mini - $80\n",
    "* GPT-4o - $73\n",
    "* `Fine-Tuned GPT-4o-Mini` - $94\n",
    "\n",
    "While the Tradional Machine Learning Techniques could only get Mean Absolute Prediction Error of $97 as highest..!! (after training on all 400,000 training samples)"
   ]
  },
  {
   "cell_type": "code",
   "execution_count": 1,
   "id": "44a38197",
   "metadata": {},
   "outputs": [],
   "source": [
    "# imports\n",
    "\n",
    "import os\n",
    "import re\n",
    "import math\n",
    "import json\n",
    "import random\n",
    "from dotenv import load_dotenv\n",
    "from huggingface_hub import login\n",
    "from items import Item\n",
    "import matplotlib.pyplot as plt\n",
    "import numpy as np\n",
    "import pickle\n",
    "from collections import Counter\n",
    "from openai import OpenAI\n"
   ]
  },
  {
   "cell_type": "code",
   "execution_count": 2,
   "id": "350107d1",
   "metadata": {},
   "outputs": [],
   "source": [
    "from testing import Tester"
   ]
  },
  {
   "cell_type": "code",
   "execution_count": 211,
   "id": "1f8bda9b",
   "metadata": {},
   "outputs": [
    {
     "data": {
      "text/plain": [
       "True"
      ]
     },
     "execution_count": 211,
     "metadata": {},
     "output_type": "execute_result"
    }
   ],
   "source": [
    "load_dotenv(override=True)"
   ]
  },
  {
   "cell_type": "code",
   "execution_count": 4,
   "id": "9c5be706",
   "metadata": {},
   "outputs": [
    {
     "name": "stderr",
     "output_type": "stream",
     "text": [
      "Note: Environment variable`HF_TOKEN` is set and is the current active token independently from the token you've just configured.\n"
     ]
    }
   ],
   "source": [
    "hf_token = os.getenv(\"HF_TOKEN\")\n",
    "login(hf_token, add_to_git_credential=True)"
   ]
  },
  {
   "cell_type": "code",
   "execution_count": 5,
   "id": "cb21967b",
   "metadata": {},
   "outputs": [],
   "source": [
    "openai = OpenAI()"
   ]
  },
  {
   "cell_type": "code",
   "execution_count": 6,
   "id": "538ac363",
   "metadata": {},
   "outputs": [],
   "source": [
    "%matplotlib inline"
   ]
  },
  {
   "cell_type": "code",
   "execution_count": 13,
   "id": "03fec203",
   "metadata": {},
   "outputs": [],
   "source": [
    "# Loading the pickle files..\n",
    "\n",
    "with open('train.pkl', 'rb') as file:\n",
    "    train = pickle.load(file)\n",
    "with open('test.pkl', 'rb') as file:\n",
    "    test = pickle.load(file)"
   ]
  },
  {
   "cell_type": "code",
   "execution_count": 14,
   "id": "c5bfa37f",
   "metadata": {},
   "outputs": [],
   "source": [
    "# OpenAI recommends fine-tuning with populations of 50-100 examples\n",
    "# But as our examples are very small, I am suggesting we got with 500 examples (and 1 epoch)\n",
    "\n",
    "fine_tune_train = train[:500]\n",
    "fine_tune_validation = train[500: 550]"
   ]
  },
  {
   "cell_type": "markdown",
   "id": "9d6c16bc",
   "metadata": {},
   "source": [
    "### **Step 1.**\n",
    "Prepare our data for fine-tuning in JSONL (JSON Lines) format and upload to OpenAI"
   ]
  },
  {
   "cell_type": "code",
   "execution_count": null,
   "id": "2d5fb5d0",
   "metadata": {},
   "outputs": [],
   "source": [
    "# First let's work on a good prompt for a frontier model\n",
    "# Notice that I am removing \" to the nearest dollar\"\n",
    "# When we train our own models, we'll need to make the problem as easy as possible\n",
    "# but a frontier model needs no such simplification\n",
    "\n",
    "def messages_for(item):\n",
    "    system_message = \"You estimate the price of items. Reply only with the price, no explanation.\"\n",
    "    user_prompt = item.test_prompt().replace(\" to the nearest dollar\",\"\").replace(\"\\n\\nPrice is $\",\"\")\n",
    "    return [\n",
    "        {'role': 'system', 'content': system_message}, \n",
    "        {'role': 'user', 'content': user_prompt}, \n",
    "        {'role': 'assistant', 'content': f\"Price is ${item.price:.2f}\"}    # Supervised fine-tuning\n",
    "    ]"
   ]
  },
  {
   "cell_type": "code",
   "execution_count": null,
   "id": "4f1d3988",
   "metadata": {},
   "outputs": [
    {
     "data": {
      "text/plain": [
       "[{'role': 'system',\n",
       "  'content': 'You estimate the price of items. Reply only with the price, no explanation.'},\n",
       " {'role': 'user',\n",
       "  'content': 'How much does this cost?\\n\\nDelphi FG0166 Fuel Pump Module\\nDelphi brings 80 years of OE Heritage into each Delphi pump, ensuring quality and fitment for each Delphi part. Part is validated, tested and matched to the right vehicle application Delphi brings 80 years of OE Heritage into each Delphi assembly, ensuring quality and fitment for each Delphi part Always be sure to check and clean fuel tank to avoid unnecessary returns Rigorous OE-testing ensures the pump can withstand extreme temperatures Brand Delphi, Fit Type Vehicle Specific Fit, Dimensions LxWxH 19.7 x 7.7 x 5.1 inches, Weight 2.2 Pounds, Auto Part Position Unknown, Operation Mode Mechanical, Manufacturer Delphi, Model FUEL PUMP, Dimensions 19.7'},\n",
       " {'role': 'assistant', 'content': 'Price is $226.95'}]"
      ]
     },
     "execution_count": 21,
     "metadata": {},
     "output_type": "execute_result"
    }
   ],
   "source": [
    "# Trying out\n",
    "\n",
    "messages_for(train[0])"
   ]
  },
  {
   "cell_type": "code",
   "execution_count": 27,
   "id": "be049670",
   "metadata": {},
   "outputs": [],
   "source": [
    "# Convert the items into a list of json objects - a \"jsonl\" string\n",
    "# Each row represents a message in the form:\n",
    "# {'messages': [{'role': 'system', 'content': 'You estimate prices...}]}\n",
    "\n",
    "def make_jsonl(items):\n",
    "    result = \"\"\n",
    "    for item in items:\n",
    "        messages = messages_for(item)\n",
    "        messages_str = json.dumps(messages)\n",
    "        result += '{\"messages\": ' + messages_str +'}\\n'\n",
    "    return result.strip()"
   ]
  },
  {
   "cell_type": "code",
   "execution_count": 29,
   "id": "3be815f9",
   "metadata": {},
   "outputs": [
    {
     "name": "stdout",
     "output_type": "stream",
     "text": [
      "{\"messages\": [{\"role\": \"system\", \"content\": \"You estimate the price of items. Reply only with the price, no explanation.\"}, {\"role\": \"user\", \"content\": \"How much does this cost?\\n\\nDelphi FG0166 Fuel Pump Module\\nDelphi brings 80 years of OE Heritage into each Delphi pump, ensuring quality and fitment for each Delphi part. Part is validated, tested and matched to the right vehicle application Delphi brings 80 years of OE Heritage into each Delphi assembly, ensuring quality and fitment for each Delphi part Always be sure to check and clean fuel tank to avoid unnecessary returns Rigorous OE-testing ensures the pump can withstand extreme temperatures Brand Delphi, Fit Type Vehicle Specific Fit, Dimensions LxWxH 19.7 x 7.7 x 5.1 inches, Weight 2.2 Pounds, Auto Part Position Unknown, Operation Mode Mechanical, Manufacturer Delphi, Model FUEL PUMP, Dimensions 19.7\"}, {\"role\": \"assistant\", \"content\": \"Price is $226.95\"}]}\n",
      "{\"messages\": [{\"role\": \"system\", \"content\": \"You estimate the price of items. Reply only with the price, no explanation.\"}, {\"role\": \"user\", \"content\": \"How much does this cost?\\n\\nPower Stop Rear Z36 Truck and Tow Brake Kit with Calipers\\nThe Power Stop Z36 Truck & Tow Performance brake kit provides the superior stopping power demanded by those who tow boats, haul loads, tackle mountains, lift trucks, and play in the harshest conditions. The brake rotors are drilled to keep temperatures down during extreme braking and slotted to sweep away any debris for constant pad contact. Combined with our Z36 Carbon-Fiber Ceramic performance friction formulation, you can confidently push your rig to the limit and look good doing it with red powder brake calipers. Components are engineered to handle the stress of towing, hauling, mountainous driving, and lifted trucks. Dust-free braking performance. Z36 Carbon-Fiber Ceramic formula provides the extreme braking performance demanded by your truck or 4x\"}, {\"role\": \"assistant\", \"content\": \"Price is $506.98\"}]}\n",
      "{\"messages\": [{\"role\": \"system\", \"content\": \"You estimate the price of items. Reply only with the price, no explanation.\"}, {\"role\": \"user\", \"content\": \"How much does this cost?\\n\\nABBA 36 Gas Cooktop with 5 Sealed Burners - Tempered Glass Surface with SABAF Burners, Natural Gas Stove for Countertop, Home Improvement Essentials, Easy to Clean, 36 x 4.1 x 20.5\\ncooktop Gas powered with 4 fast burners and 1 ultra-fast center burner Tempered glass surface with removable grid for easy cleaning Lightweight for easy installation. Installation Manual Included Counter cutout Dimensions 19 3/8 x 34 1/2 (see diagram) Insured shipping for your satisfaction and peace of mind Brand Name ABBA EST. 1956, Weight 30 pounds, Dimensions 20.5\\\\ D x 36\\\\ W x 4.1\\\\ H, Installation Type Count\"}, {\"role\": \"assistant\", \"content\": \"Price is $405.00\"}]}\n"
     ]
    }
   ],
   "source": [
    "print(make_jsonl(train[:3]))"
   ]
  },
  {
   "cell_type": "code",
   "execution_count": 30,
   "id": "dd22eba4",
   "metadata": {},
   "outputs": [],
   "source": [
    "# convert the items into jsonl and write them into a file\n",
    "\n",
    "def write_jsonl(items, filename):\n",
    "    with open(filename, 'w') as f:\n",
    "        jsonl = make_jsonl(items)\n",
    "        f.write(jsonl)"
   ]
  },
  {
   "cell_type": "code",
   "execution_count": null,
   "id": "9e9c2a68",
   "metadata": {},
   "outputs": [],
   "source": [
    "# making the training jsonl file\n",
    "\n",
    "write_jsonl(fine_tune_train, \"fine_tune_train.jsonl\")"
   ]
  },
  {
   "cell_type": "code",
   "execution_count": 32,
   "id": "1672e97a",
   "metadata": {},
   "outputs": [],
   "source": [
    "# making the validation jsonl file\n",
    "\n",
    "write_jsonl(fine_tune_validation, \"fine_tune_validation.jsonl\")"
   ]
  },
  {
   "cell_type": "code",
   "execution_count": 33,
   "id": "a09e8e7d",
   "metadata": {},
   "outputs": [],
   "source": [
    "# NOTE: open in the 'rb' mode only\n",
    "\n",
    "with open(\"fine_tune_train.jsonl\", 'rb') as f:\n",
    "    train_file = openai.files.create(file=f, purpose=\"fine-tune\")"
   ]
  },
  {
   "cell_type": "code",
   "execution_count": 39,
   "id": "5449fb95",
   "metadata": {},
   "outputs": [
    {
     "data": {
      "text/plain": [
       "'file-UhWEGni6yUdSErLmcuW6Qb'"
      ]
     },
     "execution_count": 39,
     "metadata": {},
     "output_type": "execute_result"
    }
   ],
   "source": [
    "# A file object\n",
    "\n",
    "train_file.id"
   ]
  },
  {
   "cell_type": "code",
   "execution_count": null,
   "id": "6105f207",
   "metadata": {},
   "outputs": [],
   "source": [
    "# NOTE: open in the 'rb' mode only\n",
    "\n",
    "with open(\"fine_tune_validation.jsonl\", 'rb') as f:\n",
    "    validation_file=openai.files.create(file=f, purpose=\"fine-tune\")"
   ]
  },
  {
   "cell_type": "code",
   "execution_count": 40,
   "id": "c04afb14",
   "metadata": {},
   "outputs": [
    {
     "data": {
      "text/plain": [
       "'file-YbFXredcKomRFhmFKYHdh2'"
      ]
     },
     "execution_count": 40,
     "metadata": {},
     "output_type": "execute_result"
    }
   ],
   "source": [
    "# A file object\n",
    "\n",
    "validation_file.id"
   ]
  },
  {
   "cell_type": "markdown",
   "id": "ae417643",
   "metadata": {},
   "source": [
    "### **Step 2**\n",
    "I love Weights and Biases - a beautiful, free platform for monitoring training runs.\n",
    "Weights and Biases is integrated with OpenAI for fine-tuning.\n",
    "\n",
    "First set up your weights & biases free account at:\n",
    "\n",
    "https://wandb.ai\n",
    "\n",
    "From the Avatar >> Settings menu, near the bottom, you can create an API key.\n",
    "\n",
    "Then visit the OpenAI dashboard at:\n",
    "\n",
    "https://platform.openai.com/account/organization\n",
    "\n",
    "In the integrations section, you can add your Weights & Biases key."
   ]
  },
  {
   "cell_type": "markdown",
   "id": "fd21496e",
   "metadata": {},
   "source": [
    "#### ***And now time to Fine-Tune !!!***"
   ]
  },
  {
   "cell_type": "code",
   "execution_count": 38,
   "id": "80f9fad9",
   "metadata": {},
   "outputs": [],
   "source": [
    "wandb_integration = {\"type\": \"wandb\", \"wandb\": {\"project\": \"gpt-pricer\"}}"
   ]
  },
  {
   "cell_type": "code",
   "execution_count": 43,
   "id": "b0ff7e0b",
   "metadata": {},
   "outputs": [
    {
     "data": {
      "text/plain": [
       "FineTuningJob(id='ftjob-vxt4VssMDnvcFFIQXTxvU160', created_at=1755627834, error=Error(code=None, message=None, param=None), fine_tuned_model=None, finished_at=None, hyperparameters=Hyperparameters(batch_size='auto', learning_rate_multiplier='auto', n_epochs=1), model='gpt-4o-mini-2024-07-18', object='fine_tuning.job', organization_id='org-Eam8vqK2GxXIpRqBxXahn2Qi', result_files=[], seed=42, status='validating_files', trained_tokens=None, training_file='file-UhWEGni6yUdSErLmcuW6Qb', validation_file='file-YbFXredcKomRFhmFKYHdh2', estimated_finish=None, integrations=[FineTuningJobWandbIntegrationObject(type='wandb', wandb=FineTuningJobWandbIntegration(project='gpt-pricer', entity=None, name=None, tags=None, run_id='ftjob-vxt4VssMDnvcFFIQXTxvU160'))], metadata=None, method=Method(type='supervised', dpo=None, reinforcement=None, supervised=SupervisedMethod(hyperparameters=SupervisedHyperparameters(batch_size='auto', learning_rate_multiplier='auto', n_epochs=1))), user_provided_suffix='pricer', usage_metrics=None, shared_with_openai=False, eval_id=None)"
      ]
     },
     "execution_count": 43,
     "metadata": {},
     "output_type": "execute_result"
    }
   ],
   "source": [
    "# Here we go !!\n",
    "\n",
    "openai.fine_tuning.jobs.create(\n",
    "    training_file=train_file.id, \n",
    "    validation_file=validation_file.id, \n",
    "    model=\"gpt-4o-mini-2024-07-18\", \n",
    "    seed=42, \n",
    "    hyperparameters={\"n_epochs\": 1}, \n",
    "    integrations=[wandb_integration], \n",
    "    suffix=\"pricer\"\n",
    ")"
   ]
  },
  {
   "cell_type": "code",
   "execution_count": 44,
   "id": "b5ab5064",
   "metadata": {},
   "outputs": [
    {
     "data": {
      "text/plain": [
       "SyncCursorPage[FineTuningJob](data=[FineTuningJob(id='ftjob-vxt4VssMDnvcFFIQXTxvU160', created_at=1755627834, error=Error(code=None, message=None, param=None), fine_tuned_model=None, finished_at=None, hyperparameters=Hyperparameters(batch_size='auto', learning_rate_multiplier='auto', n_epochs=1), model='gpt-4o-mini-2024-07-18', object='fine_tuning.job', organization_id='org-Eam8vqK2GxXIpRqBxXahn2Qi', result_files=[], seed=42, status='validating_files', trained_tokens=None, training_file='file-UhWEGni6yUdSErLmcuW6Qb', validation_file='file-YbFXredcKomRFhmFKYHdh2', estimated_finish=None, integrations=[FineTuningJobWandbIntegrationObject(type='wandb', wandb=FineTuningJobWandbIntegration(project='gpt-pricer', entity=None, name=None, tags=None, run_id='ftjob-vxt4VssMDnvcFFIQXTxvU160'))], metadata=None, method=Method(type='supervised', dpo=None, reinforcement=None, supervised=SupervisedMethod(hyperparameters=SupervisedHyperparameters(batch_size='auto', learning_rate_multiplier='auto', n_epochs=1))), user_provided_suffix='pricer', usage_metrics=None, shared_with_openai=False, eval_id=None)], has_more=False, object='list')"
      ]
     },
     "execution_count": 44,
     "metadata": {},
     "output_type": "execute_result"
    }
   ],
   "source": [
    "openai.fine_tuning.jobs.list(limit=1)"
   ]
  },
  {
   "cell_type": "code",
   "execution_count": 46,
   "id": "183d3c57",
   "metadata": {},
   "outputs": [
    {
     "data": {
      "text/plain": [
       "'ftjob-vxt4VssMDnvcFFIQXTxvU160'"
      ]
     },
     "execution_count": 46,
     "metadata": {},
     "output_type": "execute_result"
    }
   ],
   "source": [
    "job_id = openai.fine_tuning.jobs.list(limit=1).data[0].id\n",
    "job_id"
   ]
  },
  {
   "cell_type": "code",
   "execution_count": 47,
   "id": "39e40650",
   "metadata": {},
   "outputs": [
    {
     "data": {
      "text/plain": [
       "FineTuningJob(id='ftjob-vxt4VssMDnvcFFIQXTxvU160', created_at=1755627834, error=Error(code=None, message=None, param=None), fine_tuned_model=None, finished_at=None, hyperparameters=Hyperparameters(batch_size='auto', learning_rate_multiplier='auto', n_epochs=1), model='gpt-4o-mini-2024-07-18', object='fine_tuning.job', organization_id='org-Eam8vqK2GxXIpRqBxXahn2Qi', result_files=[], seed=42, status='validating_files', trained_tokens=None, training_file='file-UhWEGni6yUdSErLmcuW6Qb', validation_file='file-YbFXredcKomRFhmFKYHdh2', estimated_finish=None, integrations=[FineTuningJobWandbIntegrationObject(type='wandb', wandb=FineTuningJobWandbIntegration(project='gpt-pricer', entity=None, name=None, tags=None, run_id='ftjob-vxt4VssMDnvcFFIQXTxvU160'))], metadata=None, method=Method(type='supervised', dpo=None, reinforcement=None, supervised=SupervisedMethod(hyperparameters=SupervisedHyperparameters(batch_size='auto', learning_rate_multiplier='auto', n_epochs=1))), user_provided_suffix='pricer', usage_metrics=None, shared_with_openai=False, eval_id=None)"
      ]
     },
     "execution_count": 47,
     "metadata": {},
     "output_type": "execute_result"
    }
   ],
   "source": [
    "openai.fine_tuning.jobs.retrieve(job_id)"
   ]
  },
  {
   "cell_type": "code",
   "execution_count": 220,
   "id": "d70cda73",
   "metadata": {},
   "outputs": [
    {
     "data": {
      "text/plain": [
       "[FineTuningJobEvent(id='ftevent-r474nFGkeojTX6daLp1SZIuk', created_at=1755630473, level='info', message='The job has successfully completed', object='fine_tuning.job.event', data={}, type='message'),\n",
       " FineTuningJobEvent(id='ftevent-iDOcni7TjwiGCaqRxc2x2LbE', created_at=1755630467, level='info', message='Usage policy evaluations completed, model is now enabled for sampling', object='fine_tuning.job.event', data={}, type='message'),\n",
       " FineTuningJobEvent(id='ftevent-S33DiN9kFXzMCkVysQpvJxEP', created_at=1755630467, level='info', message='Moderation checks for snapshot ft:gpt-4o-mini-2024-07-18:personal:pricer:C6LhHeCe passed.', object='fine_tuning.job.event', data={'blocked': False, 'results': [{'flagged': False, 'category': 'harassment/threatening', 'enforcement': 'blocking'}, {'flagged': False, 'category': 'sexual', 'enforcement': 'blocking'}, {'flagged': False, 'category': 'sexual/minors', 'enforcement': 'blocking'}, {'flagged': False, 'category': 'propaganda', 'enforcement': 'blocking'}, {'flagged': False, 'category': 'hate', 'enforcement': 'blocking'}, {'flagged': False, 'category': 'hate/threatening', 'enforcement': 'blocking'}, {'flagged': False, 'category': 'illicit', 'enforcement': 'blocking'}, {'flagged': False, 'category': 'violence', 'enforcement': 'blocking'}, {'flagged': False, 'category': 'advice', 'enforcement': 'blocking'}, {'flagged': False, 'category': 'self-harm/intent', 'enforcement': 'blocking'}, {'flagged': False, 'category': 'self-harm/instructions', 'enforcement': 'non_blocking'}, {'flagged': False, 'category': 'sensitive', 'enforcement': 'blocking'}, {'flagged': False, 'category': 'highly-sensitive', 'enforcement': 'blocking'}, {'flagged': False, 'category': 'biological threats', 'enforcement': 'blocking'}, {'flagged': False, 'category': 'cyber security threats', 'enforcement': 'blocking'}], 'finetuned_model_checkpoint_id': 'ft:gpt-4o-mini-2024-07-18:personal:pricer:C6LhHeCe'}, type='moderation_checks'),\n",
       " FineTuningJobEvent(id='ftevent-YzSoMq86GOEc3Q4RRYJgMyR6', created_at=1755629408, level='info', message='Evaluating model against our usage policies', object='fine_tuning.job.event', data={}, type='message'),\n",
       " FineTuningJobEvent(id='ftevent-dM9kr9gjrFko3BCpWxQkybdc', created_at=1755629408, level='info', message='New fine-tuned model created', object='fine_tuning.job.event', data={}, type='message'),\n",
       " FineTuningJobEvent(id='ftevent-FN2fhvKbbHYZi73DAloieH8H', created_at=1755629373, level='info', message='Step 500/500: training loss=1.12, validation loss=1.79, full validation loss=1.13', object='fine_tuning.job.event', data={'step': 500, 'train_loss': 1.1190822124481201, 'valid_loss': 1.7904472351074219, 'total_steps': 500, 'full_valid_loss': 1.1282742643356323, 'train_mean_token_accuracy': 0.75, 'valid_mean_token_accuracy': 0.75, 'full_valid_mean_token_accuracy': 0.8}, type='metrics'),\n",
       " FineTuningJobEvent(id='ftevent-HCRe93iJOEIAkQ7WG6Hrpnhv', created_at=1755629365, level='info', message='Step 499/500: training loss=1.16', object='fine_tuning.job.event', data={'step': 499, 'train_loss': 1.1641967296600342, 'total_steps': 500, 'train_mean_token_accuracy': 0.875}, type='metrics'),\n",
       " FineTuningJobEvent(id='ftevent-8lV7Yb9njBp4KthmSkFwkbLL', created_at=1755629364, level='info', message='Step 498/500: training loss=0.98', object='fine_tuning.job.event', data={'step': 498, 'train_loss': 0.9818291664123535, 'total_steps': 500, 'train_mean_token_accuracy': 0.75}, type='metrics'),\n",
       " FineTuningJobEvent(id='ftevent-KcZQIrAodYDwOAqblbfJJE6X', created_at=1755629362, level='info', message='Step 497/500: training loss=1.26', object='fine_tuning.job.event', data={'step': 497, 'train_loss': 1.2550499439239502, 'total_steps': 500, 'train_mean_token_accuracy': 0.75}, type='metrics'),\n",
       " FineTuningJobEvent(id='ftevent-EaWAPFrV47YGB6dGIr1ZaLPP', created_at=1755629362, level='info', message='Step 496/500: training loss=1.15', object='fine_tuning.job.event', data={'step': 496, 'train_loss': 1.1452689170837402, 'total_steps': 500, 'train_mean_token_accuracy': 0.875}, type='metrics')]"
      ]
     },
     "execution_count": 220,
     "metadata": {},
     "output_type": "execute_result"
    }
   ],
   "source": [
    "openai.fine_tuning.jobs.list_events(fine_tuning_job_id=job_id, limit=10).data"
   ]
  },
  {
   "cell_type": "markdown",
   "id": "ed8eb998",
   "metadata": {},
   "source": [
    "### **Step 3.**  \n",
    "Test our fine-tuned model"
   ]
  },
  {
   "cell_type": "code",
   "execution_count": null,
   "id": "6c589ad1",
   "metadata": {},
   "outputs": [],
   "source": [
    "# Getting our fine-tuned Model\n",
    "\n",
    "fine_tuned_model_name = openai.fine_tuning.jobs.retrieve(job_id).fine_tuned_model"
   ]
  },
  {
   "cell_type": "code",
   "execution_count": 223,
   "id": "baa1c1af",
   "metadata": {},
   "outputs": [
    {
     "data": {
      "text/plain": [
       "'ft:gpt-4o-mini-2024-07-18:personal:pricer:C6LhHeCe'"
      ]
     },
     "execution_count": 223,
     "metadata": {},
     "output_type": "execute_result"
    }
   ],
   "source": [
    "fine_tuned_model_name"
   ]
  },
  {
   "cell_type": "code",
   "execution_count": 224,
   "id": "ff1cd360",
   "metadata": {},
   "outputs": [],
   "source": [
    "# The prompt\n",
    "\n",
    "def messages_for(item):\n",
    "    system_message = \"You estimate the prices of items. Reply only with the price, no explanation.\"\n",
    "    user_prompt = item.test_prompt().replace(\" to the nearest dollar\",\"\").replace(\"\\n\\nPrice is $\",\"\")\n",
    "    return [\n",
    "        {'role': 'system', 'content': system_message}, \n",
    "        {'role': 'user', 'content': user_prompt}, \n",
    "        {'role': 'assistant', 'content': \"Price is $\"}\n",
    "    ]"
   ]
  },
  {
   "cell_type": "code",
   "execution_count": 225,
   "id": "8d86e27a",
   "metadata": {},
   "outputs": [
    {
     "data": {
      "text/plain": [
       "[{'role': 'system',\n",
       "  'content': 'You estimate the prices of items. Reply only with the price, no explanation.'},\n",
       " {'role': 'user',\n",
       "  'content': \"How much does this cost?\\n\\nOEM AC Compressor w/A/C Repair Kit For Ford F150 F-150 V8 & Lincoln Mark LT 2007 2008 - BuyAutoParts NEW\\nAs one of the world's largest automotive parts suppliers, our parts are trusted every day by mechanics and vehicle owners worldwide. This A/C Compressor and Components Kit is manufactured and tested to the strictest OE standards for unparalleled performance. Built for trouble-free ownership and 100% visually inspected and quality tested, this A/C Compressor and Components Kit is backed by our 100% satisfaction guarantee. Guaranteed Exact Fit for easy installation 100% BRAND NEW, premium ISO/TS 16949 quality - tested to meet or exceed OEM specifications Engineered for superior durability, backed by industry-leading unlimited-mileage warranty Included in this K\"},\n",
       " {'role': 'assistant', 'content': 'Price is $'}]"
      ]
     },
     "execution_count": 225,
     "metadata": {},
     "output_type": "execute_result"
    }
   ],
   "source": [
    "# Trying out\n",
    "\n",
    "messages_for(test[0])"
   ]
  },
  {
   "cell_type": "code",
   "execution_count": 226,
   "id": "566a55d5",
   "metadata": {},
   "outputs": [],
   "source": [
    "# A utility to extract the price from a string\n",
    "\n",
    "def get_price(s):\n",
    "    s = s.replace('$','').replace(',','')\n",
    "    match = re.search(r\"[-+]?\\d*\\.\\d+|\\d+\", s)\n",
    "    return float(match.group()) if match else 0"
   ]
  },
  {
   "cell_type": "code",
   "execution_count": 227,
   "id": "e5ab2353",
   "metadata": {},
   "outputs": [],
   "source": [
    "# Testing time\n",
    "\n",
    "def gpt_fine_tuned(item):\n",
    "    response = openai.chat.completions.create(\n",
    "        model=fine_tuned_model_name,\n",
    "        messages=messages_for(item),\n",
    "        seed=42, \n",
    "        max_tokens=5    \n",
    "    )\n",
    "    reply = response.choices[0].message.content\n",
    "    return get_price(reply)"
   ]
  },
  {
   "cell_type": "code",
   "execution_count": 228,
   "id": "bc5489f4",
   "metadata": {},
   "outputs": [
    {
     "name": "stdout",
     "output_type": "stream",
     "text": [
      "374.41\n",
      "262.0\n"
     ]
    }
   ],
   "source": [
    "print(test[0].price)\n",
    "print(gpt_fine_tuned(test[0]))"
   ]
  },
  {
   "cell_type": "code",
   "execution_count": 229,
   "id": "6397e0aa",
   "metadata": {},
   "outputs": [
    {
     "data": {
      "text/plain": [
       "\"How much does this cost to the nearest dollar?\\n\\nOEM AC Compressor w/A/C Repair Kit For Ford F150 F-150 V8 & Lincoln Mark LT 2007 2008 - BuyAutoParts NEW\\nAs one of the world's largest automotive parts suppliers, our parts are trusted every day by mechanics and vehicle owners worldwide. This A/C Compressor and Components Kit is manufactured and tested to the strictest OE standards for unparalleled performance. Built for trouble-free ownership and 100% visually inspected and quality tested, this A/C Compressor and Components Kit is backed by our 100% satisfaction guarantee. Guaranteed Exact Fit for easy installation 100% BRAND NEW, premium ISO/TS 16949 quality - tested to meet or exceed OEM specifications Engineered for superior durability, backed by industry-leading unlimited-mileage warranty Included in this K\\n\\nPrice is $\""
      ]
     },
     "execution_count": 229,
     "metadata": {},
     "output_type": "execute_result"
    }
   ],
   "source": [
    "test[0].test_prompt()"
   ]
  },
  {
   "cell_type": "code",
   "execution_count": 230,
   "id": "6c0ecf4d",
   "metadata": {},
   "outputs": [
    {
     "name": "stdout",
     "output_type": "stream",
     "text": [
      "\u001b[93m1: Guess: $262.00 Truth: $374.41 Error: $112.41 SLE: 0.13 Item: OEM AC Compressor w/A/C Repair Kit For F...\u001b[0m\n",
      "\u001b[91m2: Guess: $76.00 Truth: $225.11 Error: $149.11 SLE: 1.16 Item: Motorcraft YB3125 Fan Clutch\u001b[0m\n",
      "\u001b[93m3: Guess: $127.00 Truth: $61.68 Error: $65.32 SLE: 0.51 Item: Dorman 603-159 Front Washer Fluid Reserv...\u001b[0m\n",
      "\u001b[93m4: Guess: $390.00 Truth: $599.99 Error: $209.99 SLE: 0.18 Item: HP Premium 17.3-inch HD Plus Touchscreen...\u001b[0m\n",
      "\u001b[92m5: Guess: $22.00 Truth: $16.99 Error: $5.01 SLE: 0.06 Item: 5-Position Super Switch Pickup Selector ...\u001b[0m\n",
      "\u001b[92m6: Guess: $10.00 Truth: $31.99 Error: $21.99 SLE: 1.21 Item: Horror Bookmarks, Resin Horror Bookmarks...\u001b[0m\n",
      "\u001b[92m7: Guess: $127.00 Truth: $101.79 Error: $25.21 SLE: 0.05 Item: SK6241 - Stinger 4 Gauge 6000 Series Pow...\u001b[0m\n",
      "\u001b[93m8: Guess: $219.00 Truth: $289.00 Error: $70.00 SLE: 0.08 Item: Godox ML60Bi LED Light Kit, Handheld LED...\u001b[0m\n",
      "\u001b[93m9: Guess: $499.00 Truth: $635.86 Error: $136.86 SLE: 0.06 Item: Randall RG75DG3PLUS G3 Plus 100-Watt Com...\u001b[0m\n",
      "\u001b[92m10: Guess: $65.00 Truth: $65.99 Error: $0.99 SLE: 0.00 Item: HOLDWILL 6 Pack LED Shop Light, 4FT 24W ...\u001b[0m\n",
      "\u001b[92m11: Guess: $262.00 Truth: $254.21 Error: $7.79 SLE: 0.00 Item: Viking Horns V103C/1005ATK 3 Gallon Air ...\u001b[0m\n",
      "\u001b[91m12: Guess: $154.00 Truth: $412.99 Error: $258.99 SLE: 0.97 Item: CURT 70110 Custom Tow Bar Base Plate Bra...\u001b[0m\n",
      "\u001b[91m13: Guess: $47.00 Truth: $205.50 Error: $158.50 SLE: 2.13 Item: 10-Pack Solar HAMMERED BRONZE Finish Pos...\u001b[0m\n",
      "\u001b[91m14: Guess: $146.00 Truth: $248.23 Error: $102.23 SLE: 0.28 Item: COSTWAY Electric Tumble Dryer, Sliver\u001b[0m\n",
      "\u001b[92m15: Guess: $349.00 Truth: $399.00 Error: $50.00 SLE: 0.02 Item: FREE SIGNAL TV Transit 32\" 12 Volt DC Po...\u001b[0m\n",
      "\u001b[91m16: Guess: $202.00 Truth: $373.94 Error: $171.94 SLE: 0.38 Item: Bilstein 5100 Monotube Gas Shock Set com...\u001b[0m\n",
      "\u001b[92m17: Guess: $109.00 Truth: $92.89 Error: $16.11 SLE: 0.03 Item: Sangean K-200 Multi-Function Upright AM/...\u001b[0m\n",
      "\u001b[92m18: Guess: $65.00 Truth: $51.99 Error: $13.01 SLE: 0.05 Item: Charles Leonard Magnetic Lapboard Class ...\u001b[0m\n",
      "\u001b[91m19: Guess: $47.00 Truth: $179.00 Error: $132.00 SLE: 1.75 Item: Gigabyte AMD Radeon HD 7870 2 GB GDDR5 D...\u001b[0m\n",
      "\u001b[92m20: Guess: $10.00 Truth: $19.42 Error: $9.42 SLE: 0.38 Item: 3dRose LLC 8 x 8 x 0.25 Inches Bull Terr...\u001b[0m\n",
      "\u001b[92m21: Guess: $594.00 Truth: $539.95 Error: $54.05 SLE: 0.01 Item: ROKINON 85mm F1.4 Auto Focus Full Frame ...\u001b[0m\n",
      "\u001b[92m22: Guess: $143.00 Truth: $147.67 Error: $4.67 SLE: 0.00 Item: AUTOSAVER88 Headlight Assembly Compatibl...\u001b[0m\n",
      "\u001b[93m23: Guess: $65.00 Truth: $24.99 Error: $40.01 SLE: 0.87 Item: ASI NAUTICAL 2.5 Inches Opera Glasses Bi...\u001b[0m\n",
      "\u001b[91m24: Guess: $39.00 Truth: $149.00 Error: $110.00 SLE: 1.75 Item: Behringer TUBE OVERDRIVE TO100 Authentic...\u001b[0m\n",
      "\u001b[92m25: Guess: $8.00 Truth: $16.99 Error: $8.99 SLE: 0.48 Item: Fun Express Insect Finger Puppets - 24 f...\u001b[0m\n",
      "\u001b[92m26: Guess: $22.00 Truth: $7.99 Error: $14.01 SLE: 0.88 Item: WAFJAMF Roller Stamp Identity Theft Stam...\u001b[0m\n",
      "\u001b[93m27: Guess: $139.00 Truth: $199.99 Error: $60.99 SLE: 0.13 Item: Capulina Tiffany Floor Lamp 2-Light 16\" ...\u001b[0m\n",
      "\u001b[91m28: Guess: $100.00 Truth: $251.45 Error: $151.45 SLE: 0.84 Item: Apple Watch Series 6 (GPS, 44mm) - Space...\u001b[0m\n",
      "\u001b[91m29: Guess: $128.00 Truth: $231.62 Error: $103.62 SLE: 0.35 Item: ICON 01725 Tandem Axle Fender Skirt FS17...\u001b[0m\n",
      "\u001b[92m30: Guess: $127.00 Truth: $135.00 Error: $8.00 SLE: 0.00 Item: SanDisk 128GB Ultra (10 Pack) MicroSD Cl...\u001b[0m\n",
      "\u001b[91m31: Guess: $202.00 Truth: $356.62 Error: $154.62 SLE: 0.32 Item: Velvac 2020,L,C/Hr,W,E2003,102\",Bk - 715...\u001b[0m\n",
      "\u001b[91m32: Guess: $100.00 Truth: $257.99 Error: $157.99 SLE: 0.89 Item: TCMT Passenger Backrest Sissy Bar & Lugg...\u001b[0m\n",
      "\u001b[92m33: Guess: $30.00 Truth: $27.99 Error: $2.01 SLE: 0.00 Item: Alnicov 63.5MM Brass Tremolo Block，Tremo...\u001b[0m\n",
      "\u001b[93m34: Guess: $100.00 Truth: $171.20 Error: $71.20 SLE: 0.28 Item: Subaru Forester Outback Legacy OEM Engin...\u001b[0m\n",
      "\u001b[92m35: Guess: $219.00 Truth: $225.00 Error: $6.00 SLE: 0.00 Item: Richmond Auto Upholstery - 2012 Dodge Ra...\u001b[0m\n",
      "\u001b[92m36: Guess: $139.00 Truth: $105.00 Error: $34.00 SLE: 0.08 Item: AP-39 Automotive Paint Primer Grey 2K Ur...\u001b[0m\n",
      "\u001b[91m37: Guess: $127.00 Truth: $299.99 Error: $172.99 SLE: 0.73 Item: Road Top Wireless Carplay Retrofit Kit D...\u001b[0m\n",
      "\u001b[92m38: Guess: $453.00 Truth: $535.09 Error: $82.09 SLE: 0.03 Item: Gibson Performance Exhaust 5658 Aluminiz...\u001b[0m\n",
      "\u001b[92m39: Guess: $30.00 Truth: $12.33 Error: $17.67 SLE: 0.71 Item: Bella Tunno Happy Links - Baby Montessor...\u001b[0m\n",
      "\u001b[92m40: Guess: $109.00 Truth: $84.99 Error: $24.01 SLE: 0.06 Item: CANMORE H300 Handheld GPS Golf Device, S...\u001b[0m\n",
      "\u001b[92m41: Guess: $22.00 Truth: $15.99 Error: $6.01 SLE: 0.09 Item: DCPOWER AC Adapter Compatible Replacemen...\u001b[0m\n",
      "\u001b[92m42: Guess: $47.00 Truth: $62.44 Error: $15.44 SLE: 0.08 Item: Sharp, VX2128V, Commercial Desktop Calcu...\u001b[0m\n",
      "\u001b[92m43: Guess: $47.00 Truth: $82.99 Error: $35.99 SLE: 0.31 Item: Melissa & Doug Lifelike Plush Stork Gian...\u001b[0m\n",
      "\u001b[91m44: Guess: $198.00 Truth: $599.95 Error: $401.95 SLE: 1.22 Item: Sony SSCS8 2-Way 3-Driver Center Channel...\u001b[0m\n",
      "\u001b[92m45: Guess: $219.00 Truth: $194.99 Error: $24.01 SLE: 0.01 Item: ASUS Chromebook CX1, 14\" Full HD NanoEdg...\u001b[0m\n",
      "\u001b[92m46: Guess: $393.00 Truth: $344.95 Error: $48.05 SLE: 0.02 Item: FiiO X7 32GB Hi-Res Lossless Music Playe...\u001b[0m\n",
      "\u001b[92m47: Guess: $65.00 Truth: $37.99 Error: $27.01 SLE: 0.28 Item: TORRO Leather Case Compatible with iPhon...\u001b[0m\n",
      "\u001b[92m48: Guess: $262.00 Truth: $224.35 Error: $37.65 SLE: 0.02 Item: Universal Air Conditioner KT 1031 A/C Co...\u001b[0m\n",
      "\u001b[93m49: Guess: $594.00 Truth: $814.00 Error: $220.00 SLE: 0.10 Item: Street Series Stainless Performance Cat-...\u001b[0m\n",
      "\u001b[91m50: Guess: $164.00 Truth: $439.88 Error: $275.88 SLE: 0.97 Item: Lenovo IdeaPad 3 14-inch Laptop, 14.0-in...\u001b[0m\n",
      "\u001b[92m51: Guess: $322.00 Truth: $341.43 Error: $19.43 SLE: 0.00 Item: Access Bed Covers TonnoSport 22050219 - ...\u001b[0m\n",
      "\u001b[92m52: Guess: $65.00 Truth: $46.78 Error: $18.22 SLE: 0.10 Item: G.I. JOE Hasbro 3 3/4\" Wave 5 Action Fig...\u001b[0m\n",
      "\u001b[93m53: Guess: $221.00 Truth: $171.44 Error: $49.56 SLE: 0.06 Item: T&S Brass B-0232-BST Double Pantry Fauce...\u001b[0m\n",
      "\u001b[91m54: Guess: $139.00 Truth: $458.00 Error: $319.00 SLE: 1.41 Item: ZTUOAUMA Fuel Injection Pump 3090942 309...\u001b[0m\n",
      "\u001b[93m55: Guess: $174.00 Truth: $130.75 Error: $43.25 SLE: 0.08 Item: 2AP18AA#ABA Hp Prime Graphing Calculator...\u001b[0m\n",
      "\u001b[92m56: Guess: $49.00 Truth: $83.81 Error: $34.81 SLE: 0.28 Item: Lowrance 000-0119-83 Nmea 2000 25' Exten...\u001b[0m\n",
      "\u001b[91m57: Guess: $154.00 Truth: $386.39 Error: $232.39 SLE: 0.84 Item: Jeep Genuine Accessories 82213051 Hood L...\u001b[0m\n",
      "\u001b[93m58: Guess: $127.00 Truth: $169.00 Error: $42.00 SLE: 0.08 Item: GODOX CB-06 Hard Carrying Case with Whee...\u001b[0m\n",
      "\u001b[92m59: Guess: $34.00 Truth: $17.95 Error: $16.05 SLE: 0.38 Item: Au-Tomotive Gold, INC. Ford Black Valet ...\u001b[0m\n",
      "\u001b[91m60: Guess: $100.00 Truth: $269.00 Error: $169.00 SLE: 0.97 Item: Snailfly Black Roof Rack Rail + Cross Ba...\u001b[0m\n",
      "\u001b[93m61: Guess: $34.00 Truth: $77.77 Error: $43.77 SLE: 0.66 Item: KING SHA Anti Glare LED Track Lighting H...\u001b[0m\n",
      "\u001b[93m62: Guess: $143.00 Truth: $88.99 Error: $54.01 SLE: 0.22 Item: APS Compatible with Chevy Silverado 1500...\u001b[0m\n",
      "\u001b[91m63: Guess: $202.00 Truth: $364.41 Error: $162.41 SLE: 0.35 Item: Wilwood Engineering 14011291R Brake Cali...\u001b[0m\n",
      "\u001b[92m64: Guess: $127.00 Truth: $127.03 Error: $0.03 SLE: 0.00 Item: ACDelco Gold 336-1925A Starter, Remanufa...\u001b[0m\n",
      "\u001b[91m65: Guess: $393.00 Truth: $778.95 Error: $385.95 SLE: 0.47 Item: UWS EC10783 69-Inch Matte Black Heavy-Wa...\u001b[0m\n",
      "\u001b[91m66: Guess: $100.00 Truth: $206.66 Error: $106.66 SLE: 0.52 Item: Dell Latitude E5440 14in Business Laptop...\u001b[0m\n",
      "\u001b[92m67: Guess: $22.00 Truth: $35.94 Error: $13.94 SLE: 0.22 Item: (Plug and Play) Spare Tire Brake Light W...\u001b[0m\n",
      "\u001b[92m68: Guess: $143.00 Truth: $149.00 Error: $6.00 SLE: 0.00 Item: The Ultimate Roadside Rescue Assistant\u001b[0m\n",
      "\u001b[91m69: Guess: $146.00 Truth: $251.98 Error: $105.98 SLE: 0.29 Item: Brand New 18\" x 8.5\" Replacement Wheel f...\u001b[0m\n",
      "\u001b[92m70: Guess: $174.00 Truth: $160.00 Error: $14.00 SLE: 0.01 Item: Headlight Headlamp LH Left & RH Right Pa...\u001b[0m\n",
      "\u001b[92m71: Guess: $66.00 Truth: $39.99 Error: $26.01 SLE: 0.24 Item: Lilo And Stitch Deluxe Oversize Print La...\u001b[0m\n",
      "\u001b[91m72: Guess: $146.00 Truth: $362.41 Error: $216.41 SLE: 0.82 Item: AC Compressor & A/C Clutch For Hyundai A...\u001b[0m\n",
      "\u001b[91m73: Guess: $127.00 Truth: $344.00 Error: $217.00 SLE: 0.98 Item: House Of Troy PIN475-AB Pinnacle Collect...\u001b[0m\n",
      "\u001b[92m74: Guess: $65.00 Truth: $25.09 Error: $39.91 SLE: 0.86 Item: Juno T29 WH Floating Electrical Feed Sin...\u001b[0m\n",
      "\u001b[92m75: Guess: $143.00 Truth: $175.95 Error: $32.95 SLE: 0.04 Item: Sherman GO-PARTS - for 2013-2016 Toyota ...\u001b[0m\n",
      "\u001b[92m76: Guess: $139.00 Truth: $132.64 Error: $6.36 SLE: 0.00 Item: Roland RPU-3 Electronic Keyboard Pedal o...\u001b[0m\n",
      "\u001b[91m77: Guess: $127.00 Truth: $422.99 Error: $295.99 SLE: 1.43 Item: Rockland VMI14 12,000 Pound 12 Volt DC E...\u001b[0m\n",
      "\u001b[92m78: Guess: $146.00 Truth: $146.48 Error: $0.48 SLE: 0.00 Item: Max Advanced Brakes Elite XDS Front Cros...\u001b[0m\n",
      "\u001b[92m79: Guess: $154.00 Truth: $156.83 Error: $2.83 SLE: 0.00 Item: Quality-Built 11030 Premium Quality Alte...\u001b[0m\n",
      "\u001b[91m80: Guess: $47.00 Truth: $251.99 Error: $204.99 SLE: 2.76 Item: Lucida LG-510 Student Classical Guitar, ...\u001b[0m\n",
      "\u001b[91m81: Guess: $219.00 Truth: $940.33 Error: $721.33 SLE: 2.11 Item: Longacre 52-79800 Aluminum Turn Plates\u001b[0m\n",
      "\u001b[92m82: Guess: $66.00 Truth: $52.99 Error: $13.01 SLE: 0.05 Item: Motion Pro 08-0380 Adjustable Torque Wre...\u001b[0m\n",
      "\u001b[91m83: Guess: $393.00 Truth: $219.95 Error: $173.05 SLE: 0.33 Item: Glyph Thunderbolt 3 NVMe Dock (0 GB)\u001b[0m\n",
      "\u001b[93m84: Guess: $322.00 Truth: $441.03 Error: $119.03 SLE: 0.10 Item: TOYO Open Country MT Performance Radial ...\u001b[0m\n",
      "\u001b[92m85: Guess: $174.00 Truth: $168.98 Error: $5.02 SLE: 0.00 Item: Razer Seiren X USB Streaming Microphone ...\u001b[0m\n",
      "\u001b[92m86: Guess: $5.00 Truth: $2.49 Error: $2.51 SLE: 0.29 Item: Happy Birthday to Dad From Your Daughter...\u001b[0m\n",
      "\u001b[92m87: Guess: $65.00 Truth: $98.62 Error: $33.62 SLE: 0.17 Item: Little Tikes My Real Jam First Concert S...\u001b[0m\n",
      "\u001b[91m88: Guess: $139.00 Truth: $256.95 Error: $117.95 SLE: 0.37 Item: Studio M Peace and Harmony Art Pole Comm...\u001b[0m\n",
      "\u001b[92m89: Guess: $22.00 Truth: $30.99 Error: $8.99 SLE: 0.11 Item: MyVolts 12V Power Supply Adaptor Compati...\u001b[0m\n",
      "\u001b[91m90: Guess: $164.00 Truth: $569.84 Error: $405.84 SLE: 1.54 Item: Dell Latitude 7212 Rugged Extreme Tablet...\u001b[0m\n",
      "\u001b[92m91: Guess: $143.00 Truth: $177.99 Error: $34.99 SLE: 0.05 Item: Covermates Contour Fit Car Cover - Light...\u001b[0m\n",
      "\u001b[91m92: Guess: $594.00 Truth: $997.99 Error: $403.99 SLE: 0.27 Item: Westin 57-4025 Black HDX Grille Guard fi...\u001b[0m\n",
      "\u001b[92m93: Guess: $202.00 Truth: $219.00 Error: $17.00 SLE: 0.01 Item: Fieldpiece JL2 Job Link Wireless App Tra...\u001b[0m\n",
      "\u001b[91m94: Guess: $47.00 Truth: $225.55 Error: $178.55 SLE: 2.41 Item: hansgrohe Talis S Modern Premium Easy Cl...\u001b[0m\n",
      "\u001b[93m95: Guess: $393.00 Truth: $495.95 Error: $102.95 SLE: 0.05 Item: G-Technology G-SPEED eS PRO High-Perform...\u001b[0m\n",
      "\u001b[93m96: Guess: $726.00 Truth: $942.37 Error: $216.37 SLE: 0.07 Item: DreamLine SHDR-1960723L-01 Shower Door, ...\u001b[0m\n",
      "\u001b[93m97: Guess: $65.00 Truth: $1.94 Error: $63.06 SLE: 9.68 Item: Sanctuary Square Backplate Finish: Oiled...\u001b[0m\n",
      "\u001b[93m98: Guess: $224.00 Truth: $284.34 Error: $60.34 SLE: 0.06 Item: Pelican Protector 1750 Long Case - Multi...\u001b[0m\n",
      "\u001b[93m99: Guess: $100.00 Truth: $171.90 Error: $71.90 SLE: 0.29 Item: Brock Replacement Driver and Passenger H...\u001b[0m\n",
      "\u001b[92m100: Guess: $139.00 Truth: $144.99 Error: $5.99 SLE: 0.00 Item: Carlinkit Ai Box Mini, Android 11, Multi...\u001b[0m\n",
      "\u001b[91m101: Guess: $139.00 Truth: $470.47 Error: $331.47 SLE: 1.47 Item: StarDot NetCamLIVE2 YouTube Live Stream ...\u001b[0m\n",
      "\u001b[92m102: Guess: $65.00 Truth: $66.95 Error: $1.95 SLE: 0.00 Item: Atomic Compatible FILXXCAR0016 16x25x5 M...\u001b[0m\n",
      "\u001b[92m103: Guess: $139.00 Truth: $117.00 Error: $22.00 SLE: 0.03 Item: Bandai Awakening of S. H. s.h.figuarts s...\u001b[0m\n",
      "\u001b[93m104: Guess: $128.00 Truth: $172.14 Error: $44.14 SLE: 0.09 Item: Fit System 62135G Passenger Side Towing ...\u001b[0m\n",
      "\u001b[91m105: Guess: $47.00 Truth: $392.74 Error: $345.74 SLE: 4.43 Item: Black Horse Black Aluminum Exceed Runnin...\u001b[0m\n",
      "\u001b[92m106: Guess: $22.00 Truth: $16.99 Error: $5.01 SLE: 0.06 Item: Dearsun Twinkle Star Color Night Light P...\u001b[0m\n",
      "\u001b[93m107: Guess: $47.22 Truth: $1.34 Error: $45.88 SLE: 9.15 Item: Pokemon - Gallade Spirit Link (83/108) -...\u001b[0m\n",
      "\u001b[91m108: Guess: $174.00 Truth: $349.98 Error: $175.98 SLE: 0.48 Item: Ibanez GA34STCE-NT GIO Series Classical ...\u001b[0m\n",
      "\u001b[91m109: Guess: $127.00 Truth: $370.71 Error: $243.71 SLE: 1.14 Item: Set 2 Heavy Duty 12-16.5 12x16.5 12 Ply ...\u001b[0m\n",
      "\u001b[93m110: Guess: $127.00 Truth: $65.88 Error: $61.12 SLE: 0.42 Item: Hairpin Table Legs 28\" Heavy Duty Hairpi...\u001b[0m\n",
      "\u001b[91m111: Guess: $47.99 Truth: $229.99 Error: $182.00 SLE: 2.40 Item: Marada Racing Seat with Adjustable Slide...\u001b[0m\n",
      "\u001b[92m112: Guess: $47.00 Truth: $9.14 Error: $37.86 SLE: 2.42 Item: Remington Industries 24UL1007STRWHI25 24...\u001b[0m\n",
      "\u001b[91m113: Guess: $47.00 Truth: $199.00 Error: $152.00 SLE: 2.04 Item: Acer S3-391-6046 13.3-inch Ultrabook, In...\u001b[0m\n",
      "\u001b[91m114: Guess: $196.00 Truth: $109.99 Error: $86.01 SLE: 0.33 Item: ICBEAMER 7\" RGB LED Headlights Bulb Halo...\u001b[0m\n",
      "\u001b[91m115: Guess: $322.00 Truth: $570.42 Error: $248.42 SLE: 0.33 Item: R1 Concepts Front Rear Brakes and Rotors...\u001b[0m\n",
      "\u001b[92m116: Guess: $240.00 Truth: $279.99 Error: $39.99 SLE: 0.02 Item: Camplux 2.64 GPM Tankless , Outdoor Port...\u001b[0m\n",
      "\u001b[92m117: Guess: $47.99 Truth: $30.99 Error: $17.00 SLE: 0.18 Item: KNOKLOCK 10 Pack 3.75 Inch(96mm) Kitchen...\u001b[0m\n",
      "\u001b[92m118: Guess: $24.00 Truth: $31.99 Error: $7.99 SLE: 0.08 Item: Valley Enterprises Yaesu USB FTDI CT-62 ...\u001b[0m\n",
      "\u001b[92m119: Guess: $22.00 Truth: $15.90 Error: $6.10 SLE: 0.09 Item: G9 LED Light Bulbs，8W，75W 100W replaceme...\u001b[0m\n",
      "\u001b[92m120: Guess: $43.00 Truth: $45.99 Error: $2.99 SLE: 0.00 Item: ZCHAOZ 4 Lights Antique White Farmhouse ...\u001b[0m\n",
      "\u001b[92m121: Guess: $127.00 Truth: $113.52 Error: $13.48 SLE: 0.01 Item: Honeywell TH8320R1003 Honeywell VisionPr...\u001b[0m\n",
      "\u001b[93m122: Guess: $322.99 Truth: $516.99 Error: $194.00 SLE: 0.22 Item: Patriot Exhaust H8013-1 1-7/8\" Clippster...\u001b[0m\n",
      "\u001b[91m123: Guess: $110.00 Truth: $196.99 Error: $86.99 SLE: 0.33 Item: Fitrite Autopart New Front Left Driver S...\u001b[0m\n",
      "\u001b[92m124: Guess: $22.00 Truth: $46.55 Error: $24.55 SLE: 0.53 Item: Technical Precision Replacement for GE G...\u001b[0m\n",
      "\u001b[93m125: Guess: $221.00 Truth: $356.99 Error: $135.99 SLE: 0.23 Item: Covercraft Carhartt SeatSaver Front Row ...\u001b[0m\n",
      "\u001b[91m126: Guess: $127.00 Truth: $319.95 Error: $192.95 SLE: 0.85 Item: Sennheiser SD Pro 2 (506008) - Double-Si...\u001b[0m\n",
      "\u001b[93m127: Guess: $154.00 Truth: $96.06 Error: $57.94 SLE: 0.22 Item: Hitachi MAF0110 Mass Air Flow Sensor\u001b[0m\n",
      "\u001b[91m128: Guess: $47.00 Truth: $190.99 Error: $143.99 SLE: 1.92 Item: AmScope SE305R-P-LED-PS36A 10X-30X LED C...\u001b[0m\n",
      "\u001b[91m129: Guess: $100.00 Truth: $257.95 Error: $157.95 SLE: 0.89 Item: Front Left Driver Side Window Regulator ...\u001b[0m\n",
      "\u001b[93m130: Guess: $127.00 Truth: $62.95 Error: $64.05 SLE: 0.48 Item: Premium Replica Hubcap Set, Fits Nissan ...\u001b[0m\n",
      "\u001b[92m131: Guess: $66.00 Truth: $47.66 Error: $18.34 SLE: 0.10 Item: Excellerations Phonics Spelling Game for...\u001b[0m\n",
      "\u001b[91m132: Guess: $349.00 Truth: $226.99 Error: $122.01 SLE: 0.18 Item: RC4WD BigDog Dual Axle Scale Car/Truck T...\u001b[0m\n",
      "\u001b[91m133: Guess: $194.00 Truth: $359.95 Error: $165.95 SLE: 0.38 Item: Unknown Stage 2 Clutch Kit - Low Altitud...\u001b[0m\n",
      "\u001b[92m134: Guess: $65.00 Truth: $78.40 Error: $13.40 SLE: 0.03 Item: 2002-2008 Dodge Ram 1500 Mopar 4X4 Emble...\u001b[0m\n",
      "\u001b[92m135: Guess: $143.00 Truth: $172.77 Error: $29.77 SLE: 0.04 Item: Pro Comp Alloys Series 89 Wheel with Pol...\u001b[0m\n",
      "\u001b[93m136: Guess: $393.00 Truth: $316.45 Error: $76.55 SLE: 0.05 Item: Detroit Axle - Front Rear Strut & Coil S...\u001b[0m\n",
      "\u001b[91m137: Guess: $179.00 Truth: $87.99 Error: $91.01 SLE: 0.50 Item: ECCPP Rear Wheel Axle Replacement fit fo...\u001b[0m\n",
      "\u001b[91m138: Guess: $393.00 Truth: $226.63 Error: $166.37 SLE: 0.30 Item: Dell Latitude E6520 Intel i7-2720QM 2.20...\u001b[0m\n",
      "\u001b[92m139: Guess: $22.00 Truth: $31.49 Error: $9.49 SLE: 0.12 Item: F FIERCE CYCLE 251pcs Black Universal Mo...\u001b[0m\n",
      "\u001b[93m140: Guess: $127.00 Truth: $196.00 Error: $69.00 SLE: 0.19 Item: Flash Furniture 4 Pk. HERCULES Series 88...\u001b[0m\n",
      "\u001b[93m141: Guess: $127.00 Truth: $78.40 Error: $48.60 SLE: 0.23 Item: B&M 30287 Throttle Valve/Kickdown Cable,...\u001b[0m\n",
      "\u001b[93m142: Guess: $47.00 Truth: $116.25 Error: $69.25 SLE: 0.80 Item: Gates TCK226 PowerGrip Premium Timing Be...\u001b[0m\n",
      "\u001b[92m143: Guess: $127.00 Truth: $112.78 Error: $14.22 SLE: 0.01 Item: Monroe Shocks & Struts Quick-Strut 17149...\u001b[0m\n",
      "\u001b[92m144: Guess: $49.00 Truth: $27.32 Error: $21.68 SLE: 0.32 Item: Feit Electric BPMR16/GU10/930CA/6 35W EQ...\u001b[0m\n",
      "\u001b[91m145: Guess: $47.00 Truth: $145.91 Error: $98.91 SLE: 1.25 Item: Yellow Jacket 2806 Contractor Extension ...\u001b[0m\n",
      "\u001b[92m146: Guess: $143.00 Truth: $171.09 Error: $28.09 SLE: 0.03 Item: Garage-Pro Tailgate SET Compatible with ...\u001b[0m\n",
      "\u001b[92m147: Guess: $154.00 Truth: $167.95 Error: $13.95 SLE: 0.01 Item: 3M Perfect It Buffing and Polishing Kit ...\u001b[0m\n",
      "\u001b[92m148: Guess: $22.00 Truth: $28.49 Error: $6.49 SLE: 0.06 Item: Chinese Style Dollhouse Model DIY Miniat...\u001b[0m\n",
      "\u001b[92m149: Guess: $139.00 Truth: $122.23 Error: $16.77 SLE: 0.02 Item: Generic NRG Innovations SRK-161H Steerin...\u001b[0m\n",
      "\u001b[92m150: Guess: $22.00 Truth: $32.99 Error: $10.99 SLE: 0.15 Item: Learning Resources Coding Critters Range...\u001b[0m\n",
      "\u001b[93m151: Guess: $143.00 Truth: $71.20 Error: $71.80 SLE: 0.48 Item: Bosch Automotive 15463 Oxygen Sensor, OE...\u001b[0m\n",
      "\u001b[93m152: Guess: $47.00 Truth: $112.75 Error: $65.75 SLE: 0.74 Item: Case of 24-2 Inch Blue Painters Tape - 6...\u001b[0m\n",
      "\u001b[92m153: Guess: $127.00 Truth: $142.43 Error: $15.43 SLE: 0.01 Item: MOCA Engine Water Pump & Fan Clutch fit ...\u001b[0m\n",
      "\u001b[93m154: Guess: $276.00 Truth: $398.99 Error: $122.99 SLE: 0.13 Item: SAREMAS Foot Step Bars for Hyundai Palis...\u001b[0m\n",
      "\u001b[92m155: Guess: $490.00 Truth: $449.00 Error: $41.00 SLE: 0.01 Item: Gretsch G9210 Square Neck Boxcar Mahogan...\u001b[0m\n",
      "\u001b[93m156: Guess: $139.00 Truth: $189.00 Error: $50.00 SLE: 0.09 Item: NikoMaku Mirror Dash Cam Front and Rear ...\u001b[0m\n",
      "\u001b[92m157: Guess: $109.00 Truth: $120.91 Error: $11.91 SLE: 0.01 Item: Fenix HP25R v2.0 USB-C Rechargeable Head...\u001b[0m\n",
      "\u001b[91m158: Guess: $100.00 Truth: $203.53 Error: $103.53 SLE: 0.50 Item: R&L Racing Heavy Duty Roll-Up Soft Tonne...\u001b[0m\n",
      "\u001b[91m159: Guess: $199.00 Truth: $349.99 Error: $150.99 SLE: 0.32 Item: Garmin 010-02258-10 GPSMAP 64sx, Handhel...\u001b[0m\n",
      "\u001b[92m160: Guess: $29.00 Truth: $34.35 Error: $5.35 SLE: 0.03 Item: Brown 5-7/8\" X 8-1/2\" X 3/16\" Thick Heav...\u001b[0m\n",
      "\u001b[92m161: Guess: $349.00 Truth: $384.99 Error: $35.99 SLE: 0.01 Item: GAOMON PD2200 Pen Display & 20 Pen Nibs ...\u001b[0m\n",
      "\u001b[93m162: Guess: $164.00 Truth: $211.00 Error: $47.00 SLE: 0.06 Item: VXMOTOR for 97-03 Ford F150/F250 Lightdu...\u001b[0m\n",
      "\u001b[92m163: Guess: $127.00 Truth: $129.00 Error: $2.00 SLE: 0.00 Item: HP EliteBook 2540p Intel Core i7-640LM X...\u001b[0m\n",
      "\u001b[93m164: Guess: $66.00 Truth: $111.45 Error: $45.45 SLE: 0.27 Item: Green EPX Mixing Nozzles 100-Pack-fits 3...\u001b[0m\n",
      "\u001b[92m165: Guess: $49.00 Truth: $81.12 Error: $32.12 SLE: 0.25 Item: Box Partners 6 1/4 x 3 1/8\" 13 Pt. Manil...\u001b[0m\n",
      "\u001b[91m166: Guess: $127.00 Truth: $457.08 Error: $330.08 SLE: 1.63 Item: Vixen Air 1/2\" NPT Air Ride Suspension H...\u001b[0m\n",
      "\u001b[92m167: Guess: $65.00 Truth: $49.49 Error: $15.51 SLE: 0.07 Item: Smart Floor Lamp, 2700-6500K+RGBPink Mul...\u001b[0m\n",
      "\u001b[92m168: Guess: $65.00 Truth: $80.56 Error: $15.56 SLE: 0.04 Item: SOZG 324mm Wheelbase Body Shell RC Car B...\u001b[0m\n",
      "\u001b[93m169: Guess: $221.00 Truth: $278.39 Error: $57.39 SLE: 0.05 Item: Mickey Thompson ET Street S/S Racing Rad...\u001b[0m\n",
      "\u001b[91m170: Guess: $202.00 Truth: $364.50 Error: $162.50 SLE: 0.35 Item: Pirelli 275/40R20 106W XL RFT P0 PZ4-LUX...\u001b[0m\n",
      "\u001b[93m171: Guess: $262.00 Truth: $378.99 Error: $116.99 SLE: 0.14 Item: Torklift C3212 Rear Tie Down\u001b[0m\n",
      "\u001b[93m172: Guess: $100.00 Truth: $165.28 Error: $65.28 SLE: 0.25 Item: Cardone 78-4226 Remanufactured Ford Comp...\u001b[0m\n",
      "\u001b[93m173: Guess: $127.00 Truth: $56.74 Error: $70.26 SLE: 0.63 Item: Kidde AccessPoint 001798 Supra TouchPoin...\u001b[0m\n",
      "\u001b[91m174: Guess: $146.00 Truth: $307.95 Error: $161.95 SLE: 0.55 Item: 3M Protecta 3100414 Self Retracting Life...\u001b[0m\n",
      "\u001b[92m175: Guess: $65.00 Truth: $38.00 Error: $27.00 SLE: 0.28 Item: Plantronics 89435-01 Wired Headset, Blac...\u001b[0m\n",
      "\u001b[92m176: Guess: $76.00 Truth: $53.00 Error: $23.00 SLE: 0.13 Item: Logitech K750 Wireless Solar Keyboard fo...\u001b[0m\n",
      "\u001b[93m177: Guess: $349.00 Truth: $498.00 Error: $149.00 SLE: 0.13 Item: Olympus PEN E-PL9 Body Only with 3-Inch ...\u001b[0m\n",
      "\u001b[93m178: Guess: $127.00 Truth: $53.99 Error: $73.01 SLE: 0.71 Item: Beck/Arnley 051-6066 Hub & Bearing Assem...\u001b[0m\n",
      "\u001b[91m179: Guess: $196.00 Truth: $350.00 Error: $154.00 SLE: 0.33 Item: Eibach Pro-Kit Performance Springs E10-6...\u001b[0m\n",
      "\u001b[93m180: Guess: $393.00 Truth: $299.95 Error: $93.05 SLE: 0.07 Item: LEGO DC Batman 1989 Batwing 76161 Displa...\u001b[0m\n",
      "\u001b[93m181: Guess: $47.00 Truth: $94.93 Error: $47.93 SLE: 0.48 Item: Kingston Brass KS3608PL Restoration 4-In...\u001b[0m\n",
      "\u001b[91m182: Guess: $219.00 Truth: $379.00 Error: $160.00 SLE: 0.30 Item: Polk Vanishing Series 265-LS In-Wall 3-W...\u001b[0m\n",
      "\u001b[91m183: Guess: $146.00 Truth: $299.95 Error: $153.95 SLE: 0.51 Item: Spec-D Tuning LED Projector Headlights G...\u001b[0m\n",
      "\u001b[92m184: Guess: $30.00 Truth: $24.99 Error: $5.01 SLE: 0.03 Item: RICHMOND & FINCH Airpod Pro Case, Green ...\u001b[0m\n",
      "\u001b[91m185: Guess: $147.00 Truth: $41.04 Error: $105.96 SLE: 1.58 Item: LFA Industries 43B-5A-33JT 1/16-1/2-1.5-...\u001b[0m\n",
      "\u001b[91m186: Guess: $139.00 Truth: $327.90 Error: $188.90 SLE: 0.73 Item: SAUTVS LED Headlight Assembly for Slings...\u001b[0m\n",
      "\u001b[92m187: Guess: $22.00 Truth: $10.99 Error: $11.01 SLE: 0.42 Item: 2 Pack Combo Womens Safety Glasses Impac...\u001b[0m\n",
      "\u001b[92m188: Guess: $22.00 Truth: $14.99 Error: $7.01 SLE: 0.13 Item: Arepa - Venezuelan cuisine - Venezuela P...\u001b[0m\n",
      "\u001b[92m189: Guess: $47.00 Truth: $84.95 Error: $37.95 SLE: 0.34 Item: Schlage Lock Company KS23D2300 Padlock, ...\u001b[0m\n",
      "\u001b[92m190: Guess: $118.00 Truth: $111.00 Error: $7.00 SLE: 0.00 Item: Techni Mobili White Sit to Stand Mobile ...\u001b[0m\n",
      "\u001b[92m191: Guess: $100.00 Truth: $123.73 Error: $23.73 SLE: 0.04 Item: Special Lite Products Contemporary Wall ...\u001b[0m\n",
      "\u001b[91m192: Guess: $199.00 Truth: $557.38 Error: $358.38 SLE: 1.05 Item: Tascam DP-24SD 24-Track Digital Portastu...\u001b[0m\n",
      "\u001b[93m193: Guess: $143.00 Truth: $95.55 Error: $47.45 SLE: 0.16 Item: Glow Lighting 636CC10SP Vista Crystal Fl...\u001b[0m\n",
      "\u001b[93m194: Guess: $219.00 Truth: $154.00 Error: $65.00 SLE: 0.12 Item: Z3 Wind Deflector, Smoke Tint, Lexan, Wi...\u001b[0m\n",
      "\u001b[91m195: Guess: $47.22 Truth: $198.99 Error: $151.77 SLE: 2.02 Item: Olympus E-20 5MP Digital Camera w/ 4x Op...\u001b[0m\n",
      "\u001b[91m196: Guess: $127.00 Truth: $430.44 Error: $303.44 SLE: 1.48 Item: PHYNEDI 1:1000 World Trade Center (1973-...\u001b[0m\n",
      "\u001b[92m197: Guess: $30.00 Truth: $45.67 Error: $15.67 SLE: 0.17 Item: YANGHUAN Unstable Unicorns Adventure Car...\u001b[0m\n",
      "\u001b[91m198: Guess: $100.00 Truth: $249.00 Error: $149.00 SLE: 0.82 Item: Interlogix NX-1820E NetworX Touch Screen...\u001b[0m\n",
      "\u001b[92m199: Guess: $47.00 Truth: $42.99 Error: $4.01 SLE: 0.01 Item: Steering Damper,Universal Motorcycle Han...\u001b[0m\n",
      "\u001b[92m200: Guess: $143.00 Truth: $181.33 Error: $38.33 SLE: 0.06 Item: Amprobe TIC 410A Hot Stick Attachment\u001b[0m\n",
      "\u001b[92m201: Guess: $8.00 Truth: $6.03 Error: $1.97 SLE: 0.06 Item: MyCableMart 3.5mm Plug/Jack, 4 Conductor...\u001b[0m\n",
      "\u001b[92m202: Guess: $22.00 Truth: $29.99 Error: $7.99 SLE: 0.09 Item: OtterBox + Pop Symmetry Series Case for ...\u001b[0m\n",
      "\u001b[91m203: Guess: $1,271.00 Truth: $899.00 Error: $372.00 SLE: 0.12 Item: Dell XPS X8700-1572BLK Desktop ( Intel C...\u001b[0m\n",
      "\u001b[91m204: Guess: $139.00 Truth: $399.99 Error: $260.99 SLE: 1.11 Item: Franklin Iron Works Sperry Industrial Br...\u001b[0m\n",
      "\u001b[93m205: Guess: $47.00 Truth: $4.66 Error: $42.34 SLE: 4.57 Item: Avery Legal Dividers, Standard Collated ...\u001b[0m\n",
      "\u001b[91m206: Guess: $100.00 Truth: $261.41 Error: $161.41 SLE: 0.91 Item: Moen 8346 Commercial Posi-Temp Pressure ...\u001b[0m\n",
      "\u001b[92m207: Guess: $174.00 Truth: $136.97 Error: $37.03 SLE: 0.06 Item: Carlisle Versa Trail ATR All Terrain Rad...\u001b[0m\n",
      "\u001b[93m208: Guess: $127.00 Truth: $79.00 Error: $48.00 SLE: 0.22 Item: SUNWAYFOTO 44mm Tripod Ball Head Arca Co...\u001b[0m\n",
      "\u001b[93m209: Guess: $289.00 Truth: $444.99 Error: $155.99 SLE: 0.19 Item: NanoBeam AC NBE-5AC-Gen2-US 4 Units 5GHz...\u001b[0m\n",
      "\u001b[92m210: Guess: $393.00 Truth: $411.94 Error: $18.94 SLE: 0.00 Item: WULF 4\" Front 2\" Rear Leveling Lift Kit ...\u001b[0m\n",
      "\u001b[91m211: Guess: $276.00 Truth: $148.40 Error: $127.60 SLE: 0.38 Item: Alera ALEVABFMC Valencia Series Mobile B...\u001b[0m\n",
      "\u001b[91m212: Guess: $127.00 Truth: $244.99 Error: $117.99 SLE: 0.43 Item: YU-GI-OH! Ignition Assault Booster Box\u001b[0m\n",
      "\u001b[92m213: Guess: $47.00 Truth: $86.50 Error: $39.50 SLE: 0.36 Item: 48\" x 36\" Extra-Large Framed Magnetic Bl...\u001b[0m\n",
      "\u001b[91m214: Guess: $47.00 Truth: $297.95 Error: $250.95 SLE: 3.35 Item: Dell Latitude D620 Renewed Notebook PC\u001b[0m\n",
      "\u001b[93m215: Guess: $317.00 Truth: $399.99 Error: $82.99 SLE: 0.05 Item: acer Aspire 5 Laptop, AMD Ryzen 3 5300U ...\u001b[0m\n",
      "\u001b[91m216: Guess: $110.00 Truth: $599.00 Error: $489.00 SLE: 2.85 Item: Elk 31080/6RC-GRN 30 by 6-Inch Viva 6-Li...\u001b[0m\n",
      "\u001b[92m217: Guess: $66.00 Truth: $105.99 Error: $39.99 SLE: 0.22 Item: Barbie Top Model Doll\u001b[0m\n",
      "\u001b[92m218: Guess: $726.00 Truth: $689.00 Error: $37.00 SLE: 0.00 Item: Danby Designer 20-In. Electric Range wit...\u001b[0m\n",
      "\u001b[93m219: Guess: $262.00 Truth: $404.99 Error: $142.99 SLE: 0.19 Item: FixtureDisplays® Metal Truss Podium Doub...\u001b[0m\n",
      "\u001b[93m220: Guess: $127.00 Truth: $207.76 Error: $80.76 SLE: 0.24 Item: ACDelco 13597235 GM Original Equipment A...\u001b[0m\n",
      "\u001b[93m221: Guess: $239.00 Truth: $171.82 Error: $67.18 SLE: 0.11 Item: EBC S1KF1135 Stage-1 Premium Street Brak...\u001b[0m\n",
      "\u001b[92m222: Guess: $349.00 Truth: $293.24 Error: $55.76 SLE: 0.03 Item: FXR Men's Boost FX Jacket (Black/Orange/...\u001b[0m\n",
      "\u001b[92m223: Guess: $359.00 Truth: $374.95 Error: $15.95 SLE: 0.00 Item: SuperATV Scratch Resistant 3-in-1 Flip W...\u001b[0m\n",
      "\u001b[92m224: Guess: $127.00 Truth: $111.99 Error: $15.01 SLE: 0.02 Item: SBU 3 Layer All Weather Mini Van Car Cov...\u001b[0m\n",
      "\u001b[92m225: Guess: $49.00 Truth: $42.99 Error: $6.01 SLE: 0.02 Item: 2 Pack Outdoor Brochure Holder Advertisi...\u001b[0m\n",
      "\u001b[92m226: Guess: $127.00 Truth: $116.71 Error: $10.29 SLE: 0.01 Item: Monroe Shocks & Struts Quick-Strut 17158...\u001b[0m\n",
      "\u001b[93m227: Guess: $47.00 Truth: $118.61 Error: $71.61 SLE: 0.83 Item: Elements of Design Magellan EB235AL Thre...\u001b[0m\n",
      "\u001b[92m228: Guess: $154.00 Truth: $147.12 Error: $6.88 SLE: 0.00 Item: GM Genuine Parts 15-62961 Air Conditioni...\u001b[0m\n",
      "\u001b[92m229: Guess: $127.00 Truth: $119.99 Error: $7.01 SLE: 0.00 Item: Baseus 17-in-1 USB C Docking Station to ...\u001b[0m\n",
      "\u001b[91m230: Guess: $221.00 Truth: $369.98 Error: $148.98 SLE: 0.26 Item: Whitehall™ Personalized Whitehall Capito...\u001b[0m\n",
      "\u001b[91m231: Guess: $127.00 Truth: $315.55 Error: $188.55 SLE: 0.82 Item: Pro Circuit Works Pipe PY05250 for 02-19...\u001b[0m\n",
      "\u001b[91m232: Guess: $47.00 Truth: $190.99 Error: $143.99 SLE: 1.92 Item: HYANKA 15 \"1200W Professional DJ Speaker...\u001b[0m\n",
      "\u001b[92m233: Guess: $127.00 Truth: $155.00 Error: $28.00 SLE: 0.04 Item: Bluetooth X6BT Card Reader Writer Encode...\u001b[0m\n",
      "\u001b[93m234: Guess: $277.00 Truth: $349.99 Error: $72.99 SLE: 0.05 Item: AIRAID Cold Air Intake System by K&N: In...\u001b[0m\n",
      "\u001b[91m235: Guess: $127.00 Truth: $249.99 Error: $122.99 SLE: 0.45 Item: Bostingner Shower Faucets Sets Complete,...\u001b[0m\n",
      "\u001b[92m236: Guess: $65.00 Truth: $42.99 Error: $22.01 SLE: 0.16 Item: PIT66 Front Bumper Turn Signal Lights, C...\u001b[0m\n",
      "\u001b[92m237: Guess: $23.00 Truth: $17.99 Error: $5.01 SLE: 0.05 Item: Caseology Bumpy Compatible with Google P...\u001b[0m\n",
      "\u001b[91m238: Guess: $127.00 Truth: $425.00 Error: $298.00 SLE: 1.45 Item: Fleck 2510 Timer Mechanical Filter Contr...\u001b[0m\n",
      "\u001b[91m239: Guess: $127.00 Truth: $249.99 Error: $122.99 SLE: 0.45 Item: Haloview MC7108 Wireless RV Backup Camer...\u001b[0m\n",
      "\u001b[93m240: Guess: $65.00 Truth: $138.23 Error: $73.23 SLE: 0.56 Item: Schmidt Spiele - Manhattan\u001b[0m\n",
      "\u001b[91m241: Guess: $127.00 Truth: $414.99 Error: $287.99 SLE: 1.39 Item: Corsa 14333 Tip Kit (Ford Mustang GT)\u001b[0m\n",
      "\u001b[91m242: Guess: $47.00 Truth: $168.28 Error: $121.28 SLE: 1.59 Item: Hoshizaki FM116A Fan Motor Kit 1\u001b[0m\n",
      "\u001b[92m243: Guess: $179.00 Truth: $199.99 Error: $20.99 SLE: 0.01 Item: BAINUO Antler Chandelier Lighting,6 Ligh...\u001b[0m\n",
      "\u001b[92m244: Guess: $164.00 Truth: $126.70 Error: $37.30 SLE: 0.07 Item: DNA MOTORING HL-OH-FEXP06-SM-AM Smoke Le...\u001b[0m\n",
      "\u001b[92m245: Guess: $22.00 Truth: $5.91 Error: $16.09 SLE: 1.45 Item: Wera Stainless 3840/1 TS 2.5mm Hex Inser...\u001b[0m\n",
      "\u001b[91m246: Guess: $393.00 Truth: $193.06 Error: $199.94 SLE: 0.50 Item: Celestron - PowerSeeker 127EQ Telescope ...\u001b[0m\n",
      "\u001b[91m247: Guess: $139.00 Truth: $249.99 Error: $110.99 SLE: 0.34 Item: NHOPEEW 10.1inch Android Car Radio Carpl...\u001b[0m\n",
      "\u001b[93m248: Guess: $127.00 Truth: $64.12 Error: $62.88 SLE: 0.46 Item: Other Harmonica (Suzuki-2Timer24- A)\u001b[0m\n",
      "\u001b[93m249: Guess: $174.00 Truth: $114.99 Error: $59.01 SLE: 0.17 Item: Harley Air Filter Venturi Intake Air Cle...\u001b[0m\n",
      "\u001b[91m250: Guess: $390.00 Truth: $926.00 Error: $536.00 SLE: 0.75 Item: Elite Screens Edge Free Ambient Light Re...\u001b[0m\n"
     ]
    },
    {
     "data": {
      "image/png": "[encoded data removed]",
      "text/plain": [
       "<Figure size 1200x800 with 1 Axes>"
      ]
     },
     "metadata": {},
     "output_type": "display_data"
    }
   ],
   "source": [
    "Tester.test(gpt_fine_tuned, test)"
   ]
  },
  {
   "cell_type": "markdown",
   "id": "ef0b9db0",
   "metadata": {},
   "source": [
    "> Actually..., it's worse than the base model !!"
   ]
  },
  {
   "cell_type": "markdown",
   "id": "8a670baf",
   "metadata": {},
   "source": [
    "### **Moment of Disappointment T_T**  \n",
    "A problem like ours doesn't benefit significantly from Fine-Tuning.  \n",
    "* The problem and style of output can be clearly specified in a prompt. \n",
    "* The model can take advantage of its enormous world knowledge from its pre-training; providing a few hundred prices doesn't help"
   ]
  }
 ],
 "metadata": {
  "kernelspec": {
   "display_name": "LLM_Engineering",
   "language": "python",
   "name": "python3"
  },
  "language_info": {
   "codemirror_mode": {
    "name": "ipython",
    "version": 3
   },
   "file_extension": ".py",
   "mimetype": "text/x-python",
   "name": "python",
   "nbconvert_exporter": "python",
   "pygments_lexer": "ipython3",
   "version": "3.13.3"
  }
 },
 "nbformat": 4,
 "nbformat_minor": 5
}
