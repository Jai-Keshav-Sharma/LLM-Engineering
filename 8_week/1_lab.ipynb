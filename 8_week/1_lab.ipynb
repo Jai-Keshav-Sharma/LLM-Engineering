{
 "cells": [
  {
   "cell_type": "markdown",
   "id": "ccf23cf3",
   "metadata": {},
   "source": [
    "## **Using Modal for deploying our AI Services in Production**"
   ]
  },
  {
   "cell_type": "code",
   "execution_count": null,
   "id": "5d2a83ee",
   "metadata": {},
   "outputs": [],
   "source": [
    "# Just one import to start with\n",
    "\n",
    "import modal"
   ]
  },
  {
   "cell_type": "code",
   "execution_count": 16,
   "id": "0f22b496",
   "metadata": {},
   "outputs": [
    {
     "data": {
      "text/plain": [
       "True"
      ]
     },
     "execution_count": 16,
     "metadata": {},
     "output_type": "execute_result"
    }
   ],
   "source": [
    "from dotenv import load_dotenv\n",
    "\n",
    "load_dotenv(override=True)"
   ]
  },
  {
   "cell_type": "code",
   "execution_count": null,
   "id": "0b6e4615",
   "metadata": {},
   "outputs": [],
   "source": [
    "!modal setup"
   ]
  },
  {
   "cell_type": "code",
   "execution_count": null,
   "id": "3c2c2a36",
   "metadata": {},
   "outputs": [],
   "source": [
    "# importing from the hello.py module\n",
    "\n",
    "from hello import app, hello"
   ]
  },
  {
   "cell_type": "markdown",
   "id": "3ea8a0c3",
   "metadata": {},
   "source": [
    "#### Getting familiar with Modal Ephemeral Apps"
   ]
  },
  {
   "cell_type": "code",
   "execution_count": null,
   "id": "c5ea21af",
   "metadata": {},
   "outputs": [
    {
     "data": {
      "text/plain": [
       "'Hello from Raipur, Chhattisgarh, IN!!'"
      ]
     },
     "execution_count": 15,
     "metadata": {},
     "output_type": "execute_result"
    }
   ],
   "source": [
    "# Running on my box\n",
    "\n",
    "with app.run():\n",
    "    reply = hello.local()\n",
    "reply"
   ]
  },
  {
   "cell_type": "code",
   "execution_count": null,
   "id": "5e9777e0",
   "metadata": {},
   "outputs": [
    {
     "data": {
      "text/plain": [
       "'Hello from Ashburn, Virginia, US!!'"
      ]
     },
     "execution_count": 18,
     "metadata": {},
     "output_type": "execute_result"
    }
   ],
   "source": [
    "# running on the server \n",
    "\n",
    "with app.run():\n",
    "    reply = hello.remote()\n",
    "reply"
   ]
  },
  {
   "cell_type": "code",
   "execution_count": null,
   "id": "398e1d28",
   "metadata": {},
   "outputs": [],
   "source": [
    "# importing from llama.py\n",
    "\n",
    "from llama import app, generate"
   ]
  },
  {
   "cell_type": "markdown",
   "id": "c18e47f9",
   "metadata": {},
   "source": [
    "Trying with the base Llama model"
   ]
  },
  {
   "cell_type": "code",
   "execution_count": 24,
   "id": "f229ec0f",
   "metadata": {},
   "outputs": [
    {
     "name": "stdout",
     "output_type": "stream",
     "text": [
      "\u001b[2K\u001b[32m✓\u001b[0m Initialized. \u001b[37mView run at \u001b[0m\n",
      "\u001b[4;37mhttps://modal.com/apps/ksharma9719/main/ap-PtqYoSwIEWppz9JunRM3LP\u001b[0m\n",
      "\u001b[2K\u001b[34m-\u001b[0m Initializing...\n",
      "\u001b[2K\u001b[34m/\u001b[0m Creating objects...objects...\n",
      "\u001b[2K\u001b[1A\u001b[2K\u001b[34m\\\u001b[0m Creating objects...LLM_Engineering\\8_week\\llama.py: Uploaded 0/1 files\n",
      "\u001b[2K\u001b[1A\u001b[2K\u001b[34m/\u001b[0m Creating objects...LLM_Engineering\\8_week\\llama.py: Uploaded 0/1 files\n",
      "\u001b[2K\u001b[1A\u001b[2K\u001b[34m\\\u001b[0m Creating objects...LLM_Engineering\\8_week\\llama.py: Uploaded 0/1 files\n",
      "\u001b[2K\u001b[1A\u001b[2K\u001b[34m/\u001b[0m Creating objects...LLM_Engineering\\8_week\\llama.py: Uploaded 0/1 files\n",
      "\u001b[90m└── \u001b[0m\u001b[34m/\u001b[0m Creating mount d:\\LLM_Engineering\\8_week\\llama.py: Finalizing index of 1 \n",
      "\u001b[2K\u001b[1A\u001b[2K\u001b[1A\u001b[2K\u001b[34m\\\u001b[0m Creating objects...\n",
      "\u001b[90m└── \u001b[0m\u001b[34m\\\u001b[0m Creating mount d:\\LLM_Engineering\\8_week\\llama.py: Finalizing index of 1 \n",
      "\u001b[2K\u001b[1A\u001b[2K\u001b[1A\u001b[2K\u001b[34m/\u001b[0m Creating objects...\n",
      "\u001b[90m├── \u001b[0m🔨 Created mount d:\\LLM_Engineering\\8_week\\llama.py\n",
      "\u001b[2K\u001b[1A\u001b[2K\u001b[1A\u001b[2K\u001b[34m\\\u001b[0m Creating objects......\n",
      "\u001b[90m├── \u001b[0m🔨 Created mount d:\\LLM_Engineering\\8_week\\llama.py\n",
      "\u001b[2K\u001b[1A\u001b[2K\u001b[1A\u001b[2K\u001b[34m|\u001b[0m Creating objects......\n",
      "\u001b[90m├── \u001b[0m🔨 Created mount d:\\LLM_Engineering\\8_week\\llama.py\n",
      "\u001b[90m└── \u001b[0m🔨 Created function generate.\n",
      "\u001b[1A\u001b[2K\u001b[1A\u001b[2K\u001b[1A\u001b[2K\u001b[32m✓\u001b[0m Created objects.\n",
      "\u001b[90m├── \u001b[0m🔨 Created mount d:\\LLM_Engineering\\8_week\\llama.py\n",
      "\u001b[90m└── \u001b[0m🔨 Created function generate.\n",
      "\u001b[2K\u001b[34m/\u001b[0m \u001b[34mWorker assigned...\u001b[0m \u001b[37mView app at \u001b[0m\n",
      "\u001b[2K\u001b[1A\u001b[2K\u001b[34m\\\u001b[0m \u001b[34mRunning...\u001b[0m \u001b[37mView app at \u001b[0mJunRM3LP\u001b[0m\n",
      "\u001b[2K\u001b[1A\u001b[2K\u001b[34m/\u001b[0m \u001b[34mLoading images (1 containers initializing)...\u001b[0m \u001b[37mView app at \u001b[0m\n",
      "\u001b[2K\u001b[1A\u001b[2K\u001b[34m\\\u001b[0m \u001b[34mLoading images (1 containers initializing)...\u001b[0m \u001b[37mView app at \u001b[0m\n",
      "\u001b[2K\u001b[1A\u001b[2K\u001b[34m/\u001b[0m \u001b[34mLoading images (1 containers initializing)...\u001b[0m \u001b[37mView app at \u001b[0m\n",
      "\u001b[2K\u001b[1A\u001b[2K\u001b[34m\\\u001b[0m \u001b[34mLoading images (1 containers initializing)...\u001b[0m \u001b[37mView app at \u001b[0m\n",
      "\u001b[2K\u001b[1A\u001b[2K\u001b[34m/\u001b[0m \u001b[34mLoading images (1 containers initializing)...\u001b[0m \u001b[37mView app at \u001b[0m\n",
      "\u001b[2K\u001b[1A\u001b[2K\u001b[34m\\\u001b[0m \u001b[34mLoading images (1 containers initializing)...\u001b[0m \u001b[37mView app at \u001b[0m\n",
      "\u001b[2K\u001b[1A\u001b[2K\u001b[34m/\u001b[0m \u001b[34mLoading images (1 containers initializing)...\u001b[0m \u001b[37mView app at \u001b[0m\n",
      "\u001b[2K\u001b[1A\u001b[2K\u001b[34m\\\u001b[0m \u001b[34mLoading images (1 containers initializing)...\u001b[0m \u001b[37mView app at \u001b[0m\n",
      "\u001b[2K\u001b[1A\u001b[2K\u001b[34m/\u001b[0m \u001b[34mRunning (1/1 containers active)...\u001b[0m \u001b[37mView app at \u001b[0m\n",
      "\u001b[2K\u001b[1A\u001b[2K\u001b[34m\\\u001b[0m \u001b[34mRunning (1/1 containers active)...\u001b[0m \u001b[37mView app at \u001b[0m\n",
      "\u001b[2K\u001b[1A\u001b[2K\u001b[34m/\u001b[0m \u001b[34mRunning (1/1 containers active)...\u001b[0m \u001b[37mView app at \u001b[0m\n",
      "\u001b[2K\u001b[1A\u001b[2K\u001b[34m\\\u001b[0m \u001b[34mRunning (1/1 containers active)...\u001b[0m \u001b[37mView app at \u001b[0m\n",
      "\u001b[2K\u001b[1A\u001b[2K\u001b[34m/\u001b[0m \u001b[34mRunning (1/1 containers active)...\u001b[0m \u001b[37mView app at \u001b[0m\n",
      "\u001b[2K\u001b[1A\u001b[2K\u001b[34m\\\u001b[0m \u001b[34mRunning (1/1 containers active)...\u001b[0m \u001b[37mView app at \u001b[0m\n",
      "\u001b[2K\u001b[1A\u001b[2K\u001b[34m/\u001b[0m \u001b[34mRunning (1/1 containers active)...\u001b[0m \u001b[37mView app at \u001b[0m\n",
      "\u001b[2K\u001b[1A\u001b[2K\u001b[34m\\\u001b[0m \u001b[34mRunning (1/1 containers active)...\u001b[0m \u001b[37mView app at \u001b[0m\n",
      "\u001b[2K\u001b[1A\u001b[2K\u001b[34m/\u001b[0m \u001b[34mRunning (1/1 containers active)...\u001b[0m \u001b[37mView app at \u001b[0m\n",
      "\u001b[2K\u001b[1A\u001b[2K\u001b[34m\\\u001b[0m \u001b[34mRunning (1/1 containers active)...\u001b[0m \u001b[37mView app at \u001b[0m\n",
      "\u001b[2K\u001b[1A\u001b[2K\u001b[34m/\u001b[0m \u001b[34mRunning (1/1 containers active)...\u001b[0m \u001b[37mView app at \u001b[0m\n",
      "\u001b[2K\u001b[1A\u001b[2K\u001b[34m\\\u001b[0m \u001b[34mRunning (1/1 containers active)...\u001b[0m \u001b[37mView app at \u001b[0m\n",
      "\u001b[2K\u001b[1A\u001b[2K\u001b[34m/\u001b[0m \u001b[34mRunning (1/1 containers active)...\u001b[0m \u001b[37mView app at \u001b[0m\n",
      "\u001b[2K\u001b[1A\u001b[2K\u001b[34m\\\u001b[0m \u001b[34mRunning (1/1 containers active)...\u001b[0m \u001b[37mView app at \u001b[0m\n",
      "\u001b[2K\u001b[1A\u001b[2K\u001b[34m/\u001b[0m \u001b[34mRunning (1/1 containers active)...\u001b[0m \u001b[37mView app at \u001b[0m\n",
      "\u001b[2K\u001b[1A\u001b[2K\u001b[34m\\\u001b[0m \u001b[34mRunning (1/1 containers active)...\u001b[0m \u001b[37mView app at \u001b[0m\n",
      "\u001b[2K\u001b[1A\u001b[2K\u001b[34m/\u001b[0m \u001b[34mRunning (1/1 containers active)...\u001b[0m \u001b[37mView app at \u001b[0m\n",
      "\u001b[2K\u001b[1A\u001b[2K\u001b[34m\\\u001b[0m \u001b[34mRunning (1/1 containers active)...\u001b[0m \u001b[37mView app at \u001b[0m\n",
      "\u001b[2K\u001b[1A\u001b[2K\u001b[34m/\u001b[0m \u001b[34mRunning (1/1 containers active)...\u001b[0m \u001b[37mView app at \u001b[0m\n",
      "\u001b[2K\u001b[1A\u001b[2K\u001b[34m\\\u001b[0m \u001b[34mRunning (1/1 containers active)...\u001b[0m \u001b[37mView app at \u001b[0m\n",
      "\u001b[2K\u001b[1A\u001b[2K\u001b[34m/\u001b[0m \u001b[34mRunning (1/1 containers active)...\u001b[0m \u001b[37mView app at \u001b[0m\n",
      "\u001b[2K\u001b[1A\u001b[2K\u001b[34m\\\u001b[0m \u001b[34mRunning (1/1 containers active)...\u001b[0m \u001b[37mView app at \u001b[0m\n",
      "\u001b[2K\u001b[1A\u001b[2K\u001b[34m/\u001b[0m \u001b[34mRunning (1/1 containers active)...\u001b[0m \u001b[37mView app at \u001b[0m\n",
      "\u001b[2K\u001b[1A\u001b[2K\u001b[34m\\\u001b[0m \u001b[34mRunning (1/1 containers active)...\u001b[0m \u001b[37mView app at \u001b[0m\n",
      "\u001b[2K\u001b[1A\u001b[2K\u001b[34m/\u001b[0m \u001b[34mRunning (1/1 containers active)...\u001b[0m \u001b[37mView app at \u001b[0m\n",
      "\u001b[2K\u001b[1A\u001b[2K\u001b[34m\\\u001b[0m \u001b[34mRunning (1/1 containers active)...\u001b[0m \u001b[37mView app at \u001b[0m\n",
      "\u001b[2K\u001b[1A\u001b[2K\u001b[34m/\u001b[0m \u001b[34mRunning (1/1 containers active)...\u001b[0m \u001b[37mView app at \u001b[0m\n",
      "\u001b[2K\u001b[1A\u001b[2K\u001b[34m\\\u001b[0m \u001b[34mRunning (1/1 containers active)...\u001b[0m \u001b[37mView app at \u001b[0m\n",
      "\u001b[2K\u001b[1A\u001b[2K\u001b[34m/\u001b[0m \u001b[34mRunning (1/1 containers active)...\u001b[0m \u001b[37mView app at \u001b[0m\n",
      "\u001b[2K\u001b[1A\u001b[2K\u001b[34m\\\u001b[0m \u001b[34mRunning (1/1 containers active)...\u001b[0m \u001b[37mView app at \u001b[0m\n",
      "\u001b[2K\u001b[1A\u001b[2K\u001b[34m/\u001b[0m \u001b[34mRunning (1/1 containers active)...\u001b[0m \u001b[37mView app at \u001b[0m\n",
      "\u001b[2K\u001b[1A\u001b[2K\u001b[34m\\\u001b[0m \u001b[34mRunning (1/1 containers active)...\u001b[0m \u001b[37mView app at \u001b[0m\n",
      "\u001b[2K\u001b[1A\u001b[2K\u001b[34m/\u001b[0m \u001b[34mRunning (1/1 containers active)...\u001b[0m \u001b[37mView app at \u001b[0m\n",
      "\u001b[2K\u001b[1A\u001b[2K\u001b[34m\\\u001b[0m \u001b[34mRunning (1/1 containers active)...\u001b[0m \u001b[37mView app at \u001b[0m\n",
      "\u001b[2K\u001b[1A\u001b[2K\u001b[34m/\u001b[0m \u001b[34mRunning (1/1 containers active)...\u001b[0m \u001b[37mView app at \u001b[0m\n",
      "\u001b[2K\u001b[1A\u001b[2K\u001b[31mdal.com/apps/ksharma9719/main/ap-PtqYoSwIEWppz9JunRM3LP\u001b[0m\n",
      "\u001b[2K\u001b[34m\\\u001b[0m \u001b[34mRunning (1/1 containers active)...\u001b[0m \u001b[37mView app at \u001b[0m7mView app at \u001b[0m\u001b[4;37mhttps://modal.com/apps/ksharma\u001b[0m\n",
      "\u001b[2K\u001b[1A\u001b[2K\u001b[34m/\u001b[0m \u001b[34mRunning (1/1 containers active)...\u001b[0m \u001b[37mView app at \u001b[0m\n",
      "\u001b[2K\u001b[1A\u001b[2K\u001b[34m\\\u001b[0m \u001b[34mRunning (1/1 containers active)...\u001b[0m \u001b[37mView app at \u001b[0m\n",
      "\u001b[2K\u001b[1A\u001b[2K\u001b[34m/\u001b[0m \u001b[34mRunning (1/1 containers active)...\u001b[0m \u001b[37mView app at \u001b[0m\n",
      "\u001b[2K\u001b[1A\u001b[2K\u001b[34m\\\u001b[0m \u001b[34mRunning (1/1 containers active)...\u001b[0m \u001b[37mView app at \u001b[0m\n",
      "\u001b[2K\u001b[1A\u001b[2K\u001b[34m|\u001b[0m \u001b[34mRunning (1/1 containers active)...\u001b[0m \u001b[37mView app at \u001b[0m\n",
      "\u001b[2K\u001b[1A\u001b[2K\u001b[34m-\u001b[0m \u001b[34mRunning (1/1 containers active)...\u001b[0m \u001b[37mView app at \u001b[0m\n",
      "\u001b[2K\u001b[1A\u001b[2K\u001b[34m|\u001b[0m \u001b[34mRunning (1/1 containers active)...\u001b[0m \u001b[37mView app at \u001b[0m\n",
      "\u001b[2K\u001b[1A\u001b[2K\u001b[34m-\u001b[0m \u001b[34mRunning (1/1 containers active)...\u001b[0m \u001b[37mView app at \u001b[0m\n",
      "\u001b[2K\u001b[1A\u001b[2K\u001b[34m|\u001b[0m \u001b[34mRunning (1/1 containers active)...\u001b[0m \u001b[37mView app at \u001b[0m\n",
      "\u001b[2K\u001b[1A\u001b[2K\u001b[34m-\u001b[0m \u001b[34mRunning (1/1 containers active)...\u001b[0m \u001b[37mView app at \u001b[0m\n",
      "\u001b[2K\u001b[1A\u001b[2K\u001b[34m|\u001b[0m \u001b[34mRunning (1/1 containers active)...\u001b[0m \u001b[37mView app at \u001b[0m\n",
      "\u001b[2K\u001b[1A\u001b[2K\u001b[34m-\u001b[0m \u001b[34mRunning (1/1 containers active)...\u001b[0m \u001b[37mView app at \u001b[0m\n",
      "\u001b[2K\u001b[1A\u001b[2K\u001b[34m|\u001b[0m \u001b[34mRunning (1/1 containers active)...\u001b[0m \u001b[37mView app at \u001b[0m\n",
      "\u001b[2K\u001b[1A\u001b[2K\u001b[34m-\u001b[0m \u001b[34mRunning (1/1 containers active)...\u001b[0m \u001b[37mView app at \u001b[0m\n",
      "\u001b[2K\u001b[1A\u001b[2K\u001b[34m|\u001b[0m \u001b[34mRunning (1/1 containers active)...\u001b[0m \u001b[37mView app at \u001b[0m\n",
      "\u001b[2K\u001b[1A\u001b[2K\u001b[34m-\u001b[0m \u001b[34mRunning (1/1 containers active)...\u001b[0m \u001b[37mView app at \u001b[0m\n",
      "\u001b[2K\u001b[1A\u001b[2K\u001b[34m|\u001b[0m \u001b[34mRunning (1/1 containers active)...\u001b[0m \u001b[37mView app at \u001b[0m\n",
      "\u001b[2K\u001b[1A\u001b[2K\u001b[34m-\u001b[0m \u001b[34mRunning (1/1 containers active)...\u001b[0m \u001b[37mView app at \u001b[0m\n",
      "\u001b[2K\u001b[1A\u001b[2K\u001b[34m|\u001b[0m \u001b[34mRunning (1/1 containers active)...\u001b[0m \u001b[37mView app at \u001b[0m\n",
      "\u001b[2K\u001b[1A\u001b[2K\u001b[34m-\u001b[0m \u001b[34mRunning (1/1 containers active)...\u001b[0m \u001b[37mView app at \u001b[0m\n",
      "\u001b[2K\u001b[1A\u001b[2K\u001b[34m|\u001b[0m \u001b[34mRunning (1/1 containers active)...\u001b[0m \u001b[37mView app at \u001b[0m\n",
      "\u001b[2K\u001b[1A\u001b[2K\u001b[34m-\u001b[0m \u001b[34mRunning (1/1 containers active)...\u001b[0m \u001b[37mView app at \u001b[0m\n",
      "\u001b[2K\u001b[1A\u001b[2K\u001b[34m|\u001b[0m \u001b[34mRunning (1/1 containers active)...\u001b[0m \u001b[37mView app at \u001b[0m\n",
      "\u001b[2K\u001b[1A\u001b[2K\u001b[34m-\u001b[0m \u001b[34mRunning (1/1 containers active)...\u001b[0m \u001b[37mView app at \u001b[0m\n",
      "\u001b[2K\u001b[1A\u001b[2K\u001b[34m|\u001b[0m \u001b[34mRunning (1/1 containers active)...\u001b[0m \u001b[37mView app at \u001b[0m\n",
      "\u001b[2K\u001b[1A\u001b[2K\u001b[34m-\u001b[0m \u001b[34mRunning (1/1 containers active)...\u001b[0m \u001b[37mView app at \u001b[0m\n",
      "\u001b[2K\u001b[1A\u001b[2K\u001b[34m|\u001b[0m \u001b[34mRunning (1/1 containers active)...\u001b[0m \u001b[37mView app at \u001b[0m\n",
      "\u001b[2K\u001b[1A\u001b[2K\u001b[34m-\u001b[0m \u001b[34mRunning (1/1 containers active)...\u001b[0m \u001b[37mView app at \u001b[0m\n",
      "\u001b[2K\u001b[1A\u001b[2K\u001b[34m|\u001b[0m \u001b[34mRunning (1/1 containers active)...\u001b[0m \u001b[37mView app at \u001b[0m\n",
      "\u001b[2K\u001b[1A\u001b[2K\u001b[34m-\u001b[0m \u001b[34mRunning (1/1 containers active)...\u001b[0m \u001b[37mView app at \u001b[0m\n",
      "\u001b[2K\u001b[1A\u001b[2K\u001b[34m|\u001b[0m \u001b[34mRunning (1/1 containers active)...\u001b[0m \u001b[37mView app at \u001b[0m\n",
      "\u001b[2K\u001b[1A\u001b[2K\u001b[34m-\u001b[0m \u001b[34mRunning (1/1 containers active)...\u001b[0m \u001b[37mView app at \u001b[0m\n",
      "\u001b[2K\u001b[1A\u001b[2K\u001b[34m|\u001b[0m \u001b[34mRunning (1/1 containers active)...\u001b[0m \u001b[37mView app at \u001b[0m\n",
      "\u001b[2K\u001b[1A\u001b[2K\u001b[34m-\u001b[0m \u001b[34mRunning (1/1 containers active)...\u001b[0m \u001b[37mView app at \u001b[0m\n",
      "\u001b[2K\u001b[1A\u001b[2K\u001b[34m|\u001b[0m \u001b[34mRunning (1/1 containers active)...\u001b[0m \u001b[37mView app at \u001b[0m\n",
      "\u001b[2K\u001b[1A\u001b[2K\u001b[34m-\u001b[0m \u001b[34mRunning (1/1 containers active)...\u001b[0m \u001b[37mView app at \u001b[0m\n",
      "\u001b[2K\u001b[1A\u001b[2K\u001b[34m|\u001b[0m \u001b[34mRunning (1/1 containers active)...\u001b[0m \u001b[37mView app at \u001b[0m\n",
      "\u001b[2K\u001b[1A\u001b[2K\u001b[34m-\u001b[0m \u001b[34mRunning (1/1 containers active)...\u001b[0m \u001b[37mView app at \u001b[0m\n",
      "\u001b[2K\u001b[1A\u001b[2K\u001b[34m|\u001b[0m \u001b[34mRunning (1/1 containers active)...\u001b[0m \u001b[37mView app at \u001b[0m\n",
      "\u001b[2K\u001b[1A\u001b[2K\u001b[34m-\u001b[0m \u001b[34mRunning (1/1 containers active)...\u001b[0m \u001b[37mView app at \u001b[0m\n",
      "\u001b[2K\u001b[1A\u001b[2K\u001b[34m|\u001b[0m \u001b[34mRunning (1/1 containers active)...\u001b[0m \u001b[37mView app at \u001b[0m\n",
      "\u001b[2K\u001b[1A\u001b[2K\u001b[34m-\u001b[0m \u001b[34mRunning (1/1 containers active)...\u001b[0m \u001b[37mView app at \u001b[0m\n",
      "\u001b[2K\u001b[1A\u001b[2K\u001b[34m|\u001b[0m \u001b[34mRunning (1/1 containers active)...\u001b[0m \u001b[37mView app at \u001b[0m\n",
      "\u001b[2K\u001b[1A\u001b[2K\u001b[34m-\u001b[0m \u001b[34mRunning (1/1 containers active)...\u001b[0m \u001b[37mView app at \u001b[0m\n",
      "\u001b[2K\u001b[1A\u001b[2K\u001b[34m|\u001b[0m \u001b[34mRunning (1/1 containers active)...\u001b[0m \u001b[37mView app at \u001b[0m\n",
      "\u001b[2K\u001b[1A\u001b[2K\u001b[34m-\u001b[0m \u001b[34mRunning (1/1 containers active)...\u001b[0m \u001b[37mView app at \u001b[0m\n",
      "\u001b[2K\u001b[1A\u001b[2K\u001b[34m|\u001b[0m \u001b[34mRunning (1/1 containers active)...\u001b[0m \u001b[37mView app at \u001b[0m\n",
      "\u001b[2K\u001b[1A\u001b[2K\u001b[34m-\u001b[0m \u001b[34mRunning (1/1 containers active)...\u001b[0m \u001b[37mView app at \u001b[0m\n",
      "\u001b[2K\u001b[1A\u001b[2K\u001b[34m|\u001b[0m \u001b[34mRunning (1/1 containers active)...\u001b[0m \u001b[37mView app at \u001b[0m\n",
      "\u001b[2K\u001b[1A\u001b[2K\u001b[34m-\u001b[0m \u001b[34mRunning (1/1 containers active)...\u001b[0m \u001b[37mView app at \u001b[0m\n",
      "\u001b[2K\u001b[1A\u001b[2K\u001b[34m|\u001b[0m \u001b[34mRunning (1/1 containers active)...\u001b[0m \u001b[37mView app at \u001b[0m\n",
      "\u001b[2K\u001b[1A\u001b[2K\u001b[34m-\u001b[0m \u001b[34mRunning (1/1 containers active)...\u001b[0m \u001b[37mView app at \u001b[0m\n",
      "\u001b[2K\u001b[1A\u001b[2K\u001b[34m|\u001b[0m \u001b[34mRunning (1/1 containers active)...\u001b[0m \u001b[37mView app at \u001b[0m\n",
      "\u001b[2K\u001b[1A\u001b[2K\u001b[34m-\u001b[0m \u001b[34mRunning (1/1 containers active)...\u001b[0m \u001b[37mView app at \u001b[0m\n",
      "\u001b[2K\u001b[1A\u001b[2K\u001b[34m|\u001b[0m \u001b[34mRunning (1/1 containers active)...\u001b[0m \u001b[37mView app at \u001b[0m\n",
      "\u001b[2K\u001b[1A\u001b[2K\u001b[34m-\u001b[0m \u001b[34mRunning (1/1 containers active)...\u001b[0m \u001b[37mView app at \u001b[0m\n",
      "\u001b[2K\u001b[1A\u001b[2K\u001b[34m|\u001b[0m \u001b[34mRunning (1/1 containers active)...\u001b[0m \u001b[37mView app at \u001b[0m\n",
      "\u001b[2K\u001b[1A\u001b[2K\u001b[34m-\u001b[0m \u001b[34mRunning (1/1 containers active)...\u001b[0m \u001b[37mView app at \u001b[0m\n",
      "\u001b[2K\u001b[1A\u001b[2K\u001b[34m|\u001b[0m \u001b[34mRunning (1/1 containers active)...\u001b[0m \u001b[37mView app at \u001b[0m\n",
      "\u001b[2K\u001b[1A\u001b[2K\u001b[34m-\u001b[0m \u001b[34mRunning (1/1 containers active)...\u001b[0m \u001b[37mView app at \u001b[0m\n",
      "\u001b[2K\u001b[1A\u001b[2K\u001b[34m|\u001b[0m \u001b[34mRunning (1/1 containers active)...\u001b[0m \u001b[37mView app at \u001b[0m\n",
      "\u001b[2K\u001b[1A\u001b[2K\u001b[34m-\u001b[0m \u001b[34mRunning (1/1 containers active)...\u001b[0m \u001b[37mView app at \u001b[0m\n",
      "\u001b[2K\u001b[1A\u001b[2K\u001b[34m|\u001b[0m \u001b[34mRunning (1/1 containers active)...\u001b[0m \u001b[37mView app at \u001b[0m\n",
      "\u001b[2K\u001b[1A\u001b[2K\u001b[34m-\u001b[0m \u001b[34mRunning (1/1 containers active)...\u001b[0m \u001b[37mView app at \u001b[0m\n",
      "\u001b[2K\u001b[1A\u001b[2K\u001b[34m|\u001b[0m \u001b[34mRunning (1/1 containers active)...\u001b[0m \u001b[37mView app at \u001b[0m\n",
      "\u001b[2K\u001b[1A\u001b[2K\u001b[34m-\u001b[0m \u001b[34mRunning (1/1 containers active)...\u001b[0m \u001b[37mView app at \u001b[0m\n",
      "\u001b[2K\u001b[1A\u001b[2K\u001b[34m|\u001b[0m \u001b[34mRunning (1/1 containers active)...\u001b[0m \u001b[37mView app at \u001b[0m\n",
      "\u001b[2K\u001b[1A\u001b[2K\u001b[34m-\u001b[0m \u001b[34mRunning (1/1 containers active)...\u001b[0m \u001b[37mView app at \u001b[0m\n",
      "\u001b[2K\u001b[1A\u001b[2K\u001b[34m|\u001b[0m \u001b[34mRunning (1/1 containers active)...\u001b[0m \u001b[37mView app at \u001b[0m\n",
      "\u001b[2K\u001b[1A\u001b[2K\u001b[34m/\u001b[0m \u001b[34mRunning (1/1 containers active)...\u001b[0m \u001b[37mView app at \u001b[0m\n",
      "\u001b[2K\u001b[1A\u001b[2K\u001b[34m\\\u001b[0m \u001b[34mRunning (1/1 containers active)...\u001b[0m \u001b[37mView app at \u001b[0m\n",
      "\u001b[2K\u001b[1A\u001b[2K\u001b[34m/\u001b[0m \u001b[34mRunning (1/1 containers active)...\u001b[0m \u001b[37mView app at \u001b[0m\n",
      "\u001b[2K\u001b[1A\u001b[2K\u001b[34m\\\u001b[0m \u001b[34mRunning (1/1 containers active)...\u001b[0m \u001b[37mView app at \u001b[0m\n",
      "\u001b[2K\u001b[1A\u001b[2K\u001b[34m/\u001b[0m \u001b[34mRunning (1/1 containers active)...\u001b[0m \u001b[37mView app at \u001b[0m\n",
      "\u001b[2K\u001b[1A\u001b[2K\u001b[34m\\\u001b[0m \u001b[34mRunning (1/1 containers active)...\u001b[0m \u001b[37mView app at \u001b[0m\n",
      "\u001b[2K\u001b[1A\u001b[2K\u001b[34m/\u001b[0m \u001b[34mRunning (1/1 containers active)...\u001b[0m \u001b[37mView app at \u001b[0m\n",
      "\u001b[2K\u001b[1A\u001b[2K\u001b[34m\\\u001b[0m \u001b[34mRunning (1/1 containers active)...\u001b[0m \u001b[37mView app at \u001b[0m\n",
      "\u001b[2K\u001b[1A\u001b[2K\u001b[34m/\u001b[0m \u001b[34mRunning (1/1 containers active)...\u001b[0m \u001b[37mView app at \u001b[0m\n",
      "\u001b[2K\u001b[1A\u001b[2K\u001b[34m\\\u001b[0m \u001b[34mRunning (1/1 containers active)...\u001b[0m \u001b[37mView app at \u001b[0m\n",
      "\u001b[2K\u001b[1A\u001b[2K\u001b[34m/\u001b[0m \u001b[34mRunning (1/1 containers active)...\u001b[0m \u001b[37mView app at \u001b[0m\n",
      "\u001b[2K\u001b[1A\u001b[2K\u001b[34m\\\u001b[0m \u001b[34mRunning (1/1 containers active)...\u001b[0m \u001b[37mView app at \u001b[0m\n",
      "\u001b[2K\u001b[1A\u001b[2K\u001b[34m/\u001b[0m \u001b[34mRunning (1/1 containers active)...\u001b[0m \u001b[37mView app at \u001b[0m\n",
      "\u001b[2K\u001b[1A\u001b[2K\u001b[34m\\\u001b[0m \u001b[34mRunning (1/1 containers active)...\u001b[0m \u001b[37mView app at \u001b[0m\n",
      "\u001b[2K\u001b[1A\u001b[2K\u001b[34m/\u001b[0m \u001b[34mRunning (1/1 containers active)...\u001b[0m \u001b[37mView app at \u001b[0m\n",
      "\u001b[2K\u001b[1A\u001b[2K\u001b[34m\\\u001b[0m \u001b[34mRunning (1/1 containers active)...\u001b[0m \u001b[37mView app at \u001b[0m\n",
      "\u001b[2K\u001b[1A\u001b[2K\u001b[34m/\u001b[0m \u001b[34mRunning (1/1 containers active)...\u001b[0m \u001b[37mView app at \u001b[0m\n",
      "\u001b[2K\u001b[1A\u001b[2K\u001b[34m\\\u001b[0m \u001b[34mRunning (1/1 containers active)...\u001b[0m \u001b[37mView app at \u001b[0m\n",
      "\u001b[2K\u001b[1A\u001b[2K\u001b[34m/\u001b[0m \u001b[34mRunning (1/1 containers active)...\u001b[0m \u001b[37mView app at \u001b[0m\n",
      "\u001b[2K\u001b[1A\u001b[2K\u001b[34m\\\u001b[0m \u001b[34mRunning (1/1 containers active)...\u001b[0m \u001b[37mView app at \u001b[0m\n",
      "\u001b[2K\u001b[1A\u001b[2K\u001b[34m/\u001b[0m \u001b[34mRunning (1/1 containers active)...\u001b[0m \u001b[37mView app at \u001b[0m\n",
      "\u001b[2K\u001b[1A\u001b[2K\u001b[34m\\\u001b[0m \u001b[34mRunning (1/1 containers active)...\u001b[0m \u001b[37mView app at \u001b[0m\n",
      "\u001b[2K\u001b[1A\u001b[2K\u001b[34m/\u001b[0m \u001b[34mRunning (1/1 containers active)...\u001b[0m \u001b[37mView app at \u001b[0m\n",
      "\u001b[2K\u001b[1A\u001b[2K\u001b[34m\\\u001b[0m \u001b[34mRunning (1/1 containers active)...\u001b[0m \u001b[37mView app at \u001b[0m\n",
      "\u001b[2K\u001b[1A\u001b[2K\u001b[34m/\u001b[0m \u001b[34mRunning (1/1 containers active)...\u001b[0m \u001b[37mView app at \u001b[0m\n",
      "\u001b[2K\u001b[1A\u001b[2K\u001b[34m\\\u001b[0m \u001b[34mRunning (1/1 containers active)...\u001b[0m \u001b[37mView app at \u001b[0m\n",
      "\u001b[2K\u001b[1A\u001b[2K\u001b[34m/\u001b[0m \u001b[34mRunning (1/1 containers active)...\u001b[0m \u001b[37mView app at \u001b[0m\n",
      "\u001b[2K\u001b[1A\u001b[2K\u001b[34m\\\u001b[0m \u001b[34mRunning (1/1 containers active)...\u001b[0m \u001b[37mView app at \u001b[0m\n",
      "\u001b[2K\u001b[1A\u001b[2K\u001b[34m/\u001b[0m \u001b[34mRunning (1/1 containers active)...\u001b[0m \u001b[37mView app at \u001b[0m\n",
      "\u001b[2K\u001b[1A\u001b[2K\u001b[34m\\\u001b[0m \u001b[34mRunning (1/1 containers active)...\u001b[0m \u001b[37mView app at \u001b[0m\n",
      "\u001b[2K\u001b[1A\u001b[2K\u001b[34m/\u001b[0m \u001b[34mRunning (1/1 containers active)...\u001b[0m \u001b[37mView app at \u001b[0m\n",
      "\u001b[2K\u001b[1A\u001b[2K\u001b[34m\\\u001b[0m \u001b[34mRunning (1/1 containers active)...\u001b[0m \u001b[37mView app at \u001b[0m\n",
      "\u001b[2K\u001b[1A\u001b[2K\u001b[34m/\u001b[0m \u001b[34mRunning (1/1 containers active)...\u001b[0m \u001b[37mView app at \u001b[0m\n",
      "\u001b[2K\u001b[1A\u001b[2K\u001b[34m\\\u001b[0m \u001b[34mRunning (1/1 containers active)...\u001b[0m \u001b[37mView app at \u001b[0m\n",
      "\u001b[2K\u001b[1A\u001b[2K\u001b[34m/\u001b[0m \u001b[34mRunning (1/1 containers active)...\u001b[0m \u001b[37mView app at \u001b[0m\n",
      "\u001b[2K\u001b[1A\u001b[2K\u001b[34m\\\u001b[0m \u001b[34mRunning (1/1 containers active)...\u001b[0m \u001b[37mView app at \u001b[0m\n",
      "\u001b[2K\u001b[1A\u001b[2K\u001b[34m/\u001b[0m \u001b[34mRunning (1/1 containers active)...\u001b[0m \u001b[37mView app at \u001b[0m\n",
      "\u001b[2K\u001b[1A\u001b[2K\u001b[34m\\\u001b[0m \u001b[34mRunning (1/1 containers active)...\u001b[0m \u001b[37mView app at \u001b[0m\n",
      "\u001b[2K\u001b[1A\u001b[2K\u001b[34m/\u001b[0m \u001b[34mRunning (1/1 containers active)...\u001b[0m \u001b[37mView app at \u001b[0m\n",
      "\u001b[2K\u001b[1A\u001b[2K\u001b[34m\\\u001b[0m \u001b[34mRunning (1/1 containers active)...\u001b[0m \u001b[37mView app at \u001b[0m\n",
      "\u001b[2K\u001b[1A\u001b[2K\u001b[34m/\u001b[0m \u001b[34mRunning (1/1 containers active)...\u001b[0m \u001b[37mView app at \u001b[0m\n",
      "\u001b[2K\u001b[1A\u001b[2K\u001b[34m\\\u001b[0m \u001b[34mRunning (1/1 containers active)...\u001b[0m \u001b[37mView app at \u001b[0m\n",
      "\u001b[2K\u001b[1A\u001b[2K\u001b[34m/\u001b[0m \u001b[34mRunning (1/1 containers active)...\u001b[0m \u001b[37mView app at \u001b[0m\n",
      "\u001b[2K\u001b[1A\u001b[2K\u001b[34m\\\u001b[0m \u001b[34mRunning (1/1 containers active)...\u001b[0m \u001b[37mView app at \u001b[0m\n",
      "\u001b[2K\u001b[1A\u001b[2K\u001b[34m/\u001b[0m \u001b[34mRunning (1/1 containers active)...\u001b[0m \u001b[37mView app at \u001b[0m\n",
      "\u001b[2K\u001b[1A\u001b[2K\u001b[34m\\\u001b[0m \u001b[34mRunning (1/1 containers active)...\u001b[0m \u001b[37mView app at \u001b[0m\n",
      "\u001b[2K\u001b[1A\u001b[2K\u001b[34m/\u001b[0m \u001b[34mRunning (1/1 containers active)...\u001b[0m \u001b[37mView app at \u001b[0m\n",
      "\u001b[2K\u001b[1A\u001b[2K\u001b[34m\\\u001b[0m \u001b[34mRunning (1/1 containers active)...\u001b[0m \u001b[37mView app at \u001b[0m\n",
      "\u001b[2K\u001b[1A\u001b[2K\u001b[34m/\u001b[0m \u001b[34mRunning (1/1 containers active)...\u001b[0m \u001b[37mView app at \u001b[0m\n",
      "\u001b[2K\u001b[1A\u001b[2K\u001b[34m\\\u001b[0m \u001b[34mRunning (1/1 containers active)...\u001b[0m \u001b[37mView app at \u001b[0m\n",
      "\u001b[2K\u001b[1A\u001b[2K\u001b[34m/\u001b[0m \u001b[34mRunning (1/1 containers active)...\u001b[0m \u001b[37mView app at \u001b[0m\n",
      "\u001b[2K\u001b[1A\u001b[2K\u001b[34m\\\u001b[0m \u001b[34mRunning (1/1 containers active)...\u001b[0m \u001b[37mView app at \u001b[0m\n",
      "\u001b[2K\u001b[1A\u001b[2K\u001b[34m/\u001b[0m \u001b[34mRunning (1/1 containers active)...\u001b[0m \u001b[37mView app at \u001b[0m\n",
      "\u001b[2K\u001b[1A\u001b[2K\u001b[34m\\\u001b[0m \u001b[34mRunning (1/1 containers active)...\u001b[0m \u001b[37mView app at \u001b[0m\n",
      "\u001b[2K\u001b[1A\u001b[2K\u001b[34m/\u001b[0m \u001b[34mRunning (1/1 containers active)...\u001b[0m \u001b[37mView app at \u001b[0m\n",
      "\u001b[2K\u001b[1A\u001b[2K\u001b[34m\\\u001b[0m \u001b[34mRunning (1/1 containers active)...\u001b[0m \u001b[37mView app at \u001b[0m\n",
      "\u001b[2K\u001b[1A\u001b[2K\u001b[34m/\u001b[0m \u001b[34mRunning (1/1 containers active)...\u001b[0m \u001b[37mView app at \u001b[0m\n",
      "\u001b[2K\u001b[1A\u001b[2K\u001b[34m\\\u001b[0m \u001b[34mRunning (1/1 containers active)...\u001b[0m \u001b[37mView app at \u001b[0m\n",
      "\u001b[2K\u001b[1A\u001b[2K\u001b[34m/\u001b[0m \u001b[34mRunning (1/1 containers active)...\u001b[0m \u001b[37mView app at \u001b[0m\n",
      "\u001b[2K\u001b[1A\u001b[2K\u001b[34m\\\u001b[0m \u001b[34mRunning (1/1 containers active)...\u001b[0m \u001b[37mView app at \u001b[0m\n",
      "\u001b[2K\u001b[1A\u001b[2K\u001b[34m/\u001b[0m \u001b[34mRunning (1/1 containers active)...\u001b[0m \u001b[37mView app at \u001b[0m\n",
      "\u001b[2K\u001b[1A\u001b[2K\u001b[34m\\\u001b[0m \u001b[34mRunning (1/1 containers active)...\u001b[0m \u001b[37mView app at \u001b[0m\n",
      "\u001b[2K\u001b[1A\u001b[2K\u001b[34m/\u001b[0m \u001b[34mRunning (1/1 containers active)...\u001b[0m \u001b[37mView app at \u001b[0m\n",
      "\u001b[2K\u001b[1A\u001b[2K\u001b[34m\\\u001b[0m \u001b[34mRunning (1/1 containers active)...\u001b[0m \u001b[37mView app at \u001b[0m\n",
      "\u001b[2K\u001b[1A\u001b[2K\u001b[34m/\u001b[0m \u001b[34mRunning (1/1 containers active)...\u001b[0m \u001b[37mView app at \u001b[0m\n",
      "\u001b[2K\u001b[1A\u001b[2K\u001b[34m\\\u001b[0m \u001b[34mRunning (1/1 containers active)...\u001b[0m \u001b[37mView app at \u001b[0m\n",
      "\u001b[2K\u001b[1A\u001b[2K\u001b[34m/\u001b[0m \u001b[34mRunning (1/1 containers active)...\u001b[0m \u001b[37mView app at \u001b[0m\n",
      "\u001b[2K\u001b[1A\u001b[2K\u001b[34m\\\u001b[0m \u001b[34mRunning (1/1 containers active)...\u001b[0m \u001b[37mView app at \u001b[0m\n",
      "\u001b[2K\u001b[1A\u001b[2K\u001b[34m/\u001b[0m \u001b[34mRunning (1/1 containers active)...\u001b[0m \u001b[37mView app at \u001b[0m\n",
      "\u001b[2K\u001b[1A\u001b[2K\u001b[34m\\\u001b[0m \u001b[34mRunning (1/1 containers active)...\u001b[0m \u001b[37mView app at \u001b[0m\n",
      "\u001b[2K\u001b[1A\u001b[2K\u001b[34m/\u001b[0m \u001b[34mRunning (1/1 containers active)...\u001b[0m \u001b[37mView app at \u001b[0m\n",
      "\u001b[2K\u001b[1A\u001b[2K\u001b[34m\\\u001b[0m \u001b[34mRunning (1/1 containers active)...\u001b[0m \u001b[37mView app at \u001b[0m\n",
      "\u001b[2K\u001b[1A\u001b[2K\u001b[34m/\u001b[0m \u001b[34mRunning (1/1 containers active)...\u001b[0m \u001b[37mView app at \u001b[0m\n",
      "\u001b[2K\u001b[1A\u001b[2K\u001b[34m\\\u001b[0m \u001b[34mRunning (1/1 containers active)...\u001b[0m \u001b[37mView app at \u001b[0m\n",
      "\u001b[2K\u001b[1A\u001b[2K\u001b[34m/\u001b[0m \u001b[34mRunning (1/1 containers active)...\u001b[0m \u001b[37mView app at \u001b[0m\n",
      "\u001b[2K\u001b[1A\u001b[2K\u001b[34m\\\u001b[0m \u001b[34mRunning (1/1 containers active)...\u001b[0m \u001b[37mView app at \u001b[0m\n",
      "\u001b[2K\u001b[1A\u001b[2K\u001b[34m/\u001b[0m \u001b[34mRunning (1/1 containers active)...\u001b[0m \u001b[37mView app at \u001b[0m\n",
      "\u001b[2K\u001b[1A\u001b[2K\u001b[34m\\\u001b[0m \u001b[34mRunning (1/1 containers active)...\u001b[0m \u001b[37mView app at \u001b[0m\n",
      "\u001b[2K\u001b[1A\u001b[2K\u001b[34m|\u001b[0m \u001b[34mRunning (1/1 containers active)...\u001b[0m \u001b[37mView app at \u001b[0m\n",
      "\u001b[2K\u001b[1A\u001b[2K\u001b[34m-\u001b[0m \u001b[34mRunning (1/1 containers active)...\u001b[0m \u001b[37mView app at \u001b[0m\n",
      "\u001b[2K\u001b[1A\u001b[2K\u001b[34m|\u001b[0m \u001b[34mRunning (1/1 containers active)...\u001b[0m \u001b[37mView app at \u001b[0m\n",
      "\u001b[2K\u001b[1A\u001b[2K\u001b[34m-\u001b[0m \u001b[34mRunning (1/1 containers active)...\u001b[0m \u001b[37mView app at \u001b[0m\n",
      "\u001b[2K\u001b[1A\u001b[2K\u001b[34m|\u001b[0m \u001b[34mRunning (1/1 containers active)...\u001b[0m \u001b[37mView app at \u001b[0m\n",
      "\u001b[2K\u001b[1A\u001b[2K\u001b[34m-\u001b[0m \u001b[34mRunning (1/1 containers active)...\u001b[0m \u001b[37mView app at \u001b[0m\n",
      "\u001b[2K\u001b[1A\u001b[2K\u001b[34m|\u001b[0m \u001b[34mRunning (1/1 containers active)...\u001b[0m \u001b[37mView app at \u001b[0m\n",
      "\u001b[2K\u001b[34m-\u001b[0m \u001b[34mRunning (1/1 containers active)...\u001b[0m \u001b[37mView app at \u001b[0m\u001b[34m/\u001b[0m\u001b[31m \u001b[0m\u001b[34mRunning (1/1 containers active)...\u001b[0m\u001b[31m \u001b[0m\u001b[37mView app at \u001b[0m\u001b[4;37mhttps://modal.com/apps/ksharma\u001b[0m\n",
      "\u001b[2K\u001b[1A\u001b[2K\u001b[34m|\u001b[0m \u001b[34mRunning (1/1 containers active)...\u001b[0m \u001b[37mView app at \u001b[0m\n",
      "\u001b[2K\u001b[1A\u001b[2K\u001b[34m-\u001b[0m \u001b[34mRunning (1/1 containers active)...\u001b[0m \u001b[37mView app at \u001b[0m\n",
      "\u001b[2K\u001b[1A\u001b[2K\u001b[34m|\u001b[0m \u001b[34mRunning (1/1 containers active)...\u001b[0m \u001b[37mView app at \u001b[0m\n",
      "\u001b[2K\u001b[1A\u001b[2K\u001b[34m-\u001b[0m \u001b[34mRunning (1/1 containers active)...\u001b[0m \u001b[37mView app at \u001b[0m\n",
      "\u001b[2K\u001b[1A\u001b[2K\u001b[34m|\u001b[0m \u001b[34mRunning (1/1 containers active)...\u001b[0m \u001b[37mView app at \u001b[0m\n",
      "\u001b[2K\u001b[1A\u001b[2K\u001b[34m-\u001b[0m \u001b[34mRunning (1/1 containers active)...\u001b[0m \u001b[37mView app at \u001b[0m\n",
      "\u001b[2K\u001b[1A\u001b[2K\u001b[34m|\u001b[0m \u001b[34mRunning (1/1 containers active)...\u001b[0m \u001b[37mView app at \u001b[0m\n",
      "\u001b[2K\u001b[1A\u001b[2K\u001b[34m-\u001b[0m \u001b[34mRunning (1/1 containers active)...\u001b[0m \u001b[37mView app at \u001b[0m\n",
      "\u001b[2K\u001b[1A\u001b[2K\u001b[34m|\u001b[0m \u001b[34mRunning (1/1 containers active)...\u001b[0m \u001b[37mView app at \u001b[0m\n",
      "\u001b[2K\u001b[1A\u001b[2K\u001b[34m-\u001b[0m \u001b[34mRunning (1/1 containers active)...\u001b[0m \u001b[37mView app at \u001b[0m\n",
      "\u001b[2K\u001b[1A\u001b[2K\u001b[34m|\u001b[0m \u001b[34mRunning (1/1 containers active)...\u001b[0m \u001b[37mView app at \u001b[0m\n",
      "\u001b[2K\u001b[1A\u001b[2K\u001b[34m-\u001b[0m \u001b[34mRunning (1/1 containers active)...\u001b[0m \u001b[37mView app at \u001b[0m\n",
      "\u001b[2K\u001b[1A\u001b[2K\u001b[34m|\u001b[0m \u001b[34mRunning (1/1 containers active)...\u001b[0m \u001b[37mView app at \u001b[0m\n",
      "\u001b[2K\u001b[1A\u001b[2K\u001b[34m-\u001b[0m \u001b[34mRunning (1/1 containers active)...\u001b[0m \u001b[37mView app at \u001b[0m\n",
      "\u001b[2K\u001b[1A\u001b[2K\u001b[34m|\u001b[0m \u001b[34mRunning (1/1 containers active)...\u001b[0m \u001b[37mView app at \u001b[0m\n",
      "\u001b[2K\u001b[1A\u001b[2K\u001b[34m-\u001b[0m \u001b[34mRunning (1/1 containers active)...\u001b[0m \u001b[37mView app at \u001b[0m\n",
      "\u001b[2K\u001b[1A\u001b[2K\u001b[34m|\u001b[0m \u001b[34mRunning (1/1 containers active)...\u001b[0m \u001b[37mView app at \u001b[0m\n",
      "\u001b[2K\u001b[1A\u001b[2K\u001b[34m-\u001b[0m \u001b[34mRunning (1/1 containers active)...\u001b[0m \u001b[37mView app at \u001b[0m\n",
      "\u001b[2K\u001b[1A\u001b[2K\u001b[34m|\u001b[0m \u001b[34mRunning (1/1 containers active)...\u001b[0m \u001b[37mView app at \u001b[0m\n",
      "\u001b[2K\u001b[1A\u001b[2K\u001b[34m-\u001b[0m \u001b[34mRunning (1/1 containers active)...\u001b[0m \u001b[37mView app at \u001b[0m\n",
      "\u001b[2K\u001b[1A\u001b[2K\u001b[34m|\u001b[0m \u001b[34mRunning (1/1 containers active)...\u001b[0m \u001b[37mView app at \u001b[0m\n",
      "\u001b[2K\u001b[1A\u001b[2K\u001b[34m-\u001b[0m \u001b[34mRunning (1/1 containers active)...\u001b[0m \u001b[37mView app at \u001b[0m\n",
      "\u001b[2K\u001b[1A\u001b[2K\u001b[34m|\u001b[0m \u001b[34mRunning (1/1 containers active)...\u001b[0m \u001b[37mView app at \u001b[0m\n",
      "\u001b[2K\u001b[1A\u001b[2K\u001b[34m-\u001b[0m \u001b[34mRunning (1/1 containers active)...\u001b[0m \u001b[37mView app at \u001b[0m\n",
      "\u001b[2K\u001b[1A\u001b[2K\u001b[34m|\u001b[0m \u001b[34mRunning (1/1 containers active)...\u001b[0m \u001b[37mView app at \u001b[0m\n",
      "\u001b[2K\u001b[1A\u001b[2K\u001b[34m-\u001b[0m \u001b[34mRunning (1/1 containers active)...\u001b[0m \u001b[37mView app at \u001b[0m\n",
      "\u001b[2K\u001b[1A\u001b[2K\u001b[34m|\u001b[0m \u001b[34mRunning (1/1 containers active)...\u001b[0m \u001b[37mView app at \u001b[0m\n",
      "\u001b[2K\u001b[1A\u001b[2K\u001b[34m-\u001b[0m \u001b[34mRunning (1/1 containers active)...\u001b[0m \u001b[37mView app at \u001b[0m\n",
      "\u001b[2K\u001b[1A\u001b[2K\u001b[34m|\u001b[0m \u001b[34mRunning (1/1 containers active)...\u001b[0m \u001b[37mView app at \u001b[0m\n",
      "\u001b[2K\u001b[1A\u001b[2K\u001b[34m-\u001b[0m \u001b[34mRunning (1/1 containers active)...\u001b[0m \u001b[37mView app at \u001b[0m\n",
      "\u001b[2K\u001b[1A\u001b[2K\u001b[34m|\u001b[0m \u001b[34mRunning (1/1 containers active)...\u001b[0m \u001b[37mView app at \u001b[0m\n",
      "\u001b[2K\u001b[1A\u001b[2K\u001b[34m/\u001b[0m \u001b[34mRunning (1/1 containers active)...\u001b[0m \u001b[37mView app at \u001b[0m\n",
      "\u001b[2K\u001b[1A\u001b[2K\u001b[34m\\\u001b[0m \u001b[34mRunning (1/1 containers active)...\u001b[0m \u001b[37mView app at \u001b[0m\n",
      "\u001b[2K\u001b[1A\u001b[2K\u001b[34m/\u001b[0m \u001b[34mRunning (1/1 containers active)...\u001b[0m \u001b[37mView app at \u001b[0m\n",
      "\u001b[2K\u001b[1A\u001b[2K\u001b[34m\\\u001b[0m \u001b[34mRunning (1/1 containers active)...\u001b[0m \u001b[37mView app at \u001b[0m\n",
      "\u001b[2K\u001b[1A\u001b[2K\u001b[34m/\u001b[0m \u001b[34mRunning (1/1 containers active)...\u001b[0m \u001b[37mView app at \u001b[0m\n",
      "\u001b[2K\u001b[1A\u001b[2K\u001b[34m\\\u001b[0m \u001b[34mRunning (1/1 containers active)...\u001b[0m \u001b[37mView app at \u001b[0m\n",
      "\u001b[2K\u001b[1A\u001b[2K\u001b[34m/\u001b[0m \u001b[34mRunning (1/1 containers active)...\u001b[0m \u001b[37mView app at \u001b[0m\n",
      "\u001b[2K\u001b[1A\u001b[2K\u001b[34m\\\u001b[0m \u001b[34mRunning (1/1 containers active)...\u001b[0m \u001b[37mView app at \u001b[0m\n",
      "\u001b[2K\u001b[1A\u001b[2K\u001b[34m/\u001b[0m \u001b[34mRunning (1/1 containers active)...\u001b[0m \u001b[37mView app at \u001b[0m\n",
      "\u001b[2K\u001b[1A\u001b[2K\u001b[34m\\\u001b[0m \u001b[34mRunning (1/1 containers active)...\u001b[0m \u001b[37mView app at \u001b[0m\n",
      "\u001b[2K\u001b[1A\u001b[2K\u001b[34m/\u001b[0m \u001b[34mRunning (1/1 containers active)...\u001b[0m \u001b[37mView app at \u001b[0m\n",
      "\u001b[2K\u001b[1A\u001b[2K\u001b[34m\\\u001b[0m \u001b[34mRunning (1/1 containers active)...\u001b[0m \u001b[37mView app at \u001b[0m\n",
      "\u001b[2K\u001b[1A\u001b[2K\u001b[34m/\u001b[0m \u001b[34mRunning (1/1 containers active)...\u001b[0m \u001b[37mView app at \u001b[0m\n",
      "\u001b[2K\u001b[1A\u001b[2K\u001b[34m\\\u001b[0m \u001b[34mRunning (1/1 containers active)...\u001b[0m \u001b[37mView app at \u001b[0m\n",
      "\u001b[2K\u001b[1A\u001b[2K\u001b[34m/\u001b[0m \u001b[34mRunning (1/1 containers active)...\u001b[0m \u001b[37mView app at \u001b[0m\n",
      "\u001b[2K\u001b[1A\u001b[2K\u001b[34m\\\u001b[0m \u001b[34mRunning (1/1 containers active)...\u001b[0m \u001b[37mView app at \u001b[0m\n",
      "\u001b[2K\u001b[1A\u001b[2K\u001b[34m/\u001b[0m \u001b[34mRunning (1/1 containers active)...\u001b[0m \u001b[37mView app at \u001b[0m\n",
      "\u001b[2K\u001b[1A\u001b[2K\u001b[34m\\\u001b[0m \u001b[34mRunning (1/1 containers active)...\u001b[0m \u001b[37mView app at \u001b[0m\n",
      "\u001b[2K\u001b[1A\u001b[2K\u001b[34m/\u001b[0m \u001b[34mRunning (1/1 containers active)...\u001b[0m \u001b[37mView app at \u001b[0m\n",
      "\u001b[2K\u001b[1A\u001b[2K\u001b[34m\\\u001b[0m \u001b[34mRunning (1/1 containers active)...\u001b[0m \u001b[37mView app at \u001b[0m\n",
      "\u001b[2K\u001b[1A\u001b[2K\u001b[34m/\u001b[0m \u001b[34mRunning (1/1 containers active)...\u001b[0m \u001b[37mView app at \u001b[0m\n",
      "\u001b[2K\u001b[1A\u001b[2K\u001b[34m\\\u001b[0m \u001b[34mRunning (1/1 containers active)...\u001b[0m \u001b[37mView app at \u001b[0m\n",
      "\u001b[2K\u001b[1A\u001b[2K\u001b[34m/\u001b[0m \u001b[34mRunning (1/1 containers active)...\u001b[0m \u001b[37mView app at \u001b[0m\n",
      "\u001b[2K\u001b[1A\u001b[2K\u001b[34m\\\u001b[0m \u001b[34mRunning (1/1 containers active)...\u001b[0m \u001b[37mView app at \u001b[0m\n",
      "\u001b[2K\u001b[1A\u001b[2K\u001b[34m/\u001b[0m \u001b[34mRunning (1/1 containers active)...\u001b[0m \u001b[37mView app at \u001b[0m\n",
      "\u001b[2K\u001b[1A\u001b[2K\u001b[34m-\u001b[0m \u001b[34mRunning (1/1 containers active)...\u001b[0m \u001b[37mView app at \u001b[0m\n",
      "\u001b[2K\u001b[1A\u001b[2K\u001b[34m|\u001b[0m \u001b[34mRunning (1/1 containers active)...\u001b[0m \u001b[37mView app at \u001b[0m\n",
      "\u001b[2K\u001b[1A\u001b[2K\u001b[34m-\u001b[0m \u001b[34mRunning (1/1 containers active)...\u001b[0m \u001b[37mView app at \u001b[0m\n",
      "\u001b[2K\u001b[1A\u001b[2K\u001b[34m|\u001b[0m \u001b[34mRunning (1/1 containers active)...\u001b[0m \u001b[37mView app at \u001b[0m\n",
      "\u001b[2K\u001b[1A\u001b[2K\u001b[34m-\u001b[0m \u001b[34mRunning (1/1 containers active)...\u001b[0m \u001b[37mView app at \u001b[0m\n",
      "\u001b[2K\u001b[1A\u001b[2K\u001b[34m|\u001b[0m \u001b[34mRunning (1/1 containers active)...\u001b[0m \u001b[37mView app at \u001b[0m\n",
      "\u001b[2K\u001b[1A\u001b[2K\u001b[34m-\u001b[0m \u001b[34mRunning (1/1 containers active)...\u001b[0m \u001b[37mView app at \u001b[0m\n",
      "\u001b[2K\u001b[1A\u001b[2K\u001b[34m|\u001b[0m \u001b[34mRunning (1/1 containers active)...\u001b[0m \u001b[37mView app at \u001b[0m\n",
      "\u001b[2K\u001b[1A\u001b[2K\u001b[34m-\u001b[0m \u001b[34mRunning (1/1 containers active)...\u001b[0m \u001b[37mView app at \u001b[0m\n",
      "\u001b[2K\u001b[1A\u001b[2K\u001b[34m|\u001b[0m \u001b[34mRunning (1/1 containers active)...\u001b[0m \u001b[37mView app at \u001b[0m\n",
      "\u001b[2K\u001b[1A\u001b[2K\u001b[34m-\u001b[0m \u001b[34mRunning (1/1 containers active)...\u001b[0m \u001b[37mView app at \u001b[0m\n",
      "\u001b[2K\u001b[1A\u001b[2K\u001b[34m|\u001b[0m \u001b[34mRunning (1/1 containers active)...\u001b[0m \u001b[37mView app at \u001b[0m\n",
      "\u001b[2K\u001b[1A\u001b[2K\u001b[34m-\u001b[0m \u001b[34mRunning (1/1 containers active)...\u001b[0m \u001b[37mView app at \u001b[0m\n",
      "\u001b[2K\u001b[1A\u001b[2K\u001b[34m|\u001b[0m \u001b[34mRunning (1/1 containers active)...\u001b[0m \u001b[37mView app at \u001b[0m\n",
      "\u001b[2K\u001b[1A\u001b[2K\u001b[34m-\u001b[0m \u001b[34mRunning (1/1 containers active)...\u001b[0m \u001b[37mView app at \u001b[0m\n",
      "\u001b[2K\u001b[1A\u001b[2K\u001b[34m|\u001b[0m \u001b[34mRunning (1/1 containers active)...\u001b[0m \u001b[37mView app at \u001b[0m\n",
      "\u001b[2K\u001b[1A\u001b[2K\u001b[34m-\u001b[0m \u001b[34mRunning (1/1 containers active)...\u001b[0m \u001b[37mView app at \u001b[0m\n",
      "\u001b[2K\u001b[1A\u001b[2K\u001b[34m|\u001b[0m \u001b[34mRunning (1/1 containers active)...\u001b[0m \u001b[37mView app at \u001b[0m\n",
      "\u001b[2K\u001b[1A\u001b[2K\u001b[34m-\u001b[0m \u001b[34mRunning (1/1 containers active)...\u001b[0m \u001b[37mView app at \u001b[0m\n",
      "\u001b[2K\u001b[1A\u001b[2K\u001b[34m|\u001b[0m \u001b[34mRunning (1/1 containers active)...\u001b[0m \u001b[37mView app at \u001b[0m\n",
      "\u001b[2K\u001b[1A\u001b[2K\u001b[34m-\u001b[0m \u001b[34mRunning (1/1 containers active)...\u001b[0m \u001b[37mView app at \u001b[0m\n",
      "\u001b[2K\u001b[1A\u001b[2K\u001b[34m|\u001b[0m \u001b[34mRunning (1/1 containers active)...\u001b[0m \u001b[37mView app at \u001b[0m\n",
      "\u001b[2K\u001b[1A\u001b[2K\u001b[34m-\u001b[0m \u001b[34mRunning (1/1 containers active)...\u001b[0m \u001b[37mView app at \u001b[0m\n",
      "\u001b[2K\u001b[1A\u001b[2K\u001b[34m|\u001b[0m \u001b[34mRunning (1/1 containers active)...\u001b[0m \u001b[37mView app at \u001b[0m\n",
      "\u001b[2K\u001b[1A\u001b[2K\u001b[34m-\u001b[0m \u001b[34mRunning (1/1 containers active)...\u001b[0m \u001b[37mView app at \u001b[0m\n",
      "\u001b[2K\u001b[1A\u001b[2K\u001b[34m|\u001b[0m \u001b[34mRunning (1/1 containers active)...\u001b[0m \u001b[37mView app at \u001b[0m\n",
      "\u001b[2K\u001b[1A\u001b[2K\u001b[34m-\u001b[0m \u001b[34mRunning (1/1 containers active)...\u001b[0m \u001b[37mView app at \u001b[0m\n",
      "\u001b[2K\u001b[1A\u001b[2K\u001b[34m|\u001b[0m \u001b[34mRunning (1/1 containers active)...\u001b[0m \u001b[37mView app at \u001b[0m\n",
      "\u001b[2K\u001b[1A\u001b[2K\u001b[34m-\u001b[0m \u001b[34mRunning (1/1 containers active)...\u001b[0m \u001b[37mView app at \u001b[0m\n",
      "\u001b[2K\u001b[1A\u001b[2K\u001b[34m|\u001b[0m \u001b[34mRunning (1/1 containers active)...\u001b[0m \u001b[37mView app at \u001b[0m\n",
      "\u001b[2K\u001b[1A\u001b[2K\u001b[34m-\u001b[0m \u001b[34mRunning (1/1 containers active)...\u001b[0m \u001b[37mView app at \u001b[0m\n",
      "\u001b[2K\u001b[1A\u001b[2K\u001b[34m|\u001b[0m \u001b[34mRunning (1/1 containers active)...\u001b[0m \u001b[37mView app at \u001b[0m\n",
      "\u001b[2K\u001b[1A\u001b[2K\u001b[34m-\u001b[0m \u001b[34mRunning (1/1 containers active)...\u001b[0m \u001b[37mView app at \u001b[0m\n",
      "\u001b[2K\u001b[1A\u001b[2K\u001b[34m|\u001b[0m \u001b[34mRunning (1/1 containers active)...\u001b[0m \u001b[37mView app at \u001b[0m\n",
      "\u001b[2K\u001b[1A\u001b[2K\u001b[34m-\u001b[0m \u001b[34mRunning (1/1 containers active)...\u001b[0m \u001b[37mView app at \u001b[0m\n",
      "\u001b[2K\u001b[1A\u001b[2K\u001b[34m|\u001b[0m \u001b[34mRunning (1/1 containers active)...\u001b[0m \u001b[37mView app at \u001b[0m\n",
      "\u001b[2K\u001b[1A\u001b[2K\u001b[34m-\u001b[0m \u001b[34mRunning (1/1 containers active)...\u001b[0m \u001b[37mView app at \u001b[0m\n",
      "\u001b[2K\u001b[1A\u001b[2K\u001b[34m|\u001b[0m \u001b[34mRunning (1/1 containers active)...\u001b[0m \u001b[37mView app at \u001b[0m\n",
      "\u001b[2K\u001b[1A\u001b[2K\u001b[34m-\u001b[0m \u001b[34mRunning (1/1 containers active)...\u001b[0m \u001b[37mView app at \u001b[0m\n",
      "\u001b[2K\u001b[1A\u001b[2K\u001b[31mdal.com/apps/ksharma9719/main/ap-PtqYoSwIEWppz9JunRM3LP\u001b[0m\n",
      "\u001b[2K\u001b[31m\u001b[1AFetching 4 files:  25%|██▌       | 1/4 [01:04<03:14, 64.80s/it]Fetching 4 files: 100%|██████████| 4/4 [01:04<00:00, 16.22s/it]\n",
      "\u001b[2K\u001b[34m|\u001b[0m \u001b[34mRunning (1/1 containers active)...\u001b[0m \u001b[37mView app at \u001b[0m7mView app at \u001b[0m\u001b[4;37mhttps://modal.com/apps/ksharma\u001b[0m\n",
      "\u001b[2K\u001b[1A\u001b[2K\u001b[34m-\u001b[0m \u001b[34mRunning (1/1 containers active)...\u001b[0m \u001b[37mView app at \u001b[0m\n",
      "\u001b[2K\u001b[1A\u001b[2K\u001b[34m|\u001b[0m \u001b[34mRunning (1/1 containers active)...\u001b[0m \u001b[37mView app at \u001b[0m\n",
      "\u001b[2K\u001b[1A\u001b[2K\u001b[31mdal.com/apps/ksharma9719/main/ap-PtqYoSwIEWppz9JunRM3LP\u001b[0m\n",
      "\u001b[2K\u001b[34m-\u001b[0m \u001b[34mRunning (1/1 containers active)...\u001b[0m \u001b[37mView app at \u001b[0m7mView app at \u001b[0m\u001b[4;37mhttps://modal.com/apps/ksharma\u001b[0m\n",
      "\u001b[2K\u001b[1A\u001b[2K\u001b[34m|\u001b[0m \u001b[34mRunning (1/1 containers active)...\u001b[0m \u001b[37mView app at \u001b[0m\n",
      "\u001b[2K\u001b[1A\u001b[2K\u001b[34m-\u001b[0m \u001b[34mRunning (1/1 containers active)...\u001b[0m \u001b[37mView app at \u001b[0m\n",
      "\u001b[2K\u001b[1A\u001b[2K\u001b[34m|\u001b[0m \u001b[34mRunning (1/1 containers active)...\u001b[0m \u001b[37mView app at \u001b[0m\n",
      "\u001b[2K\u001b[1A\u001b[2K\u001b[34m-\u001b[0m \u001b[34mRunning (1/1 containers active)...\u001b[0m \u001b[37mView app at \u001b[0m\n",
      "\u001b[2K\u001b[1A\u001b[2K\u001b[34m|\u001b[0m \u001b[34mRunning (1/1 containers active)...\u001b[0m \u001b[37mView app at \u001b[0m\n",
      "\u001b[2K\u001b[1A\u001b[2K\u001b[34m-\u001b[0m \u001b[34mRunning (1/1 containers active)...\u001b[0m \u001b[37mView app at \u001b[0m\n",
      "\u001b[2K\u001b[1A\u001b[2K\u001b[34m|\u001b[0m \u001b[34mRunning (1/1 containers active)...\u001b[0m \u001b[37mView app at \u001b[0m\n",
      "\u001b[2K\u001b[1A\u001b[2K\u001b[34m-\u001b[0m \u001b[34mRunning (1/1 containers active)...\u001b[0m \u001b[37mView app at \u001b[0m\n",
      "\u001b[2K\u001b[1A\u001b[2K\u001b[34m|\u001b[0m \u001b[34mRunning (1/1 containers active)...\u001b[0m \u001b[37mView app at \u001b[0m\n",
      "\u001b[2K\u001b[1A\u001b[2K\u001b[34m-\u001b[0m \u001b[34mRunning (1/1 containers active)...\u001b[0m \u001b[37mView app at \u001b[0m\n",
      "\u001b[2K\u001b[1A\u001b[2K\u001b[34m|\u001b[0m \u001b[34mRunning (1/1 containers active)...\u001b[0m \u001b[37mView app at \u001b[0m\n",
      "\u001b[2K\u001b[1A\u001b[2K\u001b[34m-\u001b[0m \u001b[34mRunning (1/1 containers active)...\u001b[0m \u001b[37mView app at \u001b[0m\n",
      "\u001b[2K\u001b[1A\u001b[2K\u001b[34m|\u001b[0m \u001b[34mRunning (1/1 containers active)...\u001b[0m \u001b[37mView app at \u001b[0m\n",
      "\u001b[2K\u001b[1A\u001b[2K\u001b[34m-\u001b[0m \u001b[34mRunning (1/1 containers active)...\u001b[0m \u001b[37mView app at \u001b[0m\n",
      "\u001b[2K\u001b[1A\u001b[2K\u001b[34m|\u001b[0m \u001b[34mRunning (1/1 containers active)...\u001b[0m \u001b[37mView app at \u001b[0m\n",
      "\u001b[2K\u001b[1A\u001b[2K\u001b[34m-\u001b[0m \u001b[34mRunning (1/1 containers active)...\u001b[0m \u001b[37mView app at \u001b[0m\n",
      "\u001b[2K\u001b[1A\u001b[2K\u001b[31m\u001b[1ALoading checkpoint shards:   0%|          | 0/4 [00:00<?, ?it/s]\n",
      "\u001b[2K\u001b[34m|\u001b[0m \u001b[34mRunning (1/1 containers active)...\u001b[0m \u001b[37mView app at \u001b[0m7mView app at \u001b[0m\u001b[4;37mhttps://modal.com/apps/ksharma\u001b[0m\n",
      "\u001b[2K\u001b[1A\u001b[2K\u001b[34m-\u001b[0m \u001b[34mRunning (1/1 containers active)...\u001b[0m \u001b[37mView app at \u001b[0m\n",
      "\u001b[2K\u001b[1A\u001b[2K\u001b[34m|\u001b[0m \u001b[34mRunning (1/1 containers active)...\u001b[0m \u001b[37mView app at \u001b[0m\n",
      "\u001b[2K\u001b[1A\u001b[2K\u001b[34m-\u001b[0m \u001b[34mRunning (1/1 containers active)...\u001b[0m \u001b[37mView app at \u001b[0m\n",
      "\u001b[2K\u001b[1A\u001b[2K\u001b[34m|\u001b[0m \u001b[34mRunning (1/1 containers active)...\u001b[0m \u001b[37mView app at \u001b[0m\n",
      "\u001b[2K\u001b[1A\u001b[2K\u001b[34m-\u001b[0m \u001b[34mRunning (1/1 containers active)...\u001b[0m \u001b[37mView app at \u001b[0m\n",
      "\u001b[2K\u001b[1A\u001b[2K\u001b[34m|\u001b[0m \u001b[34mRunning (1/1 containers active)...\u001b[0m \u001b[37mView app at \u001b[0m\n",
      "\u001b[2K\u001b[1A\u001b[2K\u001b[34m-\u001b[0m \u001b[34mRunning (1/1 containers active)...\u001b[0m \u001b[37mView app at \u001b[0m\n",
      "\u001b[2K\u001b[1A\u001b[2K\u001b[34m|\u001b[0m \u001b[34mRunning (1/1 containers active)...\u001b[0m \u001b[37mView app at \u001b[0m\n",
      "\u001b[2K\u001b[1A\u001b[2K\u001b[34m-\u001b[0m \u001b[34mRunning (1/1 containers active)...\u001b[0m \u001b[37mView app at \u001b[0m\n",
      "\u001b[2K\u001b[1A\u001b[2K\u001b[34m|\u001b[0m \u001b[34mRunning (1/1 containers active)...\u001b[0m \u001b[37mView app at \u001b[0m\n",
      "\u001b[2K\u001b[1A\u001b[2K\u001b[34m-\u001b[0m \u001b[34mRunning (1/1 containers active)...\u001b[0m \u001b[37mView app at \u001b[0m\n",
      "\u001b[2K\u001b[1A\u001b[2K\u001b[34m|\u001b[0m \u001b[34mRunning (1/1 containers active)...\u001b[0m \u001b[37mView app at \u001b[0m\n",
      "\u001b[2K\u001b[1A\u001b[2K\u001b[34m-\u001b[0m \u001b[34mRunning (1/1 containers active)...\u001b[0m \u001b[37mView app at \u001b[0m\n",
      "\u001b[2K\u001b[1A\u001b[2K\u001b[34m|\u001b[0m \u001b[34mRunning (1/1 containers active)...\u001b[0m \u001b[37mView app at \u001b[0m\n",
      "\u001b[2K\u001b[1A\u001b[2K\u001b[34m-\u001b[0m \u001b[34mRunning (1/1 containers active)...\u001b[0m \u001b[37mView app at \u001b[0m\n",
      "\u001b[2K\u001b[1A\u001b[2K\u001b[34m|\u001b[0m \u001b[34mRunning (1/1 containers active)...\u001b[0m \u001b[37mView app at \u001b[0m\n",
      "\u001b[2K\u001b[1A\u001b[2K\u001b[34m-\u001b[0m \u001b[34mRunning (1/1 containers active)...\u001b[0m \u001b[37mView app at \u001b[0m\n",
      "\u001b[2K\u001b[1A\u001b[2K\u001b[34m|\u001b[0m \u001b[34mRunning (1/1 containers active)...\u001b[0m \u001b[37mView app at \u001b[0m\n",
      "\u001b[2K\u001b[1A\u001b[2K\u001b[31m\u001b[1ALoading checkpoint shards:  25%|██▌       | 1/4 [00:04<00:12,  4.32s/it]\n",
      "\u001b[2K\u001b[34m-\u001b[0m \u001b[34mRunning (1/1 containers active)...\u001b[0m \u001b[37mView app at \u001b[0m7mView app at \u001b[0m\u001b[4;37mhttps://modal.com/apps/ksharma\u001b[0m\n",
      "\u001b[2K\u001b[1A\u001b[2K\u001b[34m|\u001b[0m \u001b[34mRunning (1/1 containers active)...\u001b[0m \u001b[37mView app at \u001b[0m\n",
      "\u001b[2K\u001b[1A\u001b[2K\u001b[34m-\u001b[0m \u001b[34mRunning (1/1 containers active)...\u001b[0m \u001b[37mView app at \u001b[0m\n",
      "\u001b[2K\u001b[1A\u001b[2K\u001b[34m|\u001b[0m \u001b[34mRunning (1/1 containers active)...\u001b[0m \u001b[37mView app at \u001b[0m\n",
      "\u001b[2K\u001b[1A\u001b[2K\u001b[34m-\u001b[0m \u001b[34mRunning (1/1 containers active)...\u001b[0m \u001b[37mView app at \u001b[0m\n",
      "\u001b[2K\u001b[1A\u001b[2K\u001b[34m|\u001b[0m \u001b[34mRunning (1/1 containers active)...\u001b[0m \u001b[37mView app at \u001b[0m\n",
      "\u001b[2K\u001b[1A\u001b[2K\u001b[34m-\u001b[0m \u001b[34mRunning (1/1 containers active)...\u001b[0m \u001b[37mView app at \u001b[0m\n",
      "\u001b[2K\u001b[1A\u001b[2K\u001b[34m|\u001b[0m \u001b[34mRunning (1/1 containers active)...\u001b[0m \u001b[37mView app at \u001b[0m\n",
      "\u001b[2K\u001b[1A\u001b[2K\u001b[34m-\u001b[0m \u001b[34mRunning (1/1 containers active)...\u001b[0m \u001b[37mView app at \u001b[0m\n",
      "\u001b[2K\u001b[1A\u001b[2K\u001b[34m|\u001b[0m \u001b[34mRunning (1/1 containers active)...\u001b[0m \u001b[37mView app at \u001b[0m\n",
      "\u001b[2K\u001b[1A\u001b[2K\u001b[34m-\u001b[0m \u001b[34mRunning (1/2 containers active)...\u001b[0m \u001b[37mView app at \u001b[0m\n",
      "\u001b[2K\u001b[1A\u001b[2K\u001b[34m|\u001b[0m \u001b[34mRunning (1/2 containers active)...\u001b[0m \u001b[37mView app at \u001b[0m\n",
      "\u001b[2K\u001b[1A\u001b[2K\u001b[34m-\u001b[0m \u001b[34mRunning (1/2 containers active)...\u001b[0m \u001b[37mView app at \u001b[0m\n",
      "\u001b[2K\u001b[1A\u001b[2K\u001b[34m|\u001b[0m \u001b[34mRunning (1/2 containers active)...\u001b[0m \u001b[37mView app at \u001b[0m\n",
      "\u001b[2K\u001b[1A\u001b[2K\u001b[34m-\u001b[0m \u001b[34mRunning (1/2 containers active)...\u001b[0m \u001b[37mView app at \u001b[0m\n",
      "\u001b[2K\u001b[1A\u001b[2K\u001b[34m|\u001b[0m \u001b[34mRunning (1/2 containers active)...\u001b[0m \u001b[37mView app at \u001b[0m\n",
      "\u001b[2K\u001b[1A\u001b[2K\u001b[34m-\u001b[0m \u001b[34mRunning (1/2 containers active)...\u001b[0m \u001b[37mView app at \u001b[0m\n",
      "\u001b[2K\u001b[1A\u001b[2K\u001b[34m|\u001b[0m \u001b[34mRunning (1/2 containers active)...\u001b[0m \u001b[37mView app at \u001b[0m\n",
      "\u001b[2K\u001b[1A\u001b[2K\u001b[34m-\u001b[0m \u001b[34mRunning (1/2 containers active)...\u001b[0m \u001b[37mView app at \u001b[0m\n",
      "\u001b[2K\u001b[1A\u001b[2K\u001b[34m|\u001b[0m \u001b[34mRunning (1/2 containers active)...\u001b[0m \u001b[37mView app at \u001b[0m\n",
      "\u001b[2K\u001b[1A\u001b[2K\u001b[31m\u001b[1ALoading checkpoint shards:  50%|█████     | 2/4 [00:09<00:09,  4.75s/it]\n",
      "\u001b[2K\u001b[34m-\u001b[0m \u001b[34mRunning (1/2 containers active)...\u001b[0m \u001b[37mView app at \u001b[0m7mView app at \u001b[0m\u001b[4;37mhttps://modal.com/apps/ksharma\u001b[0m\n",
      "\u001b[2K\u001b[1A\u001b[2K\u001b[31m\u001b[1ALoading checkpoint shards:  75%|███████▌  | 3/4 [00:14<00:04,  4.82s/it]Loading checkpoint shards: 100%|██████████| 4/4 [00:14<00:00,  3.08s/it]Loading checkpoint shards: 100%|██████████| 4/4 [00:14<00:00,  3.67s/it]\n",
      "\u001b[2K\u001b[34m|\u001b[0m \u001b[34mRunning (1/2 containers active)...\u001b[0m \u001b[37mView app at \u001b[0m7mView app at \u001b[0m\u001b[4;37mhttps://modal.com/apps/ksharma\u001b[0m\n",
      "\u001b[2K\u001b[1A\u001b[2K\u001b[34m-\u001b[0m \u001b[34mRunning (1/2 containers active)...\u001b[0m \u001b[37mView app at \u001b[0m\n",
      "\u001b[2K\u001b[1A\u001b[2K\u001b[31mSetting `pad_token_id` to `eos_token_id`:128001 for open-end generation.\n",
      "\u001b[2K\u001b[34m\\\u001b[0m \u001b[34mRunning (1/2 containers active)...\u001b[0m \u001b[37mView app at \u001b[0m7mView app at \u001b[0m\u001b[4;37mhttps://modal.com/apps/ksharma\u001b[0m\n",
      "\u001b[2K\u001b[1A\u001b[2K\u001b[34m/\u001b[0m \u001b[34mRunning (2/2 containers active)...\u001b[0m \u001b[37mView app at \u001b[0m\n",
      "\u001b[2K\u001b[1A\u001b[2K\u001b[34m\\\u001b[0m \u001b[34mRunning (2/2 containers active)...\u001b[0m \u001b[37mView app at \u001b[0m\n",
      "\u001b[2K\u001b[1A\u001b[2K\u001b[34m/\u001b[0m \u001b[34mRunning (2/2 containers active)...\u001b[0m \u001b[37mView app at \u001b[0m\n",
      "\u001b[2K\u001b[1A\u001b[2K\u001b[34m\\\u001b[0m \u001b[34mRunning (2/2 containers active)...\u001b[0m \u001b[37mView app at \u001b[0m\n",
      "\u001b[2K\u001b[1A\u001b[2K\u001b[34m/\u001b[0m \u001b[34mRunning (2/2 containers active)...\u001b[0m \u001b[37mView app at \u001b[0m\n",
      "\u001b[2K\u001b[1A\u001b[2K\u001b[34m-\u001b[0m \u001b[34mRunning (2/2 containers active)...\u001b[0m \u001b[37mView app at \u001b[0m\n",
      "\u001b[4;37mhttps://modal.com/apps/ksharma9719/main/ap-PtqYoSwIEWppz9JunRM3LP\u001b[0m\n",
      "\u001b[1A\u001b[2K\u001b[1A\u001b[2K\u001b[33mStopping app - local entrypoint completed.\n",
      "\u001b[0m\u001b[32m✓\u001b[0m App completed. \u001b[37mView run at \u001b[0m\n",
      "\u001b[4;37mhttps://modal.com/apps/ksharma9719/main/ap-PtqYoSwIEWppz9JunRM3LP\u001b[0m\n"
     ]
    },
    {
     "data": {
      "text/plain": [
       "'<|begin_of_text|>Life is a mystery, everyone must stand alone, I hear you call my name,'"
      ]
     },
     "execution_count": 24,
     "metadata": {},
     "output_type": "execute_result"
    }
   ],
   "source": [
    "with modal.enable_output():\n",
    "    with app.run():\n",
    "        result = generate.remote(\"Life is a mystery, everyone must stand alone, I hear\")\n",
    "\n",
    "result"
   ]
  },
  {
   "cell_type": "markdown",
   "id": "925ca11f",
   "metadata": {},
   "source": [
    "#### Ephemeral Apps"
   ]
  },
  {
   "cell_type": "code",
   "execution_count": 27,
   "id": "0f4fe937",
   "metadata": {},
   "outputs": [],
   "source": [
    "import modal\n",
    "from pricer_ephemeral import app, price"
   ]
  },
  {
   "cell_type": "code",
   "execution_count": null,
   "id": "d01801ec",
   "metadata": {},
   "outputs": [],
   "source": [
    "with modal.enable_output():\n",
    "    with app.run():\n",
    "        result=price.remote(\"Acer Nitro 5 AMD Ryzen 7 Octa Core 7735HS - (16 GB/512 GB SSD/Windows 11 Home/4 GB Graphics/NVIDIA GeForce RTX 3050) AN515-47-R093 Gaming Laptop  (15.6 Inch, Obsidian Black, 2.5 Kg)\")\n",
    "result"
   ]
  },
  {
   "cell_type": "markdown",
   "id": "7193d3a8",
   "metadata": {},
   "source": [
    "### **Transitioning from Ephemeral App to Deployed App** \n",
    "From a command line, `modal deploy xxx` will deploy your code as a Deployed App.   \n",
    "This is how you could package your AI Service behind an API to be used in a Production System.  \n",
    "You can also build REST Endpoints easily, although we won't cover that as we'll be calling direct from Python. "
   ]
  },
  {
   "cell_type": "code",
   "execution_count": null,
   "id": "a2dfaf2d",
   "metadata": {},
   "outputs": [],
   "source": [
    "!modal deploy pricer_service"
   ]
  },
  {
   "cell_type": "code",
   "execution_count": null,
   "id": "74548726",
   "metadata": {},
   "outputs": [
    {
     "name": "stderr",
     "output_type": "stream",
     "text": [
      "C:\\Python313\\Lib\\asyncio\\events.py:89: DeprecationError: 2025-01-27: `modal.Function.lookup` is deprecated and will be removed in a future release. It can be replaced with `modal.Function.from_name`.\n",
      "\n",
      "See https://modal.com/docs/guide/modal-1-0-migration for more information.\n",
      "  self._context.run(self._callback, *self._args)\n"
     ]
    }
   ],
   "source": [
    "# calling the deployed app\n",
    "#                                  app-name    , function-name \n",
    "pricer = modal.Function.lookup(\"pricer-service\", \"price\")"
   ]
  },
  {
   "cell_type": "code",
   "execution_count": 33,
   "id": "fda35361",
   "metadata": {},
   "outputs": [
    {
     "data": {
      "text/plain": [
       "220.0"
      ]
     },
     "execution_count": 33,
     "metadata": {},
     "output_type": "execute_result"
    }
   ],
   "source": [
    "pricer.remote(\"Oppo A55 4 GB RAM, 128 GB ROM, 6.5 inch HD+ Display, 5000mAh Lithium-ion Polymer Battery, MediaTek Helio G35 Processor\")"
   ]
  },
  {
   "cell_type": "markdown",
   "id": "d81b49d0",
   "metadata": {},
   "source": [
    "> The above deployed app goes to sleep after some time. So we need to cache and store the Model to get faster results every time and keep the model warm. Here's how we did it in the module: `pricer_service2`"
   ]
  },
  {
   "cell_type": "code",
   "execution_count": null,
   "id": "fbaf4e04",
   "metadata": {},
   "outputs": [],
   "source": [
    "!modal deploy pricer_service2"
   ]
  },
  {
   "cell_type": "code",
   "execution_count": 36,
   "id": "8250493c",
   "metadata": {},
   "outputs": [
    {
     "name": "stderr",
     "output_type": "stream",
     "text": [
      "C:\\Python313\\Lib\\asyncio\\events.py:89: DeprecationError: 2025-01-27: `modal.Cls.lookup` is deprecated and will be removed in a future release. It can be replaced with `modal.Cls.from_name`.\n",
      "\n",
      "See https://modal.com/docs/guide/modal-1-0-migration for more information.\n",
      "  self._context.run(self._callback, *self._args)\n"
     ]
    },
    {
     "name": "stdout",
     "output_type": "stream",
     "text": [
      "220.0\n"
     ]
    }
   ],
   "source": [
    "# Calling the deployed pricer_service app\n",
    "#                          app-name         class-name\n",
    "\n",
    "Pricer = modal.Cls.lookup(\"pricer-service\", \"Pricer\")\n",
    "pricer = Pricer()\n",
    "reply = pricer.price.remote(\"Oppo A55 4 GB RAM, 128 GB ROM, 6.5 inch HD+ Display, 5000mAh Lithium-ion Polymer Battery, MediaTek Helio G35 Processor\")\n",
    "print(reply)"
   ]
  },
  {
   "cell_type": "markdown",
   "id": "b6cd563c",
   "metadata": {},
   "source": [
    "### **And Now Introducing Our Agent Class**"
   ]
  },
  {
   "cell_type": "code",
   "execution_count": 39,
   "id": "15e30d34",
   "metadata": {},
   "outputs": [],
   "source": [
    "from agents.specialist_agent import SpecialistAgent"
   ]
  },
  {
   "cell_type": "code",
   "execution_count": 43,
   "id": "6c6677b6",
   "metadata": {},
   "outputs": [
    {
     "data": {
      "text/plain": [
       "999.0"
      ]
     },
     "execution_count": 43,
     "metadata": {},
     "output_type": "execute_result"
    }
   ],
   "source": [
    "agent = SpecialistAgent()\n",
    "agent.price(\"Macbook Air M1\")"
   ]
  }
 ],
 "metadata": {
  "kernelspec": {
   "display_name": "LLM_Engineering",
   "language": "python",
   "name": "python3"
  },
  "language_info": {
   "codemirror_mode": {
    "name": "ipython",
    "version": 3
   },
   "file_extension": ".py",
   "mimetype": "text/x-python",
   "name": "python",
   "nbconvert_exporter": "python",
   "pygments_lexer": "ipython3",
   "version": "3.13.3"
  }
 },
 "nbformat": 4,
 "nbformat_minor": 5
}
