{
 "cells": [
  {
   "cell_type": "markdown",
   "id": "1f376d88",
   "metadata": {},
   "source": [
    "## **Today we'll build a ScanningAgent that looks for promising deals by subscribing to RSS feeds**"
   ]
  },
  {
   "cell_type": "code",
   "execution_count": 29,
   "id": "cfa233be",
   "metadata": {},
   "outputs": [],
   "source": [
    "# imports \n",
    "import os \n",
    "import json\n",
    "from dotenv import load_dotenv\n",
    "from openai import OpenAI\n",
    "from agents.deals import ScrapedDeal, DealSelection"
   ]
  },
  {
   "cell_type": "code",
   "execution_count": 30,
   "id": "eac80758",
   "metadata": {},
   "outputs": [],
   "source": [
    "# Initializing the constants \n",
    "\n",
    "load_dotenv(override=True)\n",
    "\n",
    "MODEL = \"gpt-4o-mini\"\n",
    "openai = OpenAI()"
   ]
  },
  {
   "cell_type": "code",
   "execution_count": 31,
   "id": "3f44415a",
   "metadata": {},
   "outputs": [
    {
     "name": "stderr",
     "output_type": "stream",
     "text": [
      "100%|██████████| 5/5 [02:45<00:00, 33.05s/it]\n"
     ]
    }
   ],
   "source": [
    "deals = ScrapedDeal.fetch(show_progress=True)"
   ]
  },
  {
   "cell_type": "code",
   "execution_count": 32,
   "id": "fe0aee29",
   "metadata": {},
   "outputs": [
    {
     "data": {
      "text/plain": [
       "50"
      ]
     },
     "execution_count": 32,
     "metadata": {},
     "output_type": "execute_result"
    }
   ],
   "source": [
    "# as we have 10 deals from all 5 feeds each\n",
    "\n",
    "len(deals)"
   ]
  },
  {
   "cell_type": "code",
   "execution_count": 33,
   "id": "594d16ab",
   "metadata": {},
   "outputs": [
    {
     "data": {
      "text/plain": [
       "\"Title: Buffalo Wild Wings Pick Six Offer From $20\\nDetails: Buffalo Wild Wings' Pick Six offer has returned, which allows customers to get a meal for two, starting at $20. Price varies by region.If you're in the mood for fast food, you can save even more with these\\xa0Uber Eats promo codes. Buy Now at Buffalo Wild Wings\\nFeatures: \\nURL: https://www.dealnews.com/Buffalo-Wild-Wings-Pick-Six-Offer-From-20/21763949.html?iref=rss-c196\""
      ]
     },
     "execution_count": 33,
     "metadata": {},
     "output_type": "execute_result"
    }
   ],
   "source": [
    "deals[44].describe()"
   ]
  },
  {
   "cell_type": "code",
   "execution_count": 50,
   "id": "169647b3",
   "metadata": {},
   "outputs": [],
   "source": [
    "system_prompt = \"\"\"You identify and summarize the 5 most detailed deals from a list, by selecting deals that have the most detailed, high quality description and the most clear price.\n",
    "Respond strictly in JSON with no explanation, using this format. You should provide the price as a number derived from the description. If the price of a deal isn't clear, do not include that deal in your response. \n",
    "Most important is that you respond with the 5 deals that have the most detailed product with price. It's not important to mention the terms of the deal; most important in thorough description of the product. \n",
    "Be careful with products that are described as \"$XXX off\" or \"reduced by $XXX\" - this isn't the actual price of the product. Only respond with products when you are highly confident about the price. \n",
    "\n",
    "\n",
    "{\"deals\": [\n",
    "    {\n",
    "        \"product_description\": \"Your clearly expressed summary of the product in 4-5 sentences. Details of the item are much more important than why it's a good deal. Avoid mentioning discounts and coupons; focus on the item itself. There should be a paragraph of text for each item you choose.\", \n",
    "        \"price\": 99.99, \n",
    "        \"url\": \"the url as provided\"\n",
    "    },\n",
    "    ,,,\n",
    "]}\n",
    "\"\"\""
   ]
  },
  {
   "cell_type": "code",
   "execution_count": 51,
   "id": "8e2a9fca",
   "metadata": {},
   "outputs": [],
   "source": [
    "user_prompt = \"\"\"Respond with the most promising 5 deals from this list, selecting those which have the most detailed, high quality product description and a clear price.\n",
    "Respond strictly in JSON, and only JSON. You should rephrase the description to be a summary of the product itself, not the terms of the deal.\n",
    "Remember to respond with a paragraph of text in the product_description field for each of the 5 items that you select.\n",
    "Be careful with products that are described as \"$XXX off\" or \"reduced by $XXX\" - this isn't the actual price of the product. Only respond with products when you are highly confident about the price. \n",
    "\n",
    "Deals:\n",
    "\n",
    "\"\"\"\n",
    "user_prompt += '\\n\\n'.join([deal.describe() for deal in deals])"
   ]
  },
  {
   "cell_type": "code",
   "execution_count": 52,
   "id": "e4209649",
   "metadata": {},
   "outputs": [
    {
     "name": "stdout",
     "output_type": "stream",
     "text": [
      "Respond with the most promising 5 deals from this list, selecting those which have the most detailed, high quality product description and a clear price.\n",
      "Respond strictly in JSON, and only JSON. You should rephrase the description to be a summary of the product itself, not the terms of the deal.\n",
      "Remember to respond with a paragraph of text in the product_description field for each of the 5 items that you select.\n",
      "Be careful with products that are described as \"$XXX off\" or \"reduced by $XXX\" - this isn't the actual price of the product. Only respond with products when you are highly confident about the price. \n",
      "\n",
      "Deals:\n",
      "\n",
      "Title: Newegg Shell Shocker Deals: Up to 42% off + free shipping\n",
      "Details: Save on a large selection of computers, processors, graphics cards, motherboards, external and internal hard drives, SSDs, memory cards, upgrades, and accessories. Some have extra discount coupons on their product pages. We've pictured the Seagate Exos X20 20TB SATA 6.0Gbps 3.5\"Internal Hard Drive for $330 via its on-page coupon ($370 off). Shop Now at Newegg\n",
      "Features: \n",
      "URL: https://www.dealnews.com/Newegg-Shell-Shocker-Deals-Up-to-42-off-free-shipping/21764074.html?iref=rss-c142\n",
      "\n",
      "Title: 1080p AI Smart Camera Recording Sunglasses for $70 + $5.99 shipping\n",
      "Details: That's a $30 savings on these glasses — you'd pay over $100 for most similar pairs at Amazon. Shipping adds $5.99. Buy Now at StackSocial\n",
      "Features: dual microphones with ENC blue light filter lenses 3-minute video clips 5GHz WiFi file transfer\n",
      "URL: https://www.dealnews.com/1080-p-AI-Smart-Camera-Recording-Sunglasses-for-70-5-99-shipping/21764009.html?iref=rss-c142\n",
      "\n",
      "Title: Samsung Labor Day Savings at Costco: Up to $1,500 off\n",
      "Details: Save on TVs, appliances, laptops, monitors, and more. Plus, get a $250 Costco Shop Card with the purchase of a select Samsung appliance and select TV. We've pictured the Samsung UN65U8000FDXZA 65\" 4K HDR LED UHD Smart TV for $430. Shop Now at Costco\n",
      "Features: \n",
      "URL: https://www.dealnews.com/Sa\n"
     ]
    }
   ],
   "source": [
    "# the user prompt is way too long, printing only 2000 chars\n",
    "\n",
    "print(user_prompt[:2000])"
   ]
  },
  {
   "cell_type": "code",
   "execution_count": 53,
   "id": "dc70de50",
   "metadata": {},
   "outputs": [],
   "source": [
    "def get_recommendations():\n",
    "    completion = openai.chat.completions.parse(\n",
    "        model=MODEL,\n",
    "        messages=[\n",
    "            {\"role\": \"system\", \"content\": system_prompt}, \n",
    "            {\"role\": \"user\", \"content\": user_prompt}\n",
    "        ], \n",
    "        response_format=DealSelection\n",
    "    )\n",
    "    result = completion.choices[0].message.parsed\n",
    "    return result"
   ]
  },
  {
   "cell_type": "code",
   "execution_count": 54,
   "id": "ba2b352b",
   "metadata": {},
   "outputs": [],
   "source": [
    "result = get_recommendations()"
   ]
  },
  {
   "cell_type": "code",
   "execution_count": 55,
   "id": "4074050f",
   "metadata": {},
   "outputs": [
    {
     "data": {
      "text/plain": [
       "5"
      ]
     },
     "execution_count": 55,
     "metadata": {},
     "output_type": "execute_result"
    }
   ],
   "source": [
    "len(result.deals)"
   ]
  },
  {
   "cell_type": "code",
   "execution_count": 56,
   "id": "d6e19f31",
   "metadata": {},
   "outputs": [
    {
     "name": "stdout",
     "output_type": "stream",
     "text": [
      "product_description='The Samsung 990 EVO Plus 2TB Internal SSD delivers lightning-fast read and write speeds of up to 7,250 MB/s and 6,300 MB/s respectively, ensuring outstanding performance for gaming and high-demand applications. This storage solution serves as a perfect upgrade for those demanding speed and efficiency, suitable for both consumer and professional settings. Priced competitively at $120, it provides an excellent option for enhancing your system’s storage capabilities without compromising on performance.' price=120.0 url='https://www.dealnews.com/products/Samsung/Samsung-990-EVO-Plus-2-TB-Internal-SSD/486663.html?iref=rss-c39'\n"
     ]
    }
   ],
   "source": [
    "print(result.deals[4])"
   ]
  },
  {
   "cell_type": "markdown",
   "id": "3edcc64e",
   "metadata": {},
   "source": [
    "#### **Doing the same with our Production-ready ```ScannerAgent``` Class**"
   ]
  },
  {
   "cell_type": "code",
   "execution_count": 46,
   "id": "91986e2a",
   "metadata": {},
   "outputs": [],
   "source": [
    "from agents.scanner_agent import ScannerAgent"
   ]
  },
  {
   "cell_type": "code",
   "execution_count": 47,
   "id": "52d147e4",
   "metadata": {},
   "outputs": [],
   "source": [
    "agent = ScannerAgent()\n",
    "result = agent.scan()"
   ]
  },
  {
   "cell_type": "code",
   "execution_count": 49,
   "id": "1be05406",
   "metadata": {},
   "outputs": [
    {
     "data": {
      "text/plain": [
       "DealSelection(deals=[Deal(product_description=\"The Anker Solix C300X is a robust portable power station with a 288Wh capacity, ideal for outdoor adventures and emergency situations. With a 300W output and seven outlets including two 140W two-way USB-C fast charging ports, it ensures you can keep your devices powered wherever you go. This unit is bundled with a 60W solar panel for eco-friendly charging, allowing you to harness the sun's power for sustainable energy use. Its design is compact yet powerful, making it a perfect companion for camping, road trips, or home backup.\", price=237.0, url='https://www.dealnews.com/products/Anker/Anker-Solix-C300-X-288-Wh-Portable-Power-Station-w-60-W-Solar-Panel/492331.html?iref=rss-c142'), Deal(product_description=\"Experience immersive audio with the Samsung Galaxy Buds3, designed for ultimate noise cancellation and comfort. These earbuds offer a sleek and compact design, making them perfect for on-the-go listening. They feature advanced sound technology and are equipped to deliver high-fidelity audio quality. Whether you're working out or just relaxing, the Galaxy Buds3 provide a seamless experience, allowing you to enjoy music or take calls with ease. Available with optional trade-in savings, these earbuds are a must-have for any music lover.\", price=30.0, url='https://www.dealnews.com/Samsung-Galaxy-Buds3-Noise-Cancelling-Earbuds-30-off-or-up-to-100-off-w-trade-free-shipping/21763933.html?iref=rss-c142'), Deal(product_description='The Acer Aspire Ultra 5 is a powerful 14-inch touch laptop, featuring an Intel Core Ultra 5 processor and a generous 16GB RAM, ensuring smooth performance for everyday tasks and multitasking. With a 1TB SSD, it provides ample storage space to keep your files, applications, and multimedia content readily accessible. The 1920x1200 touch display enhances usability, allowing for intuitive interaction. Lightweight and portable, this laptop is perfect for students and professionals who need a reliable device for productivity on the go.', price=500.0, url='https://www.dealnews.com/products/Acer/Acer-Aspire-Ultra-5-226-V-14-Touch-Laptop/493296.html?iref=rss-c39'), Deal(product_description=\"The Samsung 990 EVO Plus is a high-performance 2TB internal SSD that delivers exceptional data transfer speeds of up to 7,250MB/s for reading and 6,300MB/s for writing. This drive is designed for demanding computing tasks, providing fast access to applications and dramatically improving overall system responsiveness. Built with Samsung's latest V-NAND technology, it offers durability and reliability to withstand heavy use. Ideal for gamers, creators, and professionals, this SSD is a perfect upgrade to enhance your system's storage capabilities.\", price=120.0, url='https://www.dealnews.com/products/Samsung/Samsung-990-EVO-Plus-2-TB-Internal-SSD/486663.html?iref=rss-c39'), Deal(product_description='The Ring Wired Video Doorbell Plus features crisp 1080p HD video, ensuring you won’t miss any details at your front door. It includes two-way talk functionality so you can communicate with visitors remotely via your smartphone. With real-time notifications, you will stay informed of any activity at your door, enhancing your home security. Built for all weather, this durable doorbell includes night vision for low-light conditions, making it an essential addition to any smart home setup.', price=100.0, url='https://www.dealnews.com/Ring-Wired-Video-Doorbell-Plus-for-100-6-s-h/21761352.html?iref=rss-f1912')])"
      ]
     },
     "execution_count": 49,
     "metadata": {},
     "output_type": "execute_result"
    }
   ],
   "source": [
    "result"
   ]
  }
 ],
 "metadata": {
  "kernelspec": {
   "display_name": "LLM_Engineering",
   "language": "python",
   "name": "python3"
  },
  "language_info": {
   "codemirror_mode": {
    "name": "ipython",
    "version": 3
   },
   "file_extension": ".py",
   "mimetype": "text/x-python",
   "name": "python",
   "nbconvert_exporter": "python",
   "pygments_lexer": "ipython3",
   "version": "3.13.3"
  }
 },
 "nbformat": 4,
 "nbformat_minor": 5
}
