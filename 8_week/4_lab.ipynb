{
 "cells": [
  {
   "cell_type": "markdown",
   "id": "c56c3ee7",
   "metadata": {},
   "source": [
    "#### **First we'll polish off 2 more simple agents:**  \n",
    "* The **Messaging Agent** to send push notifications  \n",
    "* The **Planning Agent** to coordinate activities    \n",
    "\n",
    "Then we'll put it all together into an Agentic Framework."
   ]
  },
  {
   "cell_type": "code",
   "execution_count": 1,
   "id": "37b6c0e8",
   "metadata": {},
   "outputs": [],
   "source": [
    "from dotenv import load_dotenv\n",
    "from agents.messaging_agent import MessagingAgent"
   ]
  },
  {
   "cell_type": "code",
   "execution_count": 3,
   "id": "e2f33c31",
   "metadata": {},
   "outputs": [],
   "source": [
    "load_dotenv(override=True)\n",
    "DB = \"products_vectorstore\""
   ]
  },
  {
   "cell_type": "code",
   "execution_count": 4,
   "id": "bcc9be9f",
   "metadata": {},
   "outputs": [],
   "source": [
    "agent = MessagingAgent()"
   ]
  },
  {
   "cell_type": "code",
   "execution_count": 6,
   "id": "eaa9280b",
   "metadata": {},
   "outputs": [],
   "source": [
    "agent.push(\"MASSIVE NEWS!!!\")"
   ]
  },
  {
   "cell_type": "code",
   "execution_count": null,
   "id": "c80913ee",
   "metadata": {},
   "outputs": [],
   "source": [
    "import chromadb\n",
    "\n",
    "DB = \"products_vectorstore\"\n",
    "client = chromadb.PersistentClient(path=DB)\n",
    "collection = client.get_or_create_collection('products')\n",
    "\n",
    "from agents.planning_agent import PlanningAgent"
   ]
  },
  {
   "cell_type": "code",
   "execution_count": 8,
   "id": "d0a0e4e4",
   "metadata": {},
   "outputs": [],
   "source": [
    "planner = PlanningAgent(collection)"
   ]
  },
  {
   "cell_type": "code",
   "execution_count": 9,
   "id": "e3e455e4",
   "metadata": {},
   "outputs": [
    {
     "data": {
      "text/plain": [
       "Opportunity(deal=Deal(product_description='The Samsung Odyssey G7 is a 28-inch 4K gaming monitor that features a stunning 3840 x 2160 resolution and a rapid 1ms response time, enhancing your gaming experience. It is compatible with AMD FreeSync Premium Pro and G-Sync technologies, offering fluid gameplay without screen tearing. The monitor has multiple connectivity options, including DisplayPort and HDMI ports, ensuring you can connect your gaming setup easily. With its sleek design and impressive performance, it is an excellent choice for avid gamers.', price=299.0, url='https://www.dealnews.com/products/Samsung/Samsung-Odyssey-G7-28-4-K-Free-Sync-Gaming-Monitor/466856.html?iref=rss-c39'), estimate=698.8635874689077, discount=399.86358746890767)"
      ]
     },
     "execution_count": 9,
     "metadata": {},
     "output_type": "execute_result"
    }
   ],
   "source": [
    "planner.plan()"
   ]
  },
  {
   "cell_type": "code",
   "execution_count": null,
   "id": "9a118168",
   "metadata": {},
   "outputs": [],
   "source": []
  }
 ],
 "metadata": {
  "kernelspec": {
   "display_name": "LLM_Engineering",
   "language": "python",
   "name": "python3"
  },
  "language_info": {
   "codemirror_mode": {
    "name": "ipython",
    "version": 3
   },
   "file_extension": ".py",
   "mimetype": "text/x-python",
   "name": "python",
   "nbconvert_exporter": "python",
   "pygments_lexer": "ipython3",
   "version": "3.13.3"
  }
 },
 "nbformat": 4,
 "nbformat_minor": 5
}
