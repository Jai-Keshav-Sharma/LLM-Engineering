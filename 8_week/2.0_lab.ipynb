{
 "cells": [
  {
   "cell_type": "markdown",
   "id": "84d05d96",
   "metadata": {},
   "source": [
    "1. This Notebook: Create a RAG database with our 400,000 training data\n",
    "2. Day 2.1 Notebook: Visualization in 2D\n",
    "3. Day 2.2 Notebook: Visualization in 3D\n",
    "4. Day 2.3 Notebook: Build and Test a RAG pipeline. \n",
    "5. Day 2.4 Notebook: (a) Bring back our Randon Forest Pricer, (b) Create a Ensemble Pricer that allows contributions from all the pricers"
   ]
  },
  {
   "cell_type": "code",
   "execution_count": 2,
   "id": "daaf285c",
   "metadata": {},
   "outputs": [],
   "source": [
    "import os\n",
    "import re\n",
    "import math\n",
    "import json\n",
    "from tqdm import tqdm\n",
    "import random\n",
    "from dotenv import load_dotenv\n",
    "from huggingface_hub import login\n",
    "import numpy as np\n",
    "import pickle\n",
    "from sentence_transformers import SentenceTransformer\n",
    "from datasets import load_dataset\n",
    "import chromadb\n",
    "from items import Item\n",
    "from sklearn.manifold import TSNE\n",
    "import plotly.graph_objects as go"
   ]
  },
  {
   "cell_type": "code",
   "execution_count": 9,
   "id": "0e93ae7e",
   "metadata": {},
   "outputs": [],
   "source": [
    "DB = \"products_vectorstore\""
   ]
  },
  {
   "cell_type": "code",
   "execution_count": 3,
   "id": "60e1b693",
   "metadata": {},
   "outputs": [
    {
     "name": "stderr",
     "output_type": "stream",
     "text": [
      "Note: Environment variable`HF_TOKEN` is set and is the current active token independently from the token you've just configured.\n"
     ]
    }
   ],
   "source": [
    "load_dotenv(override=True)\n",
    "\n",
    "hf_token = os.getenv(\"HF_TOKEN\")\n",
    "login(hf_token, add_to_git_credential=True)"
   ]
  },
  {
   "cell_type": "code",
   "execution_count": 5,
   "id": "effc2439",
   "metadata": {},
   "outputs": [],
   "source": [
    "# Loading the pickle files\n",
    "\n",
    "with open('train.pkl', 'rb') as file:\n",
    "    train = pickle.load(file)"
   ]
  },
  {
   "cell_type": "markdown",
   "id": "aa9dd90e",
   "metadata": {},
   "source": [
    "### Now creating a Chroma Datastore  \n",
    "In week 5, we created a Chroma datastore with a 123 documents representing chunks of objects from our fictional company Insurellm.    \n",
    "  \n",
    "\n",
    "Now we will create a Chroma datastore with 400,000 products from our training dataset! It's getting real!!    \n",
    "  \n",
    "    \n",
    "    \n",
    "Note that we won't be using LangChain, but thr API is very straightforward and consistent with before."
   ]
  },
  {
   "cell_type": "code",
   "execution_count": 10,
   "id": "fc12442c",
   "metadata": {},
   "outputs": [],
   "source": [
    "client = chromadb.PersistentClient(path=DB)"
   ]
  },
  {
   "cell_type": "code",
   "execution_count": 11,
   "id": "87766451",
   "metadata": {},
   "outputs": [],
   "source": [
    "# Check if the collection exixts, and delete if it does\n",
    "\n",
    "collection_name = \"products\"\n",
    "existing_collection_names = [collection.name for collection in client.list_collections()]\n",
    "if collection_name in existing_collection_names:\n",
    "    client.delete_collection(collection_name)\n",
    "    print(f\"Deleted existing collection: {collection_name}\")\n",
    "\n",
    "collection = client.create_collection(collection_name)\n"
   ]
  },
  {
   "cell_type": "markdown",
   "id": "761c1529",
   "metadata": {},
   "source": [
    "### **Introducing the SentenceTransformer**  \n",
    "The all-MiniLM is a very useful model from HuggingFace that maps sentences & paragraphs to a 384 dimensional dense vector space and is ideal for tasks like semantic search.  \n",
    "  \n",
    "https://huggingface.co/sentence-transformers/all-MiniLM-L6-v2\n",
    "\n",
    "It can run pretty quickly locally.  \n",
    "Last time we used OpenAI's Enbeddings Model to produce vector embeddings. Benefits compared to OpenAI embeddings: \n",
    "* It's free and fast.  \n",
    "* We can run it locally, so the data never leaves our box - might be useful while building a personal RAG."
   ]
  },
  {
   "cell_type": "code",
   "execution_count": 12,
   "id": "663e13a3",
   "metadata": {},
   "outputs": [],
   "source": [
    "model = SentenceTransformer(\"sentence-transformers/all-MiniLM-L6-v2\")"
   ]
  },
  {
   "cell_type": "code",
   "execution_count": 14,
   "id": "1eff7232",
   "metadata": {},
   "outputs": [],
   "source": [
    "# Pass in a list of texts, get back an array of numpy vectors\n",
    "\n",
    "vector = model.encode([\"Well hi there\"])[0]"
   ]
  },
  {
   "cell_type": "code",
   "execution_count": null,
   "id": "cbc227d2",
   "metadata": {},
   "outputs": [
    {
     "data": {
      "text/plain": [
       "384"
      ]
     },
     "execution_count": 16,
     "metadata": {},
     "output_type": "execute_result"
    }
   ],
   "source": [
    "# a 384 dimensional vector\n",
    "\n",
    "len(vector)"
   ]
  },
  {
   "cell_type": "markdown",
   "id": "d2d3cbae",
   "metadata": {},
   "source": [
    "Making embeddings "
   ]
  },
  {
   "cell_type": "code",
   "execution_count": 17,
   "id": "894443a0",
   "metadata": {},
   "outputs": [],
   "source": [
    "def description(item): \n",
    "    text = item.prompt.replace(\"How much does this cost to the nearest dollar?\\n\\n\", \"\")\n",
    "    return text.split(\"\\n\\nPrice is $\")[0]"
   ]
  },
  {
   "cell_type": "code",
   "execution_count": 20,
   "id": "e2e7e4f2",
   "metadata": {},
   "outputs": [
    {
     "name": "stdout",
     "output_type": "stream",
     "text": [
      "Delphi FG0166 Fuel Pump Module\n",
      "Delphi brings 80 years of OE Heritage into each Delphi pump, ensuring quality and fitment for each Delphi part. Part is validated, tested and matched to the right vehicle application Delphi brings 80 years of OE Heritage into each Delphi assembly, ensuring quality and fitment for each Delphi part Always be sure to check and clean fuel tank to avoid unnecessary returns Rigorous OE-testing ensures the pump can withstand extreme temperatures Brand Delphi, Fit Type Vehicle Specific Fit, Dimensions LxWxH 19.7 x 7.7 x 5.1 inches, Weight 2.2 Pounds, Auto Part Position Unknown, Operation Mode Mechanical, Manufacturer Delphi, Model FUEL PUMP, Dimensions 19.7\n"
     ]
    }
   ],
   "source": [
    "print(description(train[0]))"
   ]
  },
  {
   "cell_type": "markdown",
   "id": "c6516182",
   "metadata": {},
   "source": [
    "#### **Populating the Vectorstore**\n"
   ]
  },
  {
   "cell_type": "markdown",
   "id": "1eb3269d",
   "metadata": {},
   "source": [
    "Processing in batches of 1000 items to avoid system crash due to memory limits !!"
   ]
  },
  {
   "cell_type": "code",
   "execution_count": 21,
   "id": "43d3b8fc",
   "metadata": {},
   "outputs": [
    {
     "name": "stderr",
     "output_type": "stream",
     "text": [
      "100%|██████████| 400/400 [22:31<00:00,  3.38s/it]\n"
     ]
    }
   ],
   "source": [
    "for i in tqdm(range(0, len(train), 1000)):\n",
    "    documents = [description(item) for item in train[i: i + 1000]]\n",
    "    vectors = model.encode(documents).astype(float).tolist()\n",
    "    metadatas = [{\"category\": item.category, \"price\": item.price} for item in train[i: i + 1000]]\n",
    "    ids = [f\"doc_{j}\" for j in range(i, i + 1000)]\n",
    "    collection.add(\n",
    "        ids=ids, \n",
    "        documents=documents, \n",
    "        embeddings=vectors, \n",
    "        metadatas=metadatas\n",
    "    )"
   ]
  }
 ],
 "metadata": {
  "kernelspec": {
   "display_name": "LLM_Engineering",
   "language": "python",
   "name": "python3"
  },
  "language_info": {
   "codemirror_mode": {
    "name": "ipython",
    "version": 3
   },
   "file_extension": ".py",
   "mimetype": "text/x-python",
   "name": "python",
   "nbconvert_exporter": "python",
   "pygments_lexer": "ipython3",
   "version": "3.13.3"
  }
 },
 "nbformat": 4,
 "nbformat_minor": 5
}
